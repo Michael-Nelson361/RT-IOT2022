{
 "cells": [
  {
   "cell_type": "markdown",
   "id": "ff3b4c38-7bbe-4557-b929-b766673a3646",
   "metadata": {},
   "source": [
    "# Modeling\n",
    "\n",
    "The end of the line, this section is comprised of the pre-processing stage, which entails additional feature selection and then encoding for modeling. The next stage is modeling, in which I will select a model that I think is the best for the the data.\n",
    "\n",
    "Let's get started!"
   ]
  },
  {
   "cell_type": "markdown",
   "id": "4f9b3101-26a7-48a7-ae4e-0c0c6d2d40ed",
   "metadata": {},
   "source": [
    "## Pre-processing"
   ]
  },
  {
   "cell_type": "code",
   "execution_count": 316,
   "id": "ff99dac8-dae3-4b43-ac1e-2693ee1faaa2",
   "metadata": {
    "tags": []
   },
   "outputs": [],
   "source": [
    "# start with imports\n",
    "import wrangle as w\n",
    "import explore as e\n",
    "\n",
    "# library imports\n",
    "import pandas as pd\n",
    "import numpy as np\n",
    "\n",
    "ranstate = 42"
   ]
  },
  {
   "cell_type": "code",
   "execution_count": 25,
   "id": "3487cb93-5c72-4946-b74b-aa7467ba20d9",
   "metadata": {
    "tags": []
   },
   "outputs": [
    {
     "name": "stdout",
     "output_type": "stream",
     "text": [
      "Reading from file...\n"
     ]
    }
   ],
   "source": [
    "# import the data\n",
    "train,validate,test = w.wrangle_iot2022()"
   ]
  },
  {
   "cell_type": "code",
   "execution_count": 27,
   "id": "eeac90fe-197d-43f0-9e1a-c764c649adea",
   "metadata": {
    "tags": []
   },
   "outputs": [
    {
     "data": {
      "text/plain": [
       "(86181, 84)"
      ]
     },
     "execution_count": 27,
     "metadata": {},
     "output_type": "execute_result"
    }
   ],
   "source": [
    "train.shape"
   ]
  },
  {
   "cell_type": "markdown",
   "id": "b002e75c-04b6-4c28-9e1b-889ff730e794",
   "metadata": {},
   "source": [
    "### Encoding"
   ]
  },
  {
   "cell_type": "markdown",
   "id": "a9854324-0ee7-4b74-b3d3-dbf238e3277f",
   "metadata": {},
   "source": [
    "The first thing I need to encode the data. Since I will be primarily using SciKitLearn, the algorithms all require the data to be numerically encoded. For this, i will likely also be relying on some pre-built functions."
   ]
  },
  {
   "cell_type": "code",
   "execution_count": 144,
   "id": "1c7e1471-a2d6-467c-a5ce-448bef9f73b2",
   "metadata": {
    "tags": []
   },
   "outputs": [],
   "source": [
    "def encode_df(dframe,target):\n",
    "\t'''\n",
    "\tTakes a processed dataframe and encodes the object columns for usage in modeling.\n",
    "\t\tTakes a dataframe and a target variable (assuming the target variable is an object). Target variable keeps the thing the model is being trained on from splitting and altering it.\n",
    "\t\t!!! MAKE ME MORE DYNAMIC !!!\n",
    "\t- Add functionality to check if passed a list or dataframe\n",
    "\t- If dataframe, then run standard loop\n",
    "\t- If list then check if each item is a dataframe (checking for train/validate/test)\n",
    "\t- If list and each item is dataframe, then try loop on each dataframe\n",
    "\t- Otherwise return an error\n",
    "\t'''\n",
    "\tdf = dframe.copy()\n",
    "\t# Get the object columns from the dataframe\n",
    "\tobj_col = [col for col in df.columns if df[col].dtype == 'O']\n",
    "\t\t# remove target variable\n",
    "\tobj_col.remove(target)\n",
    "\t\t# Begin encoding the object columns\n",
    "\tfor col in obj_col:\n",
    "\t\t# Grab current column dummies\n",
    "\t\tdummies = pd.get_dummies(df[col],drop_first=True)\n",
    "\t\t\t\t# concatenate the names in a descriptive manner\n",
    "\t\tdummies.columns = [col+'_is_'+column for column in dummies.columns]\n",
    "\t\t# add these new columns to the dataframe\n",
    "\t\tfor column in dummies.columns:\n",
    "\t\t\tdf[column] = dummies[column].astype(float)\n",
    "\t\t\t\t# Drop the old columns from the dataframe\n",
    "\t\tdf = df.drop(columns=col)\n",
    "\treturn df "
   ]
  },
  {
   "cell_type": "code",
   "execution_count": 60,
   "id": "47b26c22-eadf-4dd1-bacc-fde9ac2bb954",
   "metadata": {
    "tags": []
   },
   "outputs": [],
   "source": [
    "# Encode all of the dataframes simultaneously\n",
    "encoded = [encode_df(df,\"Attack_type\") for df in [train,validate,test]]"
   ]
  },
  {
   "cell_type": "code",
   "execution_count": 68,
   "id": "e3c701eb-4313-49ea-9a08-bdac58605a79",
   "metadata": {
    "tags": []
   },
   "outputs": [
    {
     "name": "stdout",
     "output_type": "stream",
     "text": [
      "(86181, 93)\n",
      "(25855, 92)\n",
      "(11081, 92)\n"
     ]
    },
    {
     "data": {
      "text/plain": [
       "[None, None, None]"
      ]
     },
     "execution_count": 68,
     "metadata": {},
     "output_type": "execute_result"
    }
   ],
   "source": [
    "[print(df.shape) for df in encoded]"
   ]
  },
  {
   "cell_type": "markdown",
   "id": "26054bac-3a3f-4456-921e-d902367beaf4",
   "metadata": {},
   "source": [
    "Well that's unusual. Why are validate and test missing a column?"
   ]
  },
  {
   "cell_type": "code",
   "execution_count": 71,
   "id": "46ddc3c3-2826-4b1b-8a7a-6673b90540dd",
   "metadata": {
    "tags": []
   },
   "outputs": [
    {
     "name": "stdout",
     "output_type": "stream",
     "text": [
      "(86181, 84)\n",
      "(25855, 84)\n",
      "(11081, 84)\n"
     ]
    },
    {
     "data": {
      "text/plain": [
       "[None, None, None]"
      ]
     },
     "execution_count": 71,
     "metadata": {},
     "output_type": "execute_result"
    }
   ],
   "source": [
    "[print(df.shape) for df in [train,validate,test]]"
   ]
  },
  {
   "cell_type": "markdown",
   "id": "6d72d656-f60a-4ade-8e0f-a244f0bdbef5",
   "metadata": {},
   "source": [
    "I can see that I'm losing a column during the encoding process."
   ]
  },
  {
   "cell_type": "code",
   "execution_count": 66,
   "id": "f6a076b0-2ebe-44bd-94e5-c4bd18871d79",
   "metadata": {
    "tags": []
   },
   "outputs": [
    {
     "data": {
      "text/plain": [
       "Index(['id.orig_p', 'id.resp_p', 'flow_duration', 'fwd_pkts_tot',\n",
       "       'bwd_pkts_tot', 'fwd_data_pkts_tot', 'bwd_data_pkts_tot',\n",
       "       'fwd_pkts_per_sec', 'bwd_pkts_per_sec', 'flow_pkts_per_sec',\n",
       "       'down_up_ratio', 'fwd_header_size_tot', 'fwd_header_size_min',\n",
       "       'fwd_header_size_max', 'bwd_header_size_tot', 'bwd_header_size_min',\n",
       "       'bwd_header_size_max', 'flow_FIN_flag_count', 'flow_SYN_flag_count',\n",
       "       'flow_RST_flag_count', 'fwd_PSH_flag_count', 'bwd_PSH_flag_count',\n",
       "       'flow_ACK_flag_count', 'fwd_URG_flag_count', 'flow_CWR_flag_count',\n",
       "       'flow_ECE_flag_count', 'fwd_pkts_payload.min', 'fwd_pkts_payload.max',\n",
       "       'fwd_pkts_payload.tot', 'fwd_pkts_payload.avg', 'fwd_pkts_payload.std',\n",
       "       'bwd_pkts_payload.min', 'bwd_pkts_payload.max', 'bwd_pkts_payload.tot',\n",
       "       'bwd_pkts_payload.avg', 'bwd_pkts_payload.std', 'flow_pkts_payload.min',\n",
       "       'flow_pkts_payload.max', 'flow_pkts_payload.tot',\n",
       "       'flow_pkts_payload.avg', 'flow_pkts_payload.std', 'fwd_iat.min',\n",
       "       'fwd_iat.max', 'fwd_iat.tot', 'fwd_iat.avg', 'fwd_iat.std',\n",
       "       'bwd_iat.min', 'bwd_iat.max', 'bwd_iat.tot', 'bwd_iat.avg',\n",
       "       'bwd_iat.std', 'flow_iat.min', 'flow_iat.max', 'flow_iat.tot',\n",
       "       'flow_iat.avg', 'flow_iat.std', 'payload_bytes_per_second',\n",
       "       'fwd_subflow_pkts', 'bwd_subflow_pkts', 'fwd_subflow_bytes',\n",
       "       'bwd_subflow_bytes', 'fwd_bulk_bytes', 'bwd_bulk_bytes',\n",
       "       'fwd_bulk_packets', 'bwd_bulk_packets', 'fwd_bulk_rate',\n",
       "       'bwd_bulk_rate', 'active.min', 'active.max', 'active.tot', 'active.avg',\n",
       "       'active.std', 'idle.min', 'idle.max', 'idle.tot', 'idle.avg',\n",
       "       'idle.std', 'fwd_init_window_size', 'bwd_init_window_size',\n",
       "       'fwd_last_window_size', 'Attack_type', 'proto_is_tcp', 'proto_is_udp',\n",
       "       'service_is_dns', 'service_is_http', 'service_is_irc',\n",
       "       'service_is_mqtt', 'service_is_none', 'service_is_ntp',\n",
       "       'service_is_ssh', 'service_is_ssl', 'traffic_type_is_Normal'],\n",
       "      dtype='object')"
      ]
     },
     "execution_count": 66,
     "metadata": {},
     "output_type": "execute_result"
    }
   ],
   "source": [
    "encoded[1].columns"
   ]
  },
  {
   "cell_type": "code",
   "execution_count": 83,
   "id": "31cf1410-433d-4297-9827-74e24cc958e6",
   "metadata": {
    "tags": []
   },
   "outputs": [
    {
     "data": {
      "text/plain": [
       "{'service_is_radius'}"
      ]
     },
     "execution_count": 83,
     "metadata": {},
     "output_type": "execute_result"
    }
   ],
   "source": [
    "set(encoded[0].columns).symmetric_difference(set(encoded[1].columns))"
   ]
  },
  {
   "cell_type": "code",
   "execution_count": 85,
   "id": "b8a05b05-3490-4789-83e4-0ebd8450caa0",
   "metadata": {
    "tags": []
   },
   "outputs": [
    {
     "data": {
      "text/plain": [
       "{'service_is_radius'}"
      ]
     },
     "execution_count": 85,
     "metadata": {},
     "output_type": "execute_result"
    }
   ],
   "source": [
    "set(encoded[0].columns).symmetric_difference(set(encoded[2].columns))"
   ]
  },
  {
   "cell_type": "markdown",
   "id": "56cd7f24-1474-4811-bf80-487c68ba63ba",
   "metadata": {},
   "source": [
    "So in both, the 'service_is_radius' column is missing.\n",
    "\n",
    "What I'm going to do is adjust the function so that no columns are dropped and see what I get from that."
   ]
  },
  {
   "cell_type": "code",
   "execution_count": 146,
   "id": "d4aaac41-e7c4-47c1-9a04-b6eff0f1146e",
   "metadata": {
    "tags": []
   },
   "outputs": [],
   "source": [
    "def encode_df(dframe,target):\n",
    "\t'''\n",
    "\tTakes a processed dataframe and encodes the object columns for usage in modeling.\n",
    "\t\tTakes a dataframe and a target variable (assuming the target variable is an object). Target variable keeps the thing the model is being trained on from splitting and altering it.\n",
    "\t\t!!! MAKE ME MORE DYNAMIC !!!\n",
    "\t- Add functionality to check if passed a list or dataframe\n",
    "\t- If dataframe, then run standard loop\n",
    "\t- If list then check if each item is a dataframe (checking for train/validate/test)\n",
    "\t- If list and each item is dataframe, then try loop on each dataframe\n",
    "\t- Otherwise return an error\n",
    "\t'''\n",
    "\tdf = dframe.copy()\n",
    "\t# Get the object columns from the dataframe\n",
    "\tobj_col = [col for col in df.columns if df[col].dtype == 'O']\n",
    "\t\t# remove target variable\n",
    "\tobj_col.remove(target)\n",
    "\t\t# Begin encoding the object columns\n",
    "\tfor col in obj_col:\n",
    "\t\t# Grab current column dummies\n",
    "\t\tdummies = pd.get_dummies(df[col])\n",
    "\t\t\t\t# concatenate the names in a descriptive manner\n",
    "\t\tdummies.columns = [col+'_is_'+column for column in dummies.columns]\n",
    "\t\t# add these new columns to the dataframe\n",
    "\t\tfor column in dummies.columns:\n",
    "\t\t\tdf[column] = dummies[column].astype(float)\n",
    "\t\t\t\t# Drop the old columns from the dataframe\n",
    "\t\tdf = df.drop(columns=col)\n",
    "\treturn df "
   ]
  },
  {
   "cell_type": "code",
   "execution_count": 232,
   "id": "4d830ca5-2a47-4631-b69c-bb09d6d09e97",
   "metadata": {
    "tags": []
   },
   "outputs": [],
   "source": [
    "encoded = [encode_df(df.drop(['traffic_type'],axis=1),\"Attack_type\") for df in [train,validate,test]]"
   ]
  },
  {
   "cell_type": "code",
   "execution_count": 236,
   "id": "84d10b6b-5201-40ce-a0bd-016920c32962",
   "metadata": {
    "tags": []
   },
   "outputs": [
    {
     "name": "stdout",
     "output_type": "stream",
     "text": [
      "(86181, 94)\n",
      "(25855, 93)\n",
      "(11081, 93)\n"
     ]
    },
    {
     "data": {
      "text/plain": [
       "[None, None, None]"
      ]
     },
     "execution_count": 236,
     "metadata": {},
     "output_type": "execute_result"
    }
   ],
   "source": [
    "[print(df.shape) for df in encoded]"
   ]
  },
  {
   "cell_type": "markdown",
   "id": "cc4d8bef-56fe-4fca-94d9-71d7578db61c",
   "metadata": {},
   "source": [
    "Well that did nothing.\n",
    "\n",
    "I'll just build a function then that gets the columns, and if any are missing a column to isolate that column and add it, filling the values with 0."
   ]
  },
  {
   "cell_type": "code",
   "execution_count": 239,
   "id": "c72c1164-763b-43c6-b29b-f886ff97c314",
   "metadata": {
    "tags": []
   },
   "outputs": [],
   "source": [
    "def fill_missing_columns(df1, df2, df3):\n",
    "    # Step 1: Collect all unique columns from all three dataframes\n",
    "    all_columns = set(df1.columns) | set(df2.columns) | set(df3.columns)\n",
    "    \n",
    "    # Step 2: Find missing columns in each dataframe and add them\n",
    "    for df in (df1, df2, df3):\n",
    "        missing_columns = all_columns - set(df.columns)\n",
    "        for col in missing_columns:\n",
    "            df[col] = 0  # Add the missing column filled with zeros\n",
    "    \n",
    "    return df1, df2, df3"
   ]
  },
  {
   "cell_type": "code",
   "execution_count": 241,
   "id": "f6c36c36-85c5-451a-8f28-613d0668a0b5",
   "metadata": {
    "tags": []
   },
   "outputs": [],
   "source": [
    "encoded_fixed = fill_missing_columns(encoded[0],encoded[1],encoded[2])"
   ]
  },
  {
   "cell_type": "code",
   "execution_count": 243,
   "id": "b002c731-34d9-4cc7-bc08-8bf50726f231",
   "metadata": {
    "tags": []
   },
   "outputs": [
    {
     "name": "stdout",
     "output_type": "stream",
     "text": [
      "(86181, 94)\n",
      "(25855, 94)\n",
      "(11081, 94)\n"
     ]
    },
    {
     "data": {
      "text/plain": [
       "[None, None, None]"
      ]
     },
     "execution_count": 243,
     "metadata": {},
     "output_type": "execute_result"
    }
   ],
   "source": [
    "[print(df.shape) for df in encoded_fixed]"
   ]
  },
  {
   "cell_type": "markdown",
   "id": "e27692fe-96d1-4e35-9076-d35a833e6cd4",
   "metadata": {},
   "source": [
    "The next thing I want to do is to do an analysis on these. I'm going to revert to a graph I made back in wrangle for this."
   ]
  },
  {
   "cell_type": "code",
   "execution_count": 246,
   "id": "2b1f4bd1-015d-4c9d-904f-61106bfd96dc",
   "metadata": {
    "tags": []
   },
   "outputs": [],
   "source": [
    "import matplotlib.pyplot as plt\n",
    "import seaborn as sns"
   ]
  },
  {
   "cell_type": "code",
   "execution_count": 248,
   "id": "0ff26ccb-9d88-44ba-a848-f583e628043e",
   "metadata": {
    "tags": []
   },
   "outputs": [
    {
     "data": {
      "image/png": "[encoded data removed]",
      "text/plain": [
       "<Figure size 1300x1300 with 2 Axes>"
      ]
     },
     "metadata": {},
     "output_type": "display_data"
    }
   ],
   "source": [
    "plt.figure(figsize=(13,13))\n",
    "sns.heatmap(\n",
    "    encoded_fixed[0].drop([\"Attack_type\"],axis=1).corr()\n",
    ")\n",
    "plt.show()"
   ]
  },
  {
   "cell_type": "markdown",
   "id": "bb36169a-1e01-4a90-8945-ea3338356bce",
   "metadata": {},
   "source": [
    "### Isolate features and target variable"
   ]
  },
  {
   "cell_type": "markdown",
   "id": "ed9985d8-a28e-4525-99bd-3c8356c54353",
   "metadata": {},
   "source": [
    "At this point, I'm getting where I need to keep the features and target variable separate."
   ]
  },
  {
   "cell_type": "code",
   "execution_count": 252,
   "id": "deb16453-f08d-4b43-b1f9-0c95ce459f5f",
   "metadata": {
    "tags": []
   },
   "outputs": [],
   "source": [
    "X_set = [df.drop(\"Attack_type\",axis=1) for df in encoded_fixed]"
   ]
  },
  {
   "cell_type": "code",
   "execution_count": 254,
   "id": "2fbe1bdf-6772-43ee-a124-4663129de762",
   "metadata": {
    "tags": []
   },
   "outputs": [
    {
     "name": "stdout",
     "output_type": "stream",
     "text": [
      "(86181, 93)\n",
      "(25855, 93)\n",
      "(11081, 93)\n"
     ]
    },
    {
     "data": {
      "text/plain": [
       "[None, None, None]"
      ]
     },
     "execution_count": 254,
     "metadata": {},
     "output_type": "execute_result"
    }
   ],
   "source": [
    "[print(df.shape) for df in X_set]"
   ]
  },
  {
   "cell_type": "code",
   "execution_count": 256,
   "id": "4f843648-49a0-4546-9dc7-87022b75fb0d",
   "metadata": {
    "tags": []
   },
   "outputs": [],
   "source": [
    "y_set = [df[\"Attack_type\"] for df in encoded_fixed]"
   ]
  },
  {
   "cell_type": "code",
   "execution_count": 258,
   "id": "1feed40d-1c80-4179-9d5c-6d714bfc4e1d",
   "metadata": {
    "tags": []
   },
   "outputs": [
    {
     "name": "stdout",
     "output_type": "stream",
     "text": [
      "(86181,)\n",
      "(25855,)\n",
      "(11081,)\n"
     ]
    },
    {
     "data": {
      "text/plain": [
       "[None, None, None]"
      ]
     },
     "execution_count": 258,
     "metadata": {},
     "output_type": "execute_result"
    }
   ],
   "source": [
    "[print(df.shape) for df in y_set]"
   ]
  },
  {
   "cell_type": "markdown",
   "id": "c6b099e1-d59c-424d-9c5b-f8c328e8950d",
   "metadata": {},
   "source": [
    "### PCA"
   ]
  },
  {
   "cell_type": "code",
   "execution_count": 314,
   "id": "18c6517e-cbd1-458b-a40b-8c30a356e185",
   "metadata": {},
   "outputs": [],
   "source": [
    "from sklearn.decomposition import PCA"
   ]
  },
  {
   "cell_type": "code",
   "execution_count": 322,
   "id": "c4142dd5-6e5e-498b-9dcb-011a92ce7a77",
   "metadata": {
    "tags": []
   },
   "outputs": [],
   "source": [
    "pca = PCA(random_state=ranstate)"
   ]
  },
  {
   "cell_type": "code",
   "execution_count": 340,
   "id": "57e25bf6-4415-4da1-9461-f5fc407fdbb6",
   "metadata": {
    "tags": []
   },
   "outputs": [
    {
     "data": {
      "text/html": [
       "<div>\n",
       "<style scoped>\n",
       "    .dataframe tbody tr th:only-of-type {\n",
       "        vertical-align: middle;\n",
       "    }\n",
       "\n",
       "    .dataframe tbody tr th {\n",
       "        vertical-align: top;\n",
       "    }\n",
       "\n",
       "    .dataframe thead th {\n",
       "        text-align: right;\n",
       "    }\n",
       "</style>\n",
       "<table border=\"1\" class=\"dataframe\">\n",
       "  <thead>\n",
       "    <tr style=\"text-align: right;\">\n",
       "      <th></th>\n",
       "      <th>pca0</th>\n",
       "      <th>pca1</th>\n",
       "      <th>pca2</th>\n",
       "      <th>pca3</th>\n",
       "      <th>pca4</th>\n",
       "      <th>pca5</th>\n",
       "      <th>pca6</th>\n",
       "      <th>pca7</th>\n",
       "      <th>pca8</th>\n",
       "      <th>pca9</th>\n",
       "      <th>...</th>\n",
       "      <th>pca83</th>\n",
       "      <th>pca84</th>\n",
       "      <th>pca85</th>\n",
       "      <th>pca86</th>\n",
       "      <th>pca87</th>\n",
       "      <th>pca88</th>\n",
       "      <th>pca89</th>\n",
       "      <th>pca90</th>\n",
       "      <th>pca91</th>\n",
       "      <th>pca92</th>\n",
       "    </tr>\n",
       "  </thead>\n",
       "  <tbody>\n",
       "    <tr>\n",
       "      <th>0</th>\n",
       "      <td>-5.954315e+06</td>\n",
       "      <td>1.105558e+07</td>\n",
       "      <td>-2.479314e+06</td>\n",
       "      <td>4.626833e+06</td>\n",
       "      <td>255673.333964</td>\n",
       "      <td>71607.747637</td>\n",
       "      <td>-63221.836720</td>\n",
       "      <td>-137964.370670</td>\n",
       "      <td>23605.602297</td>\n",
       "      <td>32050.461402</td>\n",
       "      <td>...</td>\n",
       "      <td>0.000201</td>\n",
       "      <td>0.000217</td>\n",
       "      <td>-0.000019</td>\n",
       "      <td>0.000016</td>\n",
       "      <td>0.000021</td>\n",
       "      <td>0.000007</td>\n",
       "      <td>2.944637e-06</td>\n",
       "      <td>1.291634e-07</td>\n",
       "      <td>1.332980e-07</td>\n",
       "      <td>1.509337e-07</td>\n",
       "    </tr>\n",
       "    <tr>\n",
       "      <th>1</th>\n",
       "      <td>-5.965773e+06</td>\n",
       "      <td>9.217068e+06</td>\n",
       "      <td>-2.350419e+06</td>\n",
       "      <td>4.457896e+06</td>\n",
       "      <td>247691.669229</td>\n",
       "      <td>69405.170582</td>\n",
       "      <td>-61286.155713</td>\n",
       "      <td>-133738.972384</td>\n",
       "      <td>22881.626311</td>\n",
       "      <td>31065.848754</td>\n",
       "      <td>...</td>\n",
       "      <td>0.000749</td>\n",
       "      <td>0.000652</td>\n",
       "      <td>-0.000136</td>\n",
       "      <td>0.000044</td>\n",
       "      <td>-0.000009</td>\n",
       "      <td>0.000001</td>\n",
       "      <td>2.973378e-06</td>\n",
       "      <td>-1.870205e-08</td>\n",
       "      <td>1.068861e-06</td>\n",
       "      <td>-9.365199e-07</td>\n",
       "    </tr>\n",
       "    <tr>\n",
       "      <th>2</th>\n",
       "      <td>-5.770989e+06</td>\n",
       "      <td>4.047179e+07</td>\n",
       "      <td>-4.541622e+06</td>\n",
       "      <td>7.329784e+06</td>\n",
       "      <td>383377.540570</td>\n",
       "      <td>106834.280039</td>\n",
       "      <td>-94217.285711</td>\n",
       "      <td>-205529.025777</td>\n",
       "      <td>35148.206714</td>\n",
       "      <td>47709.766504</td>\n",
       "      <td>...</td>\n",
       "      <td>-0.003028</td>\n",
       "      <td>-0.002289</td>\n",
       "      <td>0.000289</td>\n",
       "      <td>0.000186</td>\n",
       "      <td>0.000083</td>\n",
       "      <td>-0.000002</td>\n",
       "      <td>1.780198e-08</td>\n",
       "      <td>2.662268e-10</td>\n",
       "      <td>-6.543326e-08</td>\n",
       "      <td>-1.208775e-07</td>\n",
       "    </tr>\n",
       "    <tr>\n",
       "      <th>3</th>\n",
       "      <td>-5.954315e+06</td>\n",
       "      <td>1.105558e+07</td>\n",
       "      <td>-2.479313e+06</td>\n",
       "      <td>4.626832e+06</td>\n",
       "      <td>255672.906441</td>\n",
       "      <td>71607.178725</td>\n",
       "      <td>-63222.376706</td>\n",
       "      <td>-137962.490215</td>\n",
       "      <td>23604.075533</td>\n",
       "      <td>32047.051575</td>\n",
       "      <td>...</td>\n",
       "      <td>0.000559</td>\n",
       "      <td>0.000502</td>\n",
       "      <td>-0.000095</td>\n",
       "      <td>0.000035</td>\n",
       "      <td>0.000002</td>\n",
       "      <td>0.000004</td>\n",
       "      <td>2.973616e-06</td>\n",
       "      <td>4.069938e-06</td>\n",
       "      <td>-1.071840e-07</td>\n",
       "      <td>4.717159e-08</td>\n",
       "    </tr>\n",
       "    <tr>\n",
       "      <th>4</th>\n",
       "      <td>-5.770989e+06</td>\n",
       "      <td>4.047179e+07</td>\n",
       "      <td>-4.541621e+06</td>\n",
       "      <td>7.329783e+06</td>\n",
       "      <td>383377.285633</td>\n",
       "      <td>106833.876931</td>\n",
       "      <td>-94217.662124</td>\n",
       "      <td>-205527.817976</td>\n",
       "      <td>35147.338801</td>\n",
       "      <td>47707.580356</td>\n",
       "      <td>...</td>\n",
       "      <td>-0.000967</td>\n",
       "      <td>0.002114</td>\n",
       "      <td>-0.002082</td>\n",
       "      <td>-0.000337</td>\n",
       "      <td>-0.000619</td>\n",
       "      <td>0.000051</td>\n",
       "      <td>-7.697361e-08</td>\n",
       "      <td>-1.210439e-07</td>\n",
       "      <td>-7.870528e-07</td>\n",
       "      <td>-5.594232e-07</td>\n",
       "    </tr>\n",
       "    <tr>\n",
       "      <th>...</th>\n",
       "      <td>...</td>\n",
       "      <td>...</td>\n",
       "      <td>...</td>\n",
       "      <td>...</td>\n",
       "      <td>...</td>\n",
       "      <td>...</td>\n",
       "      <td>...</td>\n",
       "      <td>...</td>\n",
       "      <td>...</td>\n",
       "      <td>...</td>\n",
       "      <td>...</td>\n",
       "      <td>...</td>\n",
       "      <td>...</td>\n",
       "      <td>...</td>\n",
       "      <td>...</td>\n",
       "      <td>...</td>\n",
       "      <td>...</td>\n",
       "      <td>...</td>\n",
       "      <td>...</td>\n",
       "      <td>...</td>\n",
       "      <td>...</td>\n",
       "    </tr>\n",
       "    <tr>\n",
       "      <th>86176</th>\n",
       "      <td>-5.919395e+06</td>\n",
       "      <td>1.665867e+07</td>\n",
       "      <td>-2.872133e+06</td>\n",
       "      <td>5.141681e+06</td>\n",
       "      <td>279996.202414</td>\n",
       "      <td>78317.760193</td>\n",
       "      <td>-69123.219926</td>\n",
       "      <td>-150832.972101</td>\n",
       "      <td>25805.064282</td>\n",
       "      <td>35035.767573</td>\n",
       "      <td>...</td>\n",
       "      <td>0.000156</td>\n",
       "      <td>0.000187</td>\n",
       "      <td>-0.000007</td>\n",
       "      <td>0.000014</td>\n",
       "      <td>0.000026</td>\n",
       "      <td>0.000007</td>\n",
       "      <td>3.100021e-06</td>\n",
       "      <td>-1.214531e-10</td>\n",
       "      <td>-5.844514e-10</td>\n",
       "      <td>-5.614477e-10</td>\n",
       "    </tr>\n",
       "    <tr>\n",
       "      <th>86177</th>\n",
       "      <td>-6.117273e+06</td>\n",
       "      <td>-1.509216e+07</td>\n",
       "      <td>-6.461545e+05</td>\n",
       "      <td>2.224210e+06</td>\n",
       "      <td>142164.314152</td>\n",
       "      <td>40295.001391</td>\n",
       "      <td>-35678.009044</td>\n",
       "      <td>-77910.810540</td>\n",
       "      <td>13343.684292</td>\n",
       "      <td>18124.968860</td>\n",
       "      <td>...</td>\n",
       "      <td>-0.000138</td>\n",
       "      <td>-0.000077</td>\n",
       "      <td>0.000042</td>\n",
       "      <td>-0.000004</td>\n",
       "      <td>0.000025</td>\n",
       "      <td>0.000005</td>\n",
       "      <td>2.360757e-06</td>\n",
       "      <td>-7.885077e-11</td>\n",
       "      <td>-7.385812e-10</td>\n",
       "      <td>-3.863007e-10</td>\n",
       "    </tr>\n",
       "    <tr>\n",
       "      <th>86178</th>\n",
       "      <td>-5.895649e+06</td>\n",
       "      <td>2.046877e+07</td>\n",
       "      <td>-3.139250e+06</td>\n",
       "      <td>5.491776e+06</td>\n",
       "      <td>296535.083665</td>\n",
       "      <td>82880.122865</td>\n",
       "      <td>-73136.172547</td>\n",
       "      <td>-159581.880797</td>\n",
       "      <td>27299.562471</td>\n",
       "      <td>37063.351333</td>\n",
       "      <td>...</td>\n",
       "      <td>0.000388</td>\n",
       "      <td>0.000375</td>\n",
       "      <td>-0.000055</td>\n",
       "      <td>0.000027</td>\n",
       "      <td>0.000016</td>\n",
       "      <td>0.000006</td>\n",
       "      <td>3.186895e-06</td>\n",
       "      <td>-8.444409e-11</td>\n",
       "      <td>-1.333687e-09</td>\n",
       "      <td>-9.597293e-11</td>\n",
       "    </tr>\n",
       "    <tr>\n",
       "      <th>86179</th>\n",
       "      <td>-6.010724e+06</td>\n",
       "      <td>2.004439e+06</td>\n",
       "      <td>-1.844759e+06</td>\n",
       "      <td>3.795156e+06</td>\n",
       "      <td>216382.067541</td>\n",
       "      <td>60768.714734</td>\n",
       "      <td>-53687.835259</td>\n",
       "      <td>-117176.838435</td>\n",
       "      <td>20053.327278</td>\n",
       "      <td>27229.828135</td>\n",
       "      <td>...</td>\n",
       "      <td>0.000104</td>\n",
       "      <td>0.000132</td>\n",
       "      <td>-0.000002</td>\n",
       "      <td>0.000010</td>\n",
       "      <td>0.000021</td>\n",
       "      <td>0.000006</td>\n",
       "      <td>-5.497736e-05</td>\n",
       "      <td>1.650689e-11</td>\n",
       "      <td>-3.199081e-10</td>\n",
       "      <td>-8.593361e-11</td>\n",
       "    </tr>\n",
       "    <tr>\n",
       "      <th>86180</th>\n",
       "      <td>-6.550130e+06</td>\n",
       "      <td>-8.454709e+07</td>\n",
       "      <td>4.223178e+06</td>\n",
       "      <td>-4.157763e+06</td>\n",
       "      <td>-159350.246189</td>\n",
       "      <td>-42882.119645</td>\n",
       "      <td>37487.998475</td>\n",
       "      <td>81618.564425</td>\n",
       "      <td>-13920.847728</td>\n",
       "      <td>-18877.289190</td>\n",
       "      <td>...</td>\n",
       "      <td>0.000399</td>\n",
       "      <td>0.000287</td>\n",
       "      <td>-0.000100</td>\n",
       "      <td>0.000018</td>\n",
       "      <td>-0.000040</td>\n",
       "      <td>-0.000008</td>\n",
       "      <td>7.316893e-07</td>\n",
       "      <td>4.350716e-11</td>\n",
       "      <td>-9.806423e-10</td>\n",
       "      <td>-3.897753e-10</td>\n",
       "    </tr>\n",
       "  </tbody>\n",
       "</table>\n",
       "<p>86181 rows × 93 columns</p>\n",
       "</div>"
      ],
      "text/plain": [
       "               pca0          pca1          pca2          pca3           pca4  \\\n",
       "0     -5.954315e+06  1.105558e+07 -2.479314e+06  4.626833e+06  255673.333964   \n",
       "1     -5.965773e+06  9.217068e+06 -2.350419e+06  4.457896e+06  247691.669229   \n",
       "2     -5.770989e+06  4.047179e+07 -4.541622e+06  7.329784e+06  383377.540570   \n",
       "3     -5.954315e+06  1.105558e+07 -2.479313e+06  4.626832e+06  255672.906441   \n",
       "4     -5.770989e+06  4.047179e+07 -4.541621e+06  7.329783e+06  383377.285633   \n",
       "...             ...           ...           ...           ...            ...   \n",
       "86176 -5.919395e+06  1.665867e+07 -2.872133e+06  5.141681e+06  279996.202414   \n",
       "86177 -6.117273e+06 -1.509216e+07 -6.461545e+05  2.224210e+06  142164.314152   \n",
       "86178 -5.895649e+06  2.046877e+07 -3.139250e+06  5.491776e+06  296535.083665   \n",
       "86179 -6.010724e+06  2.004439e+06 -1.844759e+06  3.795156e+06  216382.067541   \n",
       "86180 -6.550130e+06 -8.454709e+07  4.223178e+06 -4.157763e+06 -159350.246189   \n",
       "\n",
       "                pca5          pca6           pca7          pca8          pca9  \\\n",
       "0       71607.747637 -63221.836720 -137964.370670  23605.602297  32050.461402   \n",
       "1       69405.170582 -61286.155713 -133738.972384  22881.626311  31065.848754   \n",
       "2      106834.280039 -94217.285711 -205529.025777  35148.206714  47709.766504   \n",
       "3       71607.178725 -63222.376706 -137962.490215  23604.075533  32047.051575   \n",
       "4      106833.876931 -94217.662124 -205527.817976  35147.338801  47707.580356   \n",
       "...              ...           ...            ...           ...           ...   \n",
       "86176   78317.760193 -69123.219926 -150832.972101  25805.064282  35035.767573   \n",
       "86177   40295.001391 -35678.009044  -77910.810540  13343.684292  18124.968860   \n",
       "86178   82880.122865 -73136.172547 -159581.880797  27299.562471  37063.351333   \n",
       "86179   60768.714734 -53687.835259 -117176.838435  20053.327278  27229.828135   \n",
       "86180  -42882.119645  37487.998475   81618.564425 -13920.847728 -18877.289190   \n",
       "\n",
       "       ...     pca83     pca84     pca85     pca86     pca87     pca88  \\\n",
       "0      ...  0.000201  0.000217 -0.000019  0.000016  0.000021  0.000007   \n",
       "1      ...  0.000749  0.000652 -0.000136  0.000044 -0.000009  0.000001   \n",
       "2      ... -0.003028 -0.002289  0.000289  0.000186  0.000083 -0.000002   \n",
       "3      ...  0.000559  0.000502 -0.000095  0.000035  0.000002  0.000004   \n",
       "4      ... -0.000967  0.002114 -0.002082 -0.000337 -0.000619  0.000051   \n",
       "...    ...       ...       ...       ...       ...       ...       ...   \n",
       "86176  ...  0.000156  0.000187 -0.000007  0.000014  0.000026  0.000007   \n",
       "86177  ... -0.000138 -0.000077  0.000042 -0.000004  0.000025  0.000005   \n",
       "86178  ...  0.000388  0.000375 -0.000055  0.000027  0.000016  0.000006   \n",
       "86179  ...  0.000104  0.000132 -0.000002  0.000010  0.000021  0.000006   \n",
       "86180  ...  0.000399  0.000287 -0.000100  0.000018 -0.000040 -0.000008   \n",
       "\n",
       "              pca89         pca90         pca91         pca92  \n",
       "0      2.944637e-06  1.291634e-07  1.332980e-07  1.509337e-07  \n",
       "1      2.973378e-06 -1.870205e-08  1.068861e-06 -9.365199e-07  \n",
       "2      1.780198e-08  2.662268e-10 -6.543326e-08 -1.208775e-07  \n",
       "3      2.973616e-06  4.069938e-06 -1.071840e-07  4.717159e-08  \n",
       "4     -7.697361e-08 -1.210439e-07 -7.870528e-07 -5.594232e-07  \n",
       "...             ...           ...           ...           ...  \n",
       "86176  3.100021e-06 -1.214531e-10 -5.844514e-10 -5.614477e-10  \n",
       "86177  2.360757e-06 -7.885077e-11 -7.385812e-10 -3.863007e-10  \n",
       "86178  3.186895e-06 -8.444409e-11 -1.333687e-09 -9.597293e-11  \n",
       "86179 -5.497736e-05  1.650689e-11 -3.199081e-10 -8.593361e-11  \n",
       "86180  7.316893e-07  4.350716e-11 -9.806423e-10 -3.897753e-10  \n",
       "\n",
       "[86181 rows x 93 columns]"
      ]
     },
     "execution_count": 340,
     "metadata": {},
     "output_type": "execute_result"
    }
   ],
   "source": [
    "pd.DataFrame(pca.fit_transform(X_set[0],y_set[0]),columns=pca.get_feature_names_out())"
   ]
  },
  {
   "cell_type": "code",
   "execution_count": 449,
   "id": "f228910f-9733-4599-b13b-3b868f887897",
   "metadata": {
    "tags": []
   },
   "outputs": [],
   "source": [
    "def pca_transform(X,y,ranstate=42):\n",
    "    \"\"\"\n",
    "    Return \n",
    "    \n",
    "    Parameters:\n",
    "    -----------\n",
    "    - X: DataFrame\n",
    "        Data to be transformed\n",
    "    - y: Series\n",
    "        Target variable\n",
    "    - ranstate: Int (Optional)\n",
    "        Default = 42\n",
    "    \n",
    "    Returns:\n",
    "    --------\n",
    "    \n",
    "    \"\"\"\n",
    "    \n",
    "    # build the selector\n",
    "    pca = PCA(random_state=ranstate)\n",
    "    \n",
    "    # export as dataframe\n",
    "    df = pd.DataFrame(pca.fit_transform(X,y),columns=pca.get_feature_names_out())\n",
    "    \n",
    "    return df\n",
    "    "
   ]
  },
  {
   "cell_type": "code",
   "execution_count": 451,
   "id": "131bcbae-118c-455e-9faa-a43c6b076568",
   "metadata": {
    "tags": []
   },
   "outputs": [
    {
     "data": {
      "text/html": [
       "<div>\n",
       "<style scoped>\n",
       "    .dataframe tbody tr th:only-of-type {\n",
       "        vertical-align: middle;\n",
       "    }\n",
       "\n",
       "    .dataframe tbody tr th {\n",
       "        vertical-align: top;\n",
       "    }\n",
       "\n",
       "    .dataframe thead th {\n",
       "        text-align: right;\n",
       "    }\n",
       "</style>\n",
       "<table border=\"1\" class=\"dataframe\">\n",
       "  <thead>\n",
       "    <tr style=\"text-align: right;\">\n",
       "      <th></th>\n",
       "      <th>pca0</th>\n",
       "      <th>pca1</th>\n",
       "      <th>pca2</th>\n",
       "      <th>pca3</th>\n",
       "      <th>pca4</th>\n",
       "      <th>pca5</th>\n",
       "      <th>pca6</th>\n",
       "      <th>pca7</th>\n",
       "      <th>pca8</th>\n",
       "      <th>pca9</th>\n",
       "      <th>...</th>\n",
       "      <th>pca83</th>\n",
       "      <th>pca84</th>\n",
       "      <th>pca85</th>\n",
       "      <th>pca86</th>\n",
       "      <th>pca87</th>\n",
       "      <th>pca88</th>\n",
       "      <th>pca89</th>\n",
       "      <th>pca90</th>\n",
       "      <th>pca91</th>\n",
       "      <th>pca92</th>\n",
       "    </tr>\n",
       "  </thead>\n",
       "  <tbody>\n",
       "    <tr>\n",
       "      <th>0</th>\n",
       "      <td>-5.954315e+06</td>\n",
       "      <td>1.105558e+07</td>\n",
       "      <td>-2.479314e+06</td>\n",
       "      <td>4.626833e+06</td>\n",
       "      <td>255673.333964</td>\n",
       "      <td>71607.747637</td>\n",
       "      <td>-63221.836720</td>\n",
       "      <td>-137964.370670</td>\n",
       "      <td>23605.602297</td>\n",
       "      <td>32050.461402</td>\n",
       "      <td>...</td>\n",
       "      <td>0.000201</td>\n",
       "      <td>0.000217</td>\n",
       "      <td>-0.000019</td>\n",
       "      <td>0.000016</td>\n",
       "      <td>0.000021</td>\n",
       "      <td>0.000007</td>\n",
       "      <td>2.944637e-06</td>\n",
       "      <td>1.291634e-07</td>\n",
       "      <td>1.332980e-07</td>\n",
       "      <td>1.509337e-07</td>\n",
       "    </tr>\n",
       "    <tr>\n",
       "      <th>1</th>\n",
       "      <td>-5.965773e+06</td>\n",
       "      <td>9.217068e+06</td>\n",
       "      <td>-2.350419e+06</td>\n",
       "      <td>4.457896e+06</td>\n",
       "      <td>247691.669229</td>\n",
       "      <td>69405.170582</td>\n",
       "      <td>-61286.155713</td>\n",
       "      <td>-133738.972384</td>\n",
       "      <td>22881.626311</td>\n",
       "      <td>31065.848754</td>\n",
       "      <td>...</td>\n",
       "      <td>0.000749</td>\n",
       "      <td>0.000652</td>\n",
       "      <td>-0.000136</td>\n",
       "      <td>0.000044</td>\n",
       "      <td>-0.000009</td>\n",
       "      <td>0.000001</td>\n",
       "      <td>2.973378e-06</td>\n",
       "      <td>-1.870205e-08</td>\n",
       "      <td>1.068861e-06</td>\n",
       "      <td>-9.365199e-07</td>\n",
       "    </tr>\n",
       "    <tr>\n",
       "      <th>2</th>\n",
       "      <td>-5.770989e+06</td>\n",
       "      <td>4.047179e+07</td>\n",
       "      <td>-4.541622e+06</td>\n",
       "      <td>7.329784e+06</td>\n",
       "      <td>383377.540570</td>\n",
       "      <td>106834.280039</td>\n",
       "      <td>-94217.285711</td>\n",
       "      <td>-205529.025777</td>\n",
       "      <td>35148.206714</td>\n",
       "      <td>47709.766504</td>\n",
       "      <td>...</td>\n",
       "      <td>-0.003028</td>\n",
       "      <td>-0.002289</td>\n",
       "      <td>0.000289</td>\n",
       "      <td>0.000186</td>\n",
       "      <td>0.000083</td>\n",
       "      <td>-0.000002</td>\n",
       "      <td>1.780198e-08</td>\n",
       "      <td>2.662268e-10</td>\n",
       "      <td>-6.543326e-08</td>\n",
       "      <td>-1.208775e-07</td>\n",
       "    </tr>\n",
       "    <tr>\n",
       "      <th>3</th>\n",
       "      <td>-5.954315e+06</td>\n",
       "      <td>1.105558e+07</td>\n",
       "      <td>-2.479313e+06</td>\n",
       "      <td>4.626832e+06</td>\n",
       "      <td>255672.906441</td>\n",
       "      <td>71607.178725</td>\n",
       "      <td>-63222.376706</td>\n",
       "      <td>-137962.490215</td>\n",
       "      <td>23604.075533</td>\n",
       "      <td>32047.051575</td>\n",
       "      <td>...</td>\n",
       "      <td>0.000559</td>\n",
       "      <td>0.000502</td>\n",
       "      <td>-0.000095</td>\n",
       "      <td>0.000035</td>\n",
       "      <td>0.000002</td>\n",
       "      <td>0.000004</td>\n",
       "      <td>2.973616e-06</td>\n",
       "      <td>4.069938e-06</td>\n",
       "      <td>-1.071840e-07</td>\n",
       "      <td>4.717159e-08</td>\n",
       "    </tr>\n",
       "    <tr>\n",
       "      <th>4</th>\n",
       "      <td>-5.770989e+06</td>\n",
       "      <td>4.047179e+07</td>\n",
       "      <td>-4.541621e+06</td>\n",
       "      <td>7.329783e+06</td>\n",
       "      <td>383377.285633</td>\n",
       "      <td>106833.876931</td>\n",
       "      <td>-94217.662124</td>\n",
       "      <td>-205527.817976</td>\n",
       "      <td>35147.338801</td>\n",
       "      <td>47707.580356</td>\n",
       "      <td>...</td>\n",
       "      <td>-0.000967</td>\n",
       "      <td>0.002114</td>\n",
       "      <td>-0.002082</td>\n",
       "      <td>-0.000337</td>\n",
       "      <td>-0.000619</td>\n",
       "      <td>0.000051</td>\n",
       "      <td>-7.697361e-08</td>\n",
       "      <td>-1.210439e-07</td>\n",
       "      <td>-7.870528e-07</td>\n",
       "      <td>-5.594232e-07</td>\n",
       "    </tr>\n",
       "    <tr>\n",
       "      <th>...</th>\n",
       "      <td>...</td>\n",
       "      <td>...</td>\n",
       "      <td>...</td>\n",
       "      <td>...</td>\n",
       "      <td>...</td>\n",
       "      <td>...</td>\n",
       "      <td>...</td>\n",
       "      <td>...</td>\n",
       "      <td>...</td>\n",
       "      <td>...</td>\n",
       "      <td>...</td>\n",
       "      <td>...</td>\n",
       "      <td>...</td>\n",
       "      <td>...</td>\n",
       "      <td>...</td>\n",
       "      <td>...</td>\n",
       "      <td>...</td>\n",
       "      <td>...</td>\n",
       "      <td>...</td>\n",
       "      <td>...</td>\n",
       "      <td>...</td>\n",
       "    </tr>\n",
       "    <tr>\n",
       "      <th>86176</th>\n",
       "      <td>-5.919395e+06</td>\n",
       "      <td>1.665867e+07</td>\n",
       "      <td>-2.872133e+06</td>\n",
       "      <td>5.141681e+06</td>\n",
       "      <td>279996.202414</td>\n",
       "      <td>78317.760193</td>\n",
       "      <td>-69123.219926</td>\n",
       "      <td>-150832.972101</td>\n",
       "      <td>25805.064282</td>\n",
       "      <td>35035.767573</td>\n",
       "      <td>...</td>\n",
       "      <td>0.000156</td>\n",
       "      <td>0.000187</td>\n",
       "      <td>-0.000007</td>\n",
       "      <td>0.000014</td>\n",
       "      <td>0.000026</td>\n",
       "      <td>0.000007</td>\n",
       "      <td>3.100021e-06</td>\n",
       "      <td>-1.214531e-10</td>\n",
       "      <td>-5.844514e-10</td>\n",
       "      <td>-5.614477e-10</td>\n",
       "    </tr>\n",
       "    <tr>\n",
       "      <th>86177</th>\n",
       "      <td>-6.117273e+06</td>\n",
       "      <td>-1.509216e+07</td>\n",
       "      <td>-6.461545e+05</td>\n",
       "      <td>2.224210e+06</td>\n",
       "      <td>142164.314152</td>\n",
       "      <td>40295.001391</td>\n",
       "      <td>-35678.009044</td>\n",
       "      <td>-77910.810540</td>\n",
       "      <td>13343.684292</td>\n",
       "      <td>18124.968860</td>\n",
       "      <td>...</td>\n",
       "      <td>-0.000138</td>\n",
       "      <td>-0.000077</td>\n",
       "      <td>0.000042</td>\n",
       "      <td>-0.000004</td>\n",
       "      <td>0.000025</td>\n",
       "      <td>0.000005</td>\n",
       "      <td>2.360757e-06</td>\n",
       "      <td>-7.885077e-11</td>\n",
       "      <td>-7.385812e-10</td>\n",
       "      <td>-3.863007e-10</td>\n",
       "    </tr>\n",
       "    <tr>\n",
       "      <th>86178</th>\n",
       "      <td>-5.895649e+06</td>\n",
       "      <td>2.046877e+07</td>\n",
       "      <td>-3.139250e+06</td>\n",
       "      <td>5.491776e+06</td>\n",
       "      <td>296535.083665</td>\n",
       "      <td>82880.122865</td>\n",
       "      <td>-73136.172547</td>\n",
       "      <td>-159581.880797</td>\n",
       "      <td>27299.562471</td>\n",
       "      <td>37063.351333</td>\n",
       "      <td>...</td>\n",
       "      <td>0.000388</td>\n",
       "      <td>0.000375</td>\n",
       "      <td>-0.000055</td>\n",
       "      <td>0.000027</td>\n",
       "      <td>0.000016</td>\n",
       "      <td>0.000006</td>\n",
       "      <td>3.186895e-06</td>\n",
       "      <td>-8.444409e-11</td>\n",
       "      <td>-1.333687e-09</td>\n",
       "      <td>-9.597293e-11</td>\n",
       "    </tr>\n",
       "    <tr>\n",
       "      <th>86179</th>\n",
       "      <td>-6.010724e+06</td>\n",
       "      <td>2.004439e+06</td>\n",
       "      <td>-1.844759e+06</td>\n",
       "      <td>3.795156e+06</td>\n",
       "      <td>216382.067541</td>\n",
       "      <td>60768.714734</td>\n",
       "      <td>-53687.835259</td>\n",
       "      <td>-117176.838435</td>\n",
       "      <td>20053.327278</td>\n",
       "      <td>27229.828135</td>\n",
       "      <td>...</td>\n",
       "      <td>0.000104</td>\n",
       "      <td>0.000132</td>\n",
       "      <td>-0.000002</td>\n",
       "      <td>0.000010</td>\n",
       "      <td>0.000021</td>\n",
       "      <td>0.000006</td>\n",
       "      <td>-5.497736e-05</td>\n",
       "      <td>1.650689e-11</td>\n",
       "      <td>-3.199081e-10</td>\n",
       "      <td>-8.593361e-11</td>\n",
       "    </tr>\n",
       "    <tr>\n",
       "      <th>86180</th>\n",
       "      <td>-6.550130e+06</td>\n",
       "      <td>-8.454709e+07</td>\n",
       "      <td>4.223178e+06</td>\n",
       "      <td>-4.157763e+06</td>\n",
       "      <td>-159350.246189</td>\n",
       "      <td>-42882.119645</td>\n",
       "      <td>37487.998475</td>\n",
       "      <td>81618.564425</td>\n",
       "      <td>-13920.847728</td>\n",
       "      <td>-18877.289190</td>\n",
       "      <td>...</td>\n",
       "      <td>0.000399</td>\n",
       "      <td>0.000287</td>\n",
       "      <td>-0.000100</td>\n",
       "      <td>0.000018</td>\n",
       "      <td>-0.000040</td>\n",
       "      <td>-0.000008</td>\n",
       "      <td>7.316893e-07</td>\n",
       "      <td>4.350716e-11</td>\n",
       "      <td>-9.806423e-10</td>\n",
       "      <td>-3.897753e-10</td>\n",
       "    </tr>\n",
       "  </tbody>\n",
       "</table>\n",
       "<p>86181 rows × 93 columns</p>\n",
       "</div>"
      ],
      "text/plain": [
       "               pca0          pca1          pca2          pca3           pca4  \\\n",
       "0     -5.954315e+06  1.105558e+07 -2.479314e+06  4.626833e+06  255673.333964   \n",
       "1     -5.965773e+06  9.217068e+06 -2.350419e+06  4.457896e+06  247691.669229   \n",
       "2     -5.770989e+06  4.047179e+07 -4.541622e+06  7.329784e+06  383377.540570   \n",
       "3     -5.954315e+06  1.105558e+07 -2.479313e+06  4.626832e+06  255672.906441   \n",
       "4     -5.770989e+06  4.047179e+07 -4.541621e+06  7.329783e+06  383377.285633   \n",
       "...             ...           ...           ...           ...            ...   \n",
       "86176 -5.919395e+06  1.665867e+07 -2.872133e+06  5.141681e+06  279996.202414   \n",
       "86177 -6.117273e+06 -1.509216e+07 -6.461545e+05  2.224210e+06  142164.314152   \n",
       "86178 -5.895649e+06  2.046877e+07 -3.139250e+06  5.491776e+06  296535.083665   \n",
       "86179 -6.010724e+06  2.004439e+06 -1.844759e+06  3.795156e+06  216382.067541   \n",
       "86180 -6.550130e+06 -8.454709e+07  4.223178e+06 -4.157763e+06 -159350.246189   \n",
       "\n",
       "                pca5          pca6           pca7          pca8          pca9  \\\n",
       "0       71607.747637 -63221.836720 -137964.370670  23605.602297  32050.461402   \n",
       "1       69405.170582 -61286.155713 -133738.972384  22881.626311  31065.848754   \n",
       "2      106834.280039 -94217.285711 -205529.025777  35148.206714  47709.766504   \n",
       "3       71607.178725 -63222.376706 -137962.490215  23604.075533  32047.051575   \n",
       "4      106833.876931 -94217.662124 -205527.817976  35147.338801  47707.580356   \n",
       "...              ...           ...            ...           ...           ...   \n",
       "86176   78317.760193 -69123.219926 -150832.972101  25805.064282  35035.767573   \n",
       "86177   40295.001391 -35678.009044  -77910.810540  13343.684292  18124.968860   \n",
       "86178   82880.122865 -73136.172547 -159581.880797  27299.562471  37063.351333   \n",
       "86179   60768.714734 -53687.835259 -117176.838435  20053.327278  27229.828135   \n",
       "86180  -42882.119645  37487.998475   81618.564425 -13920.847728 -18877.289190   \n",
       "\n",
       "       ...     pca83     pca84     pca85     pca86     pca87     pca88  \\\n",
       "0      ...  0.000201  0.000217 -0.000019  0.000016  0.000021  0.000007   \n",
       "1      ...  0.000749  0.000652 -0.000136  0.000044 -0.000009  0.000001   \n",
       "2      ... -0.003028 -0.002289  0.000289  0.000186  0.000083 -0.000002   \n",
       "3      ...  0.000559  0.000502 -0.000095  0.000035  0.000002  0.000004   \n",
       "4      ... -0.000967  0.002114 -0.002082 -0.000337 -0.000619  0.000051   \n",
       "...    ...       ...       ...       ...       ...       ...       ...   \n",
       "86176  ...  0.000156  0.000187 -0.000007  0.000014  0.000026  0.000007   \n",
       "86177  ... -0.000138 -0.000077  0.000042 -0.000004  0.000025  0.000005   \n",
       "86178  ...  0.000388  0.000375 -0.000055  0.000027  0.000016  0.000006   \n",
       "86179  ...  0.000104  0.000132 -0.000002  0.000010  0.000021  0.000006   \n",
       "86180  ...  0.000399  0.000287 -0.000100  0.000018 -0.000040 -0.000008   \n",
       "\n",
       "              pca89         pca90         pca91         pca92  \n",
       "0      2.944637e-06  1.291634e-07  1.332980e-07  1.509337e-07  \n",
       "1      2.973378e-06 -1.870205e-08  1.068861e-06 -9.365199e-07  \n",
       "2      1.780198e-08  2.662268e-10 -6.543326e-08 -1.208775e-07  \n",
       "3      2.973616e-06  4.069938e-06 -1.071840e-07  4.717159e-08  \n",
       "4     -7.697361e-08 -1.210439e-07 -7.870528e-07 -5.594232e-07  \n",
       "...             ...           ...           ...           ...  \n",
       "86176  3.100021e-06 -1.214531e-10 -5.844514e-10 -5.614477e-10  \n",
       "86177  2.360757e-06 -7.885077e-11 -7.385812e-10 -3.863007e-10  \n",
       "86178  3.186895e-06 -8.444409e-11 -1.333687e-09 -9.597293e-11  \n",
       "86179 -5.497736e-05  1.650689e-11 -3.199081e-10 -8.593361e-11  \n",
       "86180  7.316893e-07  4.350716e-11 -9.806423e-10 -3.897753e-10  \n",
       "\n",
       "[86181 rows x 93 columns]"
      ]
     },
     "execution_count": 451,
     "metadata": {},
     "output_type": "execute_result"
    }
   ],
   "source": [
    "pca_transform(X_set[0],y_set[0])"
   ]
  },
  {
   "cell_type": "markdown",
   "id": "9b0843ac-6be2-451f-90c2-fc58c81fa160",
   "metadata": {
    "tags": []
   },
   "source": [
    "### SelectKBest"
   ]
  },
  {
   "cell_type": "code",
   "execution_count": 261,
   "id": "ec0de7cb-1223-4dc9-8075-e4b02b4bda8f",
   "metadata": {
    "tags": []
   },
   "outputs": [],
   "source": [
    "from sklearn import feature_selection as fselect"
   ]
  },
  {
   "cell_type": "code",
   "execution_count": 263,
   "id": "3e62edf8-fd1a-4d71-877d-134aa238e50f",
   "metadata": {
    "tags": []
   },
   "outputs": [],
   "source": [
    "kbest = fselect.SelectKBest(k=50)"
   ]
  },
  {
   "cell_type": "code",
   "execution_count": 265,
   "id": "7fd9b1e4-e45d-40c7-b0e4-ad3194ba2ba3",
   "metadata": {
    "tags": []
   },
   "outputs": [
    {
     "data": {
      "text/html": [
       "<style>#sk-container-id-5 {color: black;background-color: white;}#sk-container-id-5 pre{padding: 0;}#sk-container-id-5 div.sk-toggleable {background-color: white;}#sk-container-id-5 label.sk-toggleable__label {cursor: pointer;display: block;width: 100%;margin-bottom: 0;padding: 0.3em;box-sizing: border-box;text-align: center;}#sk-container-id-5 label.sk-toggleable__label-arrow:before {content: \"▸\";float: left;margin-right: 0.25em;color: #696969;}#sk-container-id-5 label.sk-toggleable__label-arrow:hover:before {color: black;}#sk-container-id-5 div.sk-estimator:hover label.sk-toggleable__label-arrow:before {color: black;}#sk-container-id-5 div.sk-toggleable__content {max-height: 0;max-width: 0;overflow: hidden;text-align: left;background-color: #f0f8ff;}#sk-container-id-5 div.sk-toggleable__content pre {margin: 0.2em;color: black;border-radius: 0.25em;background-color: #f0f8ff;}#sk-container-id-5 input.sk-toggleable__control:checked~div.sk-toggleable__content {max-height: 200px;max-width: 100%;overflow: auto;}#sk-container-id-5 input.sk-toggleable__control:checked~label.sk-toggleable__label-arrow:before {content: \"▾\";}#sk-container-id-5 div.sk-estimator input.sk-toggleable__control:checked~label.sk-toggleable__label {background-color: #d4ebff;}#sk-container-id-5 div.sk-label input.sk-toggleable__control:checked~label.sk-toggleable__label {background-color: #d4ebff;}#sk-container-id-5 input.sk-hidden--visually {border: 0;clip: rect(1px 1px 1px 1px);clip: rect(1px, 1px, 1px, 1px);height: 1px;margin: -1px;overflow: hidden;padding: 0;position: absolute;width: 1px;}#sk-container-id-5 div.sk-estimator {font-family: monospace;background-color: #f0f8ff;border: 1px dotted black;border-radius: 0.25em;box-sizing: border-box;margin-bottom: 0.5em;}#sk-container-id-5 div.sk-estimator:hover {background-color: #d4ebff;}#sk-container-id-5 div.sk-parallel-item::after {content: \"\";width: 100%;border-bottom: 1px solid gray;flex-grow: 1;}#sk-container-id-5 div.sk-label:hover label.sk-toggleable__label {background-color: #d4ebff;}#sk-container-id-5 div.sk-serial::before {content: \"\";position: absolute;border-left: 1px solid gray;box-sizing: border-box;top: 0;bottom: 0;left: 50%;z-index: 0;}#sk-container-id-5 div.sk-serial {display: flex;flex-direction: column;align-items: center;background-color: white;padding-right: 0.2em;padding-left: 0.2em;position: relative;}#sk-container-id-5 div.sk-item {position: relative;z-index: 1;}#sk-container-id-5 div.sk-parallel {display: flex;align-items: stretch;justify-content: center;background-color: white;position: relative;}#sk-container-id-5 div.sk-item::before, #sk-container-id-5 div.sk-parallel-item::before {content: \"\";position: absolute;border-left: 1px solid gray;box-sizing: border-box;top: 0;bottom: 0;left: 50%;z-index: -1;}#sk-container-id-5 div.sk-parallel-item {display: flex;flex-direction: column;z-index: 1;position: relative;background-color: white;}#sk-container-id-5 div.sk-parallel-item:first-child::after {align-self: flex-end;width: 50%;}#sk-container-id-5 div.sk-parallel-item:last-child::after {align-self: flex-start;width: 50%;}#sk-container-id-5 div.sk-parallel-item:only-child::after {width: 0;}#sk-container-id-5 div.sk-dashed-wrapped {border: 1px dashed gray;margin: 0 0.4em 0.5em 0.4em;box-sizing: border-box;padding-bottom: 0.4em;background-color: white;}#sk-container-id-5 div.sk-label label {font-family: monospace;font-weight: bold;display: inline-block;line-height: 1.2em;}#sk-container-id-5 div.sk-label-container {text-align: center;}#sk-container-id-5 div.sk-container {/* jupyter's `normalize.less` sets `[hidden] { display: none; }` but bootstrap.min.css set `[hidden] { display: none !important; }` so we also need the `!important` here to be able to override the default hidden behavior on the sphinx rendered scikit-learn.org. See: https://github.com/scikit-learn/scikit-learn/issues/21755 */display: inline-block !important;position: relative;}#sk-container-id-5 div.sk-text-repr-fallback {display: none;}</style><div id=\"sk-container-id-5\" class=\"sk-top-container\"><div class=\"sk-text-repr-fallback\"><pre>SelectKBest(k=50)</pre><b>In a Jupyter environment, please rerun this cell to show the HTML representation or trust the notebook. <br />On GitHub, the HTML representation is unable to render, please try loading this page with nbviewer.org.</b></div><div class=\"sk-container\" hidden><div class=\"sk-item\"><div class=\"sk-estimator sk-toggleable\"><input class=\"sk-toggleable__control sk-hidden--visually\" id=\"sk-estimator-id-5\" type=\"checkbox\" checked><label for=\"sk-estimator-id-5\" class=\"sk-toggleable__label sk-toggleable__label-arrow\">SelectKBest</label><div class=\"sk-toggleable__content\"><pre>SelectKBest(k=50)</pre></div></div></div></div></div>"
      ],
      "text/plain": [
       "SelectKBest(k=50)"
      ]
     },
     "execution_count": 265,
     "metadata": {},
     "output_type": "execute_result"
    }
   ],
   "source": [
    "kbest.fit(X_set[0],y_set[0])"
   ]
  },
  {
   "cell_type": "code",
   "execution_count": 267,
   "id": "0cb9c209-5dbd-47a1-b841-a9daa79b6238",
   "metadata": {
    "tags": []
   },
   "outputs": [
    {
     "data": {
      "text/plain": [
       "array(['id.orig_p', 'id.resp_p', 'fwd_pkts_per_sec', 'bwd_pkts_per_sec',\n",
       "       'flow_pkts_per_sec', 'down_up_ratio', 'fwd_header_size_min',\n",
       "       'fwd_header_size_max', 'bwd_header_size_min',\n",
       "       'bwd_header_size_max', 'flow_FIN_flag_count',\n",
       "       'flow_SYN_flag_count', 'flow_RST_flag_count', 'fwd_URG_flag_count',\n",
       "       'fwd_pkts_payload.min', 'fwd_pkts_payload.max',\n",
       "       'fwd_pkts_payload.avg', 'fwd_pkts_payload.std',\n",
       "       'bwd_pkts_payload.min', 'bwd_pkts_payload.max',\n",
       "       'bwd_pkts_payload.avg', 'bwd_pkts_payload.std',\n",
       "       'flow_pkts_payload.max', 'flow_pkts_payload.avg',\n",
       "       'flow_pkts_payload.std', 'fwd_iat.max', 'fwd_iat.avg',\n",
       "       'fwd_iat.std', 'flow_iat.max', 'flow_iat.avg', 'flow_iat.std',\n",
       "       'payload_bytes_per_second', 'fwd_subflow_pkts', 'bwd_subflow_pkts',\n",
       "       'active.min', 'idle.min', 'idle.max', 'idle.avg',\n",
       "       'fwd_init_window_size', 'bwd_init_window_size',\n",
       "       'fwd_last_window_size', 'proto_is_tcp', 'proto_is_udp',\n",
       "       'service_is_dns', 'service_is_http', 'service_is_irc',\n",
       "       'service_is_mqtt', 'service_is_none', 'service_is_ssh',\n",
       "       'service_is_ssl'], dtype=object)"
      ]
     },
     "execution_count": 267,
     "metadata": {},
     "output_type": "execute_result"
    }
   ],
   "source": [
    "kbest.get_feature_names_out()"
   ]
  },
  {
   "cell_type": "code",
   "execution_count": 269,
   "id": "18cbdb9f-fe17-4f40-88e2-8c2bf8e03d6d",
   "metadata": {
    "tags": []
   },
   "outputs": [
    {
     "data": {
      "text/plain": [
       "array([[7.81800000e+03, 2.10000000e+01, 2.46723765e+05, ...,\n",
       "        1.00000000e+00, 0.00000000e+00, 0.00000000e+00],\n",
       "       [2.82400000e+04, 2.10000000e+01, 2.62144000e+05, ...,\n",
       "        1.00000000e+00, 0.00000000e+00, 0.00000000e+00],\n",
       "       [2.53410000e+04, 2.10000000e+01, 0.00000000e+00, ...,\n",
       "        1.00000000e+00, 0.00000000e+00, 0.00000000e+00],\n",
       "       ...,\n",
       "       [9.51800000e+03, 2.10000000e+01, 1.67772160e+05, ...,\n",
       "        1.00000000e+00, 0.00000000e+00, 0.00000000e+00],\n",
       "       [9.10600000e+03, 2.10000000e+01, 3.22638769e+05, ...,\n",
       "        1.00000000e+00, 0.00000000e+00, 0.00000000e+00],\n",
       "       [6.49990000e+04, 2.10000000e+01, 1.04857600e+06, ...,\n",
       "        1.00000000e+00, 0.00000000e+00, 0.00000000e+00]])"
      ]
     },
     "execution_count": 269,
     "metadata": {},
     "output_type": "execute_result"
    }
   ],
   "source": [
    "kbest.transform(X_set[0])"
   ]
  },
  {
   "cell_type": "code",
   "execution_count": 271,
   "id": "9076e9d6-a107-4a98-8e55-e6e9e81ca4a1",
   "metadata": {
    "tags": []
   },
   "outputs": [
    {
     "data": {
      "text/html": [
       "<div>\n",
       "<style scoped>\n",
       "    .dataframe tbody tr th:only-of-type {\n",
       "        vertical-align: middle;\n",
       "    }\n",
       "\n",
       "    .dataframe tbody tr th {\n",
       "        vertical-align: top;\n",
       "    }\n",
       "\n",
       "    .dataframe thead th {\n",
       "        text-align: right;\n",
       "    }\n",
       "</style>\n",
       "<table border=\"1\" class=\"dataframe\">\n",
       "  <thead>\n",
       "    <tr style=\"text-align: right;\">\n",
       "      <th></th>\n",
       "      <th>0</th>\n",
       "    </tr>\n",
       "  </thead>\n",
       "  <tbody>\n",
       "    <tr>\n",
       "      <th>fwd_URG_flag_count</th>\n",
       "      <td>5.413222e+06</td>\n",
       "    </tr>\n",
       "    <tr>\n",
       "      <th>service_is_mqtt</th>\n",
       "      <td>2.433259e+06</td>\n",
       "    </tr>\n",
       "    <tr>\n",
       "      <th>service_is_none</th>\n",
       "      <td>1.436653e+05</td>\n",
       "    </tr>\n",
       "    <tr>\n",
       "      <th>fwd_pkts_payload.min</th>\n",
       "      <td>1.036721e+05</td>\n",
       "    </tr>\n",
       "    <tr>\n",
       "      <th>fwd_last_window_size</th>\n",
       "      <td>3.913950e+04</td>\n",
       "    </tr>\n",
       "    <tr>\n",
       "      <th>...</th>\n",
       "      <td>...</td>\n",
       "    </tr>\n",
       "    <tr>\n",
       "      <th>fwd_bulk_packets</th>\n",
       "      <td>2.202968e+01</td>\n",
       "    </tr>\n",
       "    <tr>\n",
       "      <th>fwd_bulk_rate</th>\n",
       "      <td>1.623044e+01</td>\n",
       "    </tr>\n",
       "    <tr>\n",
       "      <th>fwd_bulk_bytes</th>\n",
       "      <td>8.919058e+00</td>\n",
       "    </tr>\n",
       "    <tr>\n",
       "      <th>service_is_radius</th>\n",
       "      <td>8.469078e+00</td>\n",
       "    </tr>\n",
       "    <tr>\n",
       "      <th>fwd_iat.min</th>\n",
       "      <td>2.855698e+00</td>\n",
       "    </tr>\n",
       "  </tbody>\n",
       "</table>\n",
       "<p>93 rows × 1 columns</p>\n",
       "</div>"
      ],
      "text/plain": [
       "                                 0\n",
       "fwd_URG_flag_count    5.413222e+06\n",
       "service_is_mqtt       2.433259e+06\n",
       "service_is_none       1.436653e+05\n",
       "fwd_pkts_payload.min  1.036721e+05\n",
       "fwd_last_window_size  3.913950e+04\n",
       "...                            ...\n",
       "fwd_bulk_packets      2.202968e+01\n",
       "fwd_bulk_rate         1.623044e+01\n",
       "fwd_bulk_bytes        8.919058e+00\n",
       "service_is_radius     8.469078e+00\n",
       "fwd_iat.min           2.855698e+00\n",
       "\n",
       "[93 rows x 1 columns]"
      ]
     },
     "execution_count": 271,
     "metadata": {},
     "output_type": "execute_result"
    }
   ],
   "source": [
    "# Get the most important features\n",
    "pd.DataFrame(data=kbest.scores_,index=X_set[0].columns).sort_values(by=0,ascending=False)"
   ]
  },
  {
   "cell_type": "code",
   "execution_count": 275,
   "id": "9b1587e1-a4d7-486c-b0d4-9bdfdc343abb",
   "metadata": {
    "tags": []
   },
   "outputs": [],
   "source": [
    "# Return the transformed dataset\n",
    "kbest_train = pd.DataFrame(data=kbest.transform(X_set[0]),columns=kbest.get_feature_names_out())"
   ]
  },
  {
   "cell_type": "code",
   "execution_count": 303,
   "id": "4e5affab-7dbe-42e1-b7f5-cd46c4997f95",
   "metadata": {
    "tags": []
   },
   "outputs": [],
   "source": [
    "def kbest(X,y):\n",
    "    \"\"\"\n",
    "    Returns a dataframe containing the top 50 KBest features.\n",
    "    \n",
    "    Parameters:\n",
    "    -----------\n",
    "    - X: DataFrame\n",
    "        The data to be trained on\n",
    "    - y: Series\n",
    "        The target variable\n",
    "    \n",
    "    Returns:\n",
    "    --------\n",
    "    - kbest: DataFrame\n",
    "        The transformed dataset\n",
    "    \n",
    "    \"\"\"\n",
    "    \n",
    "    # Build the model\n",
    "    kbest = fselect.SelectKBest(k=50)\n",
    "    \n",
    "    # fit and transform the model\n",
    "    df_kbest = pd.DataFrame(data=kbest.fit_transform(X,y),columns=kbest.get_feature_names_out())\n",
    "    \n",
    "    return df_kbest"
   ]
  },
  {
   "cell_type": "code",
   "execution_count": 342,
   "id": "869bc1ef-0086-4132-8ab3-c9d23e734a13",
   "metadata": {
    "tags": []
   },
   "outputs": [
    {
     "data": {
      "text/html": [
       "<div>\n",
       "<style scoped>\n",
       "    .dataframe tbody tr th:only-of-type {\n",
       "        vertical-align: middle;\n",
       "    }\n",
       "\n",
       "    .dataframe tbody tr th {\n",
       "        vertical-align: top;\n",
       "    }\n",
       "\n",
       "    .dataframe thead th {\n",
       "        text-align: right;\n",
       "    }\n",
       "</style>\n",
       "<table border=\"1\" class=\"dataframe\">\n",
       "  <thead>\n",
       "    <tr style=\"text-align: right;\">\n",
       "      <th></th>\n",
       "      <th>id.orig_p</th>\n",
       "      <th>id.resp_p</th>\n",
       "      <th>fwd_pkts_per_sec</th>\n",
       "      <th>bwd_pkts_per_sec</th>\n",
       "      <th>flow_pkts_per_sec</th>\n",
       "      <th>down_up_ratio</th>\n",
       "      <th>fwd_header_size_min</th>\n",
       "      <th>fwd_header_size_max</th>\n",
       "      <th>bwd_header_size_min</th>\n",
       "      <th>bwd_header_size_max</th>\n",
       "      <th>...</th>\n",
       "      <th>fwd_last_window_size</th>\n",
       "      <th>proto_is_tcp</th>\n",
       "      <th>proto_is_udp</th>\n",
       "      <th>service_is_dns</th>\n",
       "      <th>service_is_http</th>\n",
       "      <th>service_is_irc</th>\n",
       "      <th>service_is_mqtt</th>\n",
       "      <th>service_is_none</th>\n",
       "      <th>service_is_ssh</th>\n",
       "      <th>service_is_ssl</th>\n",
       "    </tr>\n",
       "  </thead>\n",
       "  <tbody>\n",
       "    <tr>\n",
       "      <th>0</th>\n",
       "      <td>7818.0</td>\n",
       "      <td>21.0</td>\n",
       "      <td>2.467238e+05</td>\n",
       "      <td>2.467238e+05</td>\n",
       "      <td>4.934475e+05</td>\n",
       "      <td>1.0</td>\n",
       "      <td>20.0</td>\n",
       "      <td>20.0</td>\n",
       "      <td>20.0</td>\n",
       "      <td>20.0</td>\n",
       "      <td>...</td>\n",
       "      <td>64.0</td>\n",
       "      <td>1.0</td>\n",
       "      <td>0.0</td>\n",
       "      <td>0.0</td>\n",
       "      <td>0.0</td>\n",
       "      <td>0.0</td>\n",
       "      <td>0.0</td>\n",
       "      <td>1.0</td>\n",
       "      <td>0.0</td>\n",
       "      <td>0.0</td>\n",
       "    </tr>\n",
       "    <tr>\n",
       "      <th>1</th>\n",
       "      <td>28240.0</td>\n",
       "      <td>21.0</td>\n",
       "      <td>2.621440e+05</td>\n",
       "      <td>2.621440e+05</td>\n",
       "      <td>5.242880e+05</td>\n",
       "      <td>1.0</td>\n",
       "      <td>20.0</td>\n",
       "      <td>20.0</td>\n",
       "      <td>20.0</td>\n",
       "      <td>20.0</td>\n",
       "      <td>...</td>\n",
       "      <td>64.0</td>\n",
       "      <td>1.0</td>\n",
       "      <td>0.0</td>\n",
       "      <td>0.0</td>\n",
       "      <td>0.0</td>\n",
       "      <td>0.0</td>\n",
       "      <td>0.0</td>\n",
       "      <td>1.0</td>\n",
       "      <td>0.0</td>\n",
       "      <td>0.0</td>\n",
       "    </tr>\n",
       "    <tr>\n",
       "      <th>2</th>\n",
       "      <td>25341.0</td>\n",
       "      <td>21.0</td>\n",
       "      <td>0.000000e+00</td>\n",
       "      <td>0.000000e+00</td>\n",
       "      <td>0.000000e+00</td>\n",
       "      <td>0.0</td>\n",
       "      <td>20.0</td>\n",
       "      <td>20.0</td>\n",
       "      <td>0.0</td>\n",
       "      <td>0.0</td>\n",
       "      <td>...</td>\n",
       "      <td>64.0</td>\n",
       "      <td>1.0</td>\n",
       "      <td>0.0</td>\n",
       "      <td>0.0</td>\n",
       "      <td>0.0</td>\n",
       "      <td>0.0</td>\n",
       "      <td>0.0</td>\n",
       "      <td>1.0</td>\n",
       "      <td>0.0</td>\n",
       "      <td>0.0</td>\n",
       "    </tr>\n",
       "    <tr>\n",
       "      <th>3</th>\n",
       "      <td>20526.0</td>\n",
       "      <td>21.0</td>\n",
       "      <td>2.467238e+05</td>\n",
       "      <td>2.467238e+05</td>\n",
       "      <td>4.934475e+05</td>\n",
       "      <td>1.0</td>\n",
       "      <td>20.0</td>\n",
       "      <td>20.0</td>\n",
       "      <td>20.0</td>\n",
       "      <td>20.0</td>\n",
       "      <td>...</td>\n",
       "      <td>64.0</td>\n",
       "      <td>1.0</td>\n",
       "      <td>0.0</td>\n",
       "      <td>0.0</td>\n",
       "      <td>0.0</td>\n",
       "      <td>0.0</td>\n",
       "      <td>0.0</td>\n",
       "      <td>1.0</td>\n",
       "      <td>0.0</td>\n",
       "      <td>0.0</td>\n",
       "    </tr>\n",
       "    <tr>\n",
       "      <th>4</th>\n",
       "      <td>33928.0</td>\n",
       "      <td>137.0</td>\n",
       "      <td>0.000000e+00</td>\n",
       "      <td>0.000000e+00</td>\n",
       "      <td>0.000000e+00</td>\n",
       "      <td>0.0</td>\n",
       "      <td>8.0</td>\n",
       "      <td>8.0</td>\n",
       "      <td>0.0</td>\n",
       "      <td>0.0</td>\n",
       "      <td>...</td>\n",
       "      <td>0.0</td>\n",
       "      <td>0.0</td>\n",
       "      <td>1.0</td>\n",
       "      <td>1.0</td>\n",
       "      <td>0.0</td>\n",
       "      <td>0.0</td>\n",
       "      <td>0.0</td>\n",
       "      <td>0.0</td>\n",
       "      <td>0.0</td>\n",
       "      <td>0.0</td>\n",
       "    </tr>\n",
       "    <tr>\n",
       "      <th>...</th>\n",
       "      <td>...</td>\n",
       "      <td>...</td>\n",
       "      <td>...</td>\n",
       "      <td>...</td>\n",
       "      <td>...</td>\n",
       "      <td>...</td>\n",
       "      <td>...</td>\n",
       "      <td>...</td>\n",
       "      <td>...</td>\n",
       "      <td>...</td>\n",
       "      <td>...</td>\n",
       "      <td>...</td>\n",
       "      <td>...</td>\n",
       "      <td>...</td>\n",
       "      <td>...</td>\n",
       "      <td>...</td>\n",
       "      <td>...</td>\n",
       "      <td>...</td>\n",
       "      <td>...</td>\n",
       "      <td>...</td>\n",
       "      <td>...</td>\n",
       "    </tr>\n",
       "    <tr>\n",
       "      <th>86176</th>\n",
       "      <td>3269.0</td>\n",
       "      <td>21.0</td>\n",
       "      <td>1.997288e+05</td>\n",
       "      <td>1.997288e+05</td>\n",
       "      <td>3.994575e+05</td>\n",
       "      <td>1.0</td>\n",
       "      <td>20.0</td>\n",
       "      <td>20.0</td>\n",
       "      <td>20.0</td>\n",
       "      <td>20.0</td>\n",
       "      <td>...</td>\n",
       "      <td>64.0</td>\n",
       "      <td>1.0</td>\n",
       "      <td>0.0</td>\n",
       "      <td>0.0</td>\n",
       "      <td>0.0</td>\n",
       "      <td>0.0</td>\n",
       "      <td>0.0</td>\n",
       "      <td>1.0</td>\n",
       "      <td>0.0</td>\n",
       "      <td>0.0</td>\n",
       "    </tr>\n",
       "    <tr>\n",
       "      <th>86177</th>\n",
       "      <td>9479.0</td>\n",
       "      <td>21.0</td>\n",
       "      <td>4.660338e+05</td>\n",
       "      <td>4.660338e+05</td>\n",
       "      <td>9.320676e+05</td>\n",
       "      <td>1.0</td>\n",
       "      <td>20.0</td>\n",
       "      <td>20.0</td>\n",
       "      <td>20.0</td>\n",
       "      <td>20.0</td>\n",
       "      <td>...</td>\n",
       "      <td>64.0</td>\n",
       "      <td>1.0</td>\n",
       "      <td>0.0</td>\n",
       "      <td>0.0</td>\n",
       "      <td>0.0</td>\n",
       "      <td>0.0</td>\n",
       "      <td>0.0</td>\n",
       "      <td>1.0</td>\n",
       "      <td>0.0</td>\n",
       "      <td>0.0</td>\n",
       "    </tr>\n",
       "    <tr>\n",
       "      <th>86178</th>\n",
       "      <td>9518.0</td>\n",
       "      <td>21.0</td>\n",
       "      <td>1.677722e+05</td>\n",
       "      <td>1.677722e+05</td>\n",
       "      <td>3.355443e+05</td>\n",
       "      <td>1.0</td>\n",
       "      <td>20.0</td>\n",
       "      <td>20.0</td>\n",
       "      <td>20.0</td>\n",
       "      <td>20.0</td>\n",
       "      <td>...</td>\n",
       "      <td>64.0</td>\n",
       "      <td>1.0</td>\n",
       "      <td>0.0</td>\n",
       "      <td>0.0</td>\n",
       "      <td>0.0</td>\n",
       "      <td>0.0</td>\n",
       "      <td>0.0</td>\n",
       "      <td>1.0</td>\n",
       "      <td>0.0</td>\n",
       "      <td>0.0</td>\n",
       "    </tr>\n",
       "    <tr>\n",
       "      <th>86179</th>\n",
       "      <td>9106.0</td>\n",
       "      <td>21.0</td>\n",
       "      <td>3.226388e+05</td>\n",
       "      <td>3.226388e+05</td>\n",
       "      <td>6.452775e+05</td>\n",
       "      <td>1.0</td>\n",
       "      <td>20.0</td>\n",
       "      <td>20.0</td>\n",
       "      <td>20.0</td>\n",
       "      <td>20.0</td>\n",
       "      <td>...</td>\n",
       "      <td>64.0</td>\n",
       "      <td>1.0</td>\n",
       "      <td>0.0</td>\n",
       "      <td>0.0</td>\n",
       "      <td>0.0</td>\n",
       "      <td>0.0</td>\n",
       "      <td>0.0</td>\n",
       "      <td>1.0</td>\n",
       "      <td>0.0</td>\n",
       "      <td>0.0</td>\n",
       "    </tr>\n",
       "    <tr>\n",
       "      <th>86180</th>\n",
       "      <td>64999.0</td>\n",
       "      <td>21.0</td>\n",
       "      <td>1.048576e+06</td>\n",
       "      <td>1.048576e+06</td>\n",
       "      <td>2.097152e+06</td>\n",
       "      <td>1.0</td>\n",
       "      <td>20.0</td>\n",
       "      <td>20.0</td>\n",
       "      <td>20.0</td>\n",
       "      <td>20.0</td>\n",
       "      <td>...</td>\n",
       "      <td>64.0</td>\n",
       "      <td>1.0</td>\n",
       "      <td>0.0</td>\n",
       "      <td>0.0</td>\n",
       "      <td>0.0</td>\n",
       "      <td>0.0</td>\n",
       "      <td>0.0</td>\n",
       "      <td>1.0</td>\n",
       "      <td>0.0</td>\n",
       "      <td>0.0</td>\n",
       "    </tr>\n",
       "  </tbody>\n",
       "</table>\n",
       "<p>86181 rows × 50 columns</p>\n",
       "</div>"
      ],
      "text/plain": [
       "       id.orig_p  id.resp_p  fwd_pkts_per_sec  bwd_pkts_per_sec  \\\n",
       "0         7818.0       21.0      2.467238e+05      2.467238e+05   \n",
       "1        28240.0       21.0      2.621440e+05      2.621440e+05   \n",
       "2        25341.0       21.0      0.000000e+00      0.000000e+00   \n",
       "3        20526.0       21.0      2.467238e+05      2.467238e+05   \n",
       "4        33928.0      137.0      0.000000e+00      0.000000e+00   \n",
       "...          ...        ...               ...               ...   \n",
       "86176     3269.0       21.0      1.997288e+05      1.997288e+05   \n",
       "86177     9479.0       21.0      4.660338e+05      4.660338e+05   \n",
       "86178     9518.0       21.0      1.677722e+05      1.677722e+05   \n",
       "86179     9106.0       21.0      3.226388e+05      3.226388e+05   \n",
       "86180    64999.0       21.0      1.048576e+06      1.048576e+06   \n",
       "\n",
       "       flow_pkts_per_sec  down_up_ratio  fwd_header_size_min  \\\n",
       "0           4.934475e+05            1.0                 20.0   \n",
       "1           5.242880e+05            1.0                 20.0   \n",
       "2           0.000000e+00            0.0                 20.0   \n",
       "3           4.934475e+05            1.0                 20.0   \n",
       "4           0.000000e+00            0.0                  8.0   \n",
       "...                  ...            ...                  ...   \n",
       "86176       3.994575e+05            1.0                 20.0   \n",
       "86177       9.320676e+05            1.0                 20.0   \n",
       "86178       3.355443e+05            1.0                 20.0   \n",
       "86179       6.452775e+05            1.0                 20.0   \n",
       "86180       2.097152e+06            1.0                 20.0   \n",
       "\n",
       "       fwd_header_size_max  bwd_header_size_min  bwd_header_size_max  ...  \\\n",
       "0                     20.0                 20.0                 20.0  ...   \n",
       "1                     20.0                 20.0                 20.0  ...   \n",
       "2                     20.0                  0.0                  0.0  ...   \n",
       "3                     20.0                 20.0                 20.0  ...   \n",
       "4                      8.0                  0.0                  0.0  ...   \n",
       "...                    ...                  ...                  ...  ...   \n",
       "86176                 20.0                 20.0                 20.0  ...   \n",
       "86177                 20.0                 20.0                 20.0  ...   \n",
       "86178                 20.0                 20.0                 20.0  ...   \n",
       "86179                 20.0                 20.0                 20.0  ...   \n",
       "86180                 20.0                 20.0                 20.0  ...   \n",
       "\n",
       "       fwd_last_window_size  proto_is_tcp  proto_is_udp  service_is_dns  \\\n",
       "0                      64.0           1.0           0.0             0.0   \n",
       "1                      64.0           1.0           0.0             0.0   \n",
       "2                      64.0           1.0           0.0             0.0   \n",
       "3                      64.0           1.0           0.0             0.0   \n",
       "4                       0.0           0.0           1.0             1.0   \n",
       "...                     ...           ...           ...             ...   \n",
       "86176                  64.0           1.0           0.0             0.0   \n",
       "86177                  64.0           1.0           0.0             0.0   \n",
       "86178                  64.0           1.0           0.0             0.0   \n",
       "86179                  64.0           1.0           0.0             0.0   \n",
       "86180                  64.0           1.0           0.0             0.0   \n",
       "\n",
       "       service_is_http  service_is_irc  service_is_mqtt  service_is_none  \\\n",
       "0                  0.0             0.0              0.0              1.0   \n",
       "1                  0.0             0.0              0.0              1.0   \n",
       "2                  0.0             0.0              0.0              1.0   \n",
       "3                  0.0             0.0              0.0              1.0   \n",
       "4                  0.0             0.0              0.0              0.0   \n",
       "...                ...             ...              ...              ...   \n",
       "86176              0.0             0.0              0.0              1.0   \n",
       "86177              0.0             0.0              0.0              1.0   \n",
       "86178              0.0             0.0              0.0              1.0   \n",
       "86179              0.0             0.0              0.0              1.0   \n",
       "86180              0.0             0.0              0.0              1.0   \n",
       "\n",
       "       service_is_ssh  service_is_ssl  \n",
       "0                 0.0             0.0  \n",
       "1                 0.0             0.0  \n",
       "2                 0.0             0.0  \n",
       "3                 0.0             0.0  \n",
       "4                 0.0             0.0  \n",
       "...               ...             ...  \n",
       "86176             0.0             0.0  \n",
       "86177             0.0             0.0  \n",
       "86178             0.0             0.0  \n",
       "86179             0.0             0.0  \n",
       "86180             0.0             0.0  \n",
       "\n",
       "[86181 rows x 50 columns]"
      ]
     },
     "execution_count": 342,
     "metadata": {},
     "output_type": "execute_result"
    }
   ],
   "source": [
    "kbest(X_set[0],y_set[0])"
   ]
  },
  {
   "cell_type": "code",
   "execution_count": 344,
   "id": "108577c9-ecf4-4923-bfa8-d1f76323102d",
   "metadata": {
    "tags": []
   },
   "outputs": [],
   "source": [
    "from sklearn.linear_model import LogisticRegression"
   ]
  },
  {
   "cell_type": "code",
   "execution_count": 388,
   "id": "7b35fa5d-0547-48c7-b778-640232da3a74",
   "metadata": {
    "tags": []
   },
   "outputs": [],
   "source": [
    "lr = LogisticRegression(class_weight='balanced')"
   ]
  },
  {
   "cell_type": "code",
   "execution_count": 390,
   "id": "82f163d6-263e-441f-bec7-85157c90147c",
   "metadata": {
    "tags": []
   },
   "outputs": [
    {
     "name": "stderr",
     "output_type": "stream",
     "text": [
      "/opt/homebrew/anaconda3/lib/python3.11/site-packages/sklearn/linear_model/_logistic.py:458: ConvergenceWarning: lbfgs failed to converge (status=1):\n",
      "STOP: TOTAL NO. of ITERATIONS REACHED LIMIT.\n",
      "\n",
      "Increase the number of iterations (max_iter) or scale the data as shown in:\n",
      "    https://scikit-learn.org/stable/modules/preprocessing.html\n",
      "Please also refer to the documentation for alternative solver options:\n",
      "    https://scikit-learn.org/stable/modules/linear_model.html#logistic-regression\n",
      "  n_iter_i = _check_optimize_result(\n"
     ]
    },
    {
     "data": {
      "text/html": [
       "<style>#sk-container-id-9 {color: black;background-color: white;}#sk-container-id-9 pre{padding: 0;}#sk-container-id-9 div.sk-toggleable {background-color: white;}#sk-container-id-9 label.sk-toggleable__label {cursor: pointer;display: block;width: 100%;margin-bottom: 0;padding: 0.3em;box-sizing: border-box;text-align: center;}#sk-container-id-9 label.sk-toggleable__label-arrow:before {content: \"▸\";float: left;margin-right: 0.25em;color: #696969;}#sk-container-id-9 label.sk-toggleable__label-arrow:hover:before {color: black;}#sk-container-id-9 div.sk-estimator:hover label.sk-toggleable__label-arrow:before {color: black;}#sk-container-id-9 div.sk-toggleable__content {max-height: 0;max-width: 0;overflow: hidden;text-align: left;background-color: #f0f8ff;}#sk-container-id-9 div.sk-toggleable__content pre {margin: 0.2em;color: black;border-radius: 0.25em;background-color: #f0f8ff;}#sk-container-id-9 input.sk-toggleable__control:checked~div.sk-toggleable__content {max-height: 200px;max-width: 100%;overflow: auto;}#sk-container-id-9 input.sk-toggleable__control:checked~label.sk-toggleable__label-arrow:before {content: \"▾\";}#sk-container-id-9 div.sk-estimator input.sk-toggleable__control:checked~label.sk-toggleable__label {background-color: #d4ebff;}#sk-container-id-9 div.sk-label input.sk-toggleable__control:checked~label.sk-toggleable__label {background-color: #d4ebff;}#sk-container-id-9 input.sk-hidden--visually {border: 0;clip: rect(1px 1px 1px 1px);clip: rect(1px, 1px, 1px, 1px);height: 1px;margin: -1px;overflow: hidden;padding: 0;position: absolute;width: 1px;}#sk-container-id-9 div.sk-estimator {font-family: monospace;background-color: #f0f8ff;border: 1px dotted black;border-radius: 0.25em;box-sizing: border-box;margin-bottom: 0.5em;}#sk-container-id-9 div.sk-estimator:hover {background-color: #d4ebff;}#sk-container-id-9 div.sk-parallel-item::after {content: \"\";width: 100%;border-bottom: 1px solid gray;flex-grow: 1;}#sk-container-id-9 div.sk-label:hover label.sk-toggleable__label {background-color: #d4ebff;}#sk-container-id-9 div.sk-serial::before {content: \"\";position: absolute;border-left: 1px solid gray;box-sizing: border-box;top: 0;bottom: 0;left: 50%;z-index: 0;}#sk-container-id-9 div.sk-serial {display: flex;flex-direction: column;align-items: center;background-color: white;padding-right: 0.2em;padding-left: 0.2em;position: relative;}#sk-container-id-9 div.sk-item {position: relative;z-index: 1;}#sk-container-id-9 div.sk-parallel {display: flex;align-items: stretch;justify-content: center;background-color: white;position: relative;}#sk-container-id-9 div.sk-item::before, #sk-container-id-9 div.sk-parallel-item::before {content: \"\";position: absolute;border-left: 1px solid gray;box-sizing: border-box;top: 0;bottom: 0;left: 50%;z-index: -1;}#sk-container-id-9 div.sk-parallel-item {display: flex;flex-direction: column;z-index: 1;position: relative;background-color: white;}#sk-container-id-9 div.sk-parallel-item:first-child::after {align-self: flex-end;width: 50%;}#sk-container-id-9 div.sk-parallel-item:last-child::after {align-self: flex-start;width: 50%;}#sk-container-id-9 div.sk-parallel-item:only-child::after {width: 0;}#sk-container-id-9 div.sk-dashed-wrapped {border: 1px dashed gray;margin: 0 0.4em 0.5em 0.4em;box-sizing: border-box;padding-bottom: 0.4em;background-color: white;}#sk-container-id-9 div.sk-label label {font-family: monospace;font-weight: bold;display: inline-block;line-height: 1.2em;}#sk-container-id-9 div.sk-label-container {text-align: center;}#sk-container-id-9 div.sk-container {/* jupyter's `normalize.less` sets `[hidden] { display: none; }` but bootstrap.min.css set `[hidden] { display: none !important; }` so we also need the `!important` here to be able to override the default hidden behavior on the sphinx rendered scikit-learn.org. See: https://github.com/scikit-learn/scikit-learn/issues/21755 */display: inline-block !important;position: relative;}#sk-container-id-9 div.sk-text-repr-fallback {display: none;}</style><div id=\"sk-container-id-9\" class=\"sk-top-container\"><div class=\"sk-text-repr-fallback\"><pre>LogisticRegression(class_weight=&#x27;balanced&#x27;)</pre><b>In a Jupyter environment, please rerun this cell to show the HTML representation or trust the notebook. <br />On GitHub, the HTML representation is unable to render, please try loading this page with nbviewer.org.</b></div><div class=\"sk-container\" hidden><div class=\"sk-item\"><div class=\"sk-estimator sk-toggleable\"><input class=\"sk-toggleable__control sk-hidden--visually\" id=\"sk-estimator-id-9\" type=\"checkbox\" checked><label for=\"sk-estimator-id-9\" class=\"sk-toggleable__label sk-toggleable__label-arrow\">LogisticRegression</label><div class=\"sk-toggleable__content\"><pre>LogisticRegression(class_weight=&#x27;balanced&#x27;)</pre></div></div></div></div></div>"
      ],
      "text/plain": [
       "LogisticRegression(class_weight='balanced')"
      ]
     },
     "execution_count": 390,
     "metadata": {},
     "output_type": "execute_result"
    }
   ],
   "source": [
    "lr.fit(X_set[0],y_set[0])"
   ]
  },
  {
   "cell_type": "code",
   "execution_count": 392,
   "id": "2f519666-b865-40ea-8f0c-d9808b891507",
   "metadata": {
    "tags": []
   },
   "outputs": [
    {
     "data": {
      "text/plain": [
       "0.7553289008018008"
      ]
     },
     "execution_count": 392,
     "metadata": {},
     "output_type": "execute_result"
    }
   ],
   "source": [
    "lr.score(X_set[0],y_set[0])"
   ]
  },
  {
   "cell_type": "code",
   "execution_count": 394,
   "id": "6ff9b7ef-d15a-4e30-a356-304d93e038ca",
   "metadata": {
    "tags": []
   },
   "outputs": [],
   "source": [
    "from sklearn.metrics import confusion_matrix"
   ]
  },
  {
   "cell_type": "code",
   "execution_count": 396,
   "id": "2453cede-f4f1-485a-bcc2-b4a80fc678ea",
   "metadata": {
    "tags": []
   },
   "outputs": [
    {
     "data": {
      "text/html": [
       "<div>\n",
       "<style scoped>\n",
       "    .dataframe tbody tr th:only-of-type {\n",
       "        vertical-align: middle;\n",
       "    }\n",
       "\n",
       "    .dataframe tbody tr th {\n",
       "        vertical-align: top;\n",
       "    }\n",
       "\n",
       "    .dataframe thead th {\n",
       "        text-align: right;\n",
       "    }\n",
       "</style>\n",
       "<table border=\"1\" class=\"dataframe\">\n",
       "  <thead>\n",
       "    <tr style=\"text-align: right;\">\n",
       "      <th></th>\n",
       "      <th>0</th>\n",
       "      <th>1</th>\n",
       "      <th>2</th>\n",
       "      <th>3</th>\n",
       "      <th>4</th>\n",
       "      <th>5</th>\n",
       "      <th>6</th>\n",
       "      <th>7</th>\n",
       "      <th>8</th>\n",
       "      <th>9</th>\n",
       "      <th>10</th>\n",
       "      <th>11</th>\n",
       "    </tr>\n",
       "  </thead>\n",
       "  <tbody>\n",
       "    <tr>\n",
       "      <th>0</th>\n",
       "      <td>565</td>\n",
       "      <td>43</td>\n",
       "      <td>1282</td>\n",
       "      <td>180</td>\n",
       "      <td>1014</td>\n",
       "      <td>0</td>\n",
       "      <td>0</td>\n",
       "      <td>61</td>\n",
       "      <td>1665</td>\n",
       "      <td>0</td>\n",
       "      <td>153</td>\n",
       "      <td>462</td>\n",
       "    </tr>\n",
       "    <tr>\n",
       "      <th>1</th>\n",
       "      <td>18</td>\n",
       "      <td>191</td>\n",
       "      <td>144</td>\n",
       "      <td>1</td>\n",
       "      <td>16</td>\n",
       "      <td>0</td>\n",
       "      <td>0</td>\n",
       "      <td>0</td>\n",
       "      <td>3</td>\n",
       "      <td>0</td>\n",
       "      <td>0</td>\n",
       "      <td>1</td>\n",
       "    </tr>\n",
       "    <tr>\n",
       "      <th>2</th>\n",
       "      <td>0</td>\n",
       "      <td>0</td>\n",
       "      <td>58647</td>\n",
       "      <td>0</td>\n",
       "      <td>0</td>\n",
       "      <td>0</td>\n",
       "      <td>0</td>\n",
       "      <td>46</td>\n",
       "      <td>7568</td>\n",
       "      <td>0</td>\n",
       "      <td>0</td>\n",
       "      <td>0</td>\n",
       "    </tr>\n",
       "    <tr>\n",
       "      <th>3</th>\n",
       "      <td>1</td>\n",
       "      <td>1</td>\n",
       "      <td>0</td>\n",
       "      <td>2754</td>\n",
       "      <td>76</td>\n",
       "      <td>0</td>\n",
       "      <td>0</td>\n",
       "      <td>0</td>\n",
       "      <td>6</td>\n",
       "      <td>0</td>\n",
       "      <td>29</td>\n",
       "      <td>35</td>\n",
       "    </tr>\n",
       "    <tr>\n",
       "      <th>4</th>\n",
       "      <td>0</td>\n",
       "      <td>0</td>\n",
       "      <td>2</td>\n",
       "      <td>0</td>\n",
       "      <td>21</td>\n",
       "      <td>0</td>\n",
       "      <td>0</td>\n",
       "      <td>0</td>\n",
       "      <td>2</td>\n",
       "      <td>0</td>\n",
       "      <td>0</td>\n",
       "      <td>1</td>\n",
       "    </tr>\n",
       "    <tr>\n",
       "      <th>5</th>\n",
       "      <td>0</td>\n",
       "      <td>0</td>\n",
       "      <td>1</td>\n",
       "      <td>0</td>\n",
       "      <td>1</td>\n",
       "      <td>0</td>\n",
       "      <td>0</td>\n",
       "      <td>0</td>\n",
       "      <td>17</td>\n",
       "      <td>0</td>\n",
       "      <td>1</td>\n",
       "      <td>0</td>\n",
       "    </tr>\n",
       "    <tr>\n",
       "      <th>6</th>\n",
       "      <td>0</td>\n",
       "      <td>0</td>\n",
       "      <td>0</td>\n",
       "      <td>0</td>\n",
       "      <td>0</td>\n",
       "      <td>0</td>\n",
       "      <td>0</td>\n",
       "      <td>1400</td>\n",
       "      <td>0</td>\n",
       "      <td>0</td>\n",
       "      <td>0</td>\n",
       "      <td>0</td>\n",
       "    </tr>\n",
       "    <tr>\n",
       "      <th>7</th>\n",
       "      <td>0</td>\n",
       "      <td>0</td>\n",
       "      <td>2</td>\n",
       "      <td>0</td>\n",
       "      <td>3</td>\n",
       "      <td>0</td>\n",
       "      <td>0</td>\n",
       "      <td>696</td>\n",
       "      <td>0</td>\n",
       "      <td>0</td>\n",
       "      <td>0</td>\n",
       "      <td>0</td>\n",
       "    </tr>\n",
       "    <tr>\n",
       "      <th>8</th>\n",
       "      <td>1</td>\n",
       "      <td>0</td>\n",
       "      <td>97</td>\n",
       "      <td>0</td>\n",
       "      <td>10</td>\n",
       "      <td>0</td>\n",
       "      <td>0</td>\n",
       "      <td>1</td>\n",
       "      <td>1700</td>\n",
       "      <td>0</td>\n",
       "      <td>1</td>\n",
       "      <td>3</td>\n",
       "    </tr>\n",
       "    <tr>\n",
       "      <th>9</th>\n",
       "      <td>0</td>\n",
       "      <td>0</td>\n",
       "      <td>0</td>\n",
       "      <td>0</td>\n",
       "      <td>1</td>\n",
       "      <td>0</td>\n",
       "      <td>0</td>\n",
       "      <td>1397</td>\n",
       "      <td>8</td>\n",
       "      <td>0</td>\n",
       "      <td>1</td>\n",
       "      <td>0</td>\n",
       "    </tr>\n",
       "    <tr>\n",
       "      <th>10</th>\n",
       "      <td>38</td>\n",
       "      <td>8</td>\n",
       "      <td>32</td>\n",
       "      <td>19</td>\n",
       "      <td>2784</td>\n",
       "      <td>0</td>\n",
       "      <td>0</td>\n",
       "      <td>1</td>\n",
       "      <td>120</td>\n",
       "      <td>0</td>\n",
       "      <td>407</td>\n",
       "      <td>2266</td>\n",
       "    </tr>\n",
       "    <tr>\n",
       "      <th>11</th>\n",
       "      <td>4</td>\n",
       "      <td>4</td>\n",
       "      <td>18</td>\n",
       "      <td>0</td>\n",
       "      <td>29</td>\n",
       "      <td>0</td>\n",
       "      <td>0</td>\n",
       "      <td>0</td>\n",
       "      <td>8</td>\n",
       "      <td>0</td>\n",
       "      <td>0</td>\n",
       "      <td>114</td>\n",
       "    </tr>\n",
       "  </tbody>\n",
       "</table>\n",
       "</div>"
      ],
      "text/plain": [
       "     0    1      2     3     4   5   6     7     8   9    10    11\n",
       "0   565   43   1282   180  1014   0   0    61  1665   0  153   462\n",
       "1    18  191    144     1    16   0   0     0     3   0    0     1\n",
       "2     0    0  58647     0     0   0   0    46  7568   0    0     0\n",
       "3     1    1      0  2754    76   0   0     0     6   0   29    35\n",
       "4     0    0      2     0    21   0   0     0     2   0    0     1\n",
       "5     0    0      1     0     1   0   0     0    17   0    1     0\n",
       "6     0    0      0     0     0   0   0  1400     0   0    0     0\n",
       "7     0    0      2     0     3   0   0   696     0   0    0     0\n",
       "8     1    0     97     0    10   0   0     1  1700   0    1     3\n",
       "9     0    0      0     0     1   0   0  1397     8   0    1     0\n",
       "10   38    8     32    19  2784   0   0     1   120   0  407  2266\n",
       "11    4    4     18     0    29   0   0     0     8   0    0   114"
      ]
     },
     "execution_count": 396,
     "metadata": {},
     "output_type": "execute_result"
    }
   ],
   "source": [
    "pd.DataFrame(confusion_matrix(y_set[0],lr.predict(X_set[0])))"
   ]
  },
  {
   "cell_type": "code",
   "execution_count": 398,
   "id": "63c655e9-200c-40b2-9894-c00c1dd1f7d2",
   "metadata": {
    "tags": []
   },
   "outputs": [
    {
     "data": {
      "text/plain": [
       "0.754476890350029"
      ]
     },
     "execution_count": 398,
     "metadata": {},
     "output_type": "execute_result"
    }
   ],
   "source": [
    "lr.score(X_set[1][X_set[0].columns],y_set[1])"
   ]
  },
  {
   "cell_type": "code",
   "execution_count": 400,
   "id": "82f6277f-24a5-4ab1-8c76-da01fe3730bb",
   "metadata": {
    "tags": []
   },
   "outputs": [],
   "source": [
    "from sklearn.metrics import classification_report"
   ]
  },
  {
   "cell_type": "code",
   "execution_count": 402,
   "id": "c3dbd1a2-10c1-4040-a371-612d143bae07",
   "metadata": {
    "tags": []
   },
   "outputs": [
    {
     "name": "stderr",
     "output_type": "stream",
     "text": [
      "/opt/homebrew/anaconda3/lib/python3.11/site-packages/sklearn/metrics/_classification.py:1344: UndefinedMetricWarning: Precision and F-score are ill-defined and being set to 0.0 in labels with no predicted samples. Use `zero_division` parameter to control this behavior.\n",
      "  _warn_prf(average, modifier, msg_start, len(result))\n",
      "/opt/homebrew/anaconda3/lib/python3.11/site-packages/sklearn/metrics/_classification.py:1344: UndefinedMetricWarning: Precision and F-score are ill-defined and being set to 0.0 in labels with no predicted samples. Use `zero_division` parameter to control this behavior.\n",
      "  _warn_prf(average, modifier, msg_start, len(result))\n"
     ]
    },
    {
     "name": "stdout",
     "output_type": "stream",
     "text": [
      "                            precision    recall  f1-score   support\n",
      "\n",
      "            ARP_poisioning       0.94      0.10      0.18      1627\n",
      "            DDOS_Slowloris       0.80      0.51      0.62       112\n",
      "             DOS_SYN_Hping       0.97      0.89      0.93     19878\n",
      "              MQTT_Publish       0.94      0.94      0.94       871\n",
      "Metasploit_Brute_Force_SSH       0.01      0.88      0.01         8\n",
      "             NMAP_FIN_SCAN       0.00      0.00      0.00         6\n",
      "         NMAP_OS_DETECTION       0.00      0.00      0.00       420\n",
      "             NMAP_TCP_scan       0.19      1.00      0.33       211\n",
      "             NMAP_UDP_SCAN       0.15      0.93      0.26       544\n",
      "       NMAP_XMAS_TREE_SCAN       0.00      0.00      0.00       422\n",
      "               Thing_Speak       0.63      0.06      0.11      1703\n",
      "                Wipro_bulb       0.03      0.51      0.06        53\n",
      "\n",
      "                  accuracy                           0.75     25855\n",
      "                 macro avg       0.39      0.48      0.29     25855\n",
      "              weighted avg       0.89      0.75      0.77     25855\n",
      "\n"
     ]
    },
    {
     "name": "stderr",
     "output_type": "stream",
     "text": [
      "/opt/homebrew/anaconda3/lib/python3.11/site-packages/sklearn/metrics/_classification.py:1344: UndefinedMetricWarning: Precision and F-score are ill-defined and being set to 0.0 in labels with no predicted samples. Use `zero_division` parameter to control this behavior.\n",
      "  _warn_prf(average, modifier, msg_start, len(result))\n"
     ]
    }
   ],
   "source": [
    "print(classification_report(y_set[1],lr.predict(X_set[1][X_set[0].columns])))"
   ]
  },
  {
   "cell_type": "code",
   "execution_count": 404,
   "id": "5923ccaa-2c23-4126-98f0-c190497b408b",
   "metadata": {
    "tags": []
   },
   "outputs": [
    {
     "name": "stderr",
     "output_type": "stream",
     "text": [
      "/opt/homebrew/anaconda3/lib/python3.11/site-packages/sklearn/metrics/_classification.py:1344: UndefinedMetricWarning: Precision and F-score are ill-defined and being set to 0.0 in labels with no predicted samples. Use `zero_division` parameter to control this behavior.\n",
      "  _warn_prf(average, modifier, msg_start, len(result))\n",
      "/opt/homebrew/anaconda3/lib/python3.11/site-packages/sklearn/metrics/_classification.py:1344: UndefinedMetricWarning: Precision and F-score are ill-defined and being set to 0.0 in labels with no predicted samples. Use `zero_division` parameter to control this behavior.\n",
      "  _warn_prf(average, modifier, msg_start, len(result))\n"
     ]
    },
    {
     "name": "stdout",
     "output_type": "stream",
     "text": [
      "                            precision    recall  f1-score   support\n",
      "\n",
      "            ARP_poisioning       0.90      0.10      0.19      5425\n",
      "            DDOS_Slowloris       0.77      0.51      0.62       374\n",
      "             DOS_SYN_Hping       0.97      0.89      0.93     66261\n",
      "              MQTT_Publish       0.93      0.95      0.94      2902\n",
      "Metasploit_Brute_Force_SSH       0.01      0.81      0.01        26\n",
      "             NMAP_FIN_SCAN       0.00      0.00      0.00        20\n",
      "         NMAP_OS_DETECTION       0.00      0.00      0.00      1400\n",
      "             NMAP_TCP_scan       0.19      0.99      0.32       701\n",
      "             NMAP_UDP_SCAN       0.15      0.94      0.26      1813\n",
      "       NMAP_XMAS_TREE_SCAN       0.00      0.00      0.00      1407\n",
      "               Thing_Speak       0.69      0.07      0.13      5675\n",
      "                Wipro_bulb       0.04      0.64      0.07       177\n",
      "\n",
      "                  accuracy                           0.76     86181\n",
      "                 macro avg       0.39      0.49      0.29     86181\n",
      "              weighted avg       0.89      0.76      0.78     86181\n",
      "\n"
     ]
    },
    {
     "name": "stderr",
     "output_type": "stream",
     "text": [
      "/opt/homebrew/anaconda3/lib/python3.11/site-packages/sklearn/metrics/_classification.py:1344: UndefinedMetricWarning: Precision and F-score are ill-defined and being set to 0.0 in labels with no predicted samples. Use `zero_division` parameter to control this behavior.\n",
      "  _warn_prf(average, modifier, msg_start, len(result))\n"
     ]
    }
   ],
   "source": [
    "print(classification_report(y_set[0],lr.predict(X_set[0][X_set[0].columns])))"
   ]
  },
  {
   "cell_type": "code",
   "execution_count": 407,
   "id": "3ab459e3-aeb3-491a-b01d-3481ebf3ba78",
   "metadata": {
    "tags": []
   },
   "outputs": [],
   "source": [
    "from sklearn import metrics"
   ]
  },
  {
   "cell_type": "code",
   "execution_count": 417,
   "id": "918346f8-7b34-4769-9211-f3244d9d0e86",
   "metadata": {
    "tags": []
   },
   "outputs": [
    {
     "data": {
      "text/plain": [
       "0.9821199429935952"
      ]
     },
     "execution_count": 417,
     "metadata": {},
     "output_type": "execute_result"
    }
   ],
   "source": [
    "metrics.roc_auc_score(y_set[1], lr.predict_proba(X_set[1][X_set[0].columns]), multi_class='ovr',average='weighted')"
   ]
  },
  {
   "cell_type": "code",
   "execution_count": 415,
   "id": "c84971af-d48e-4ee0-9e32-b26cb66c09e3",
   "metadata": {
    "tags": []
   },
   "outputs": [
    {
     "data": {
      "text/plain": [
       "0.920794691001755"
      ]
     },
     "execution_count": 415,
     "metadata": {},
     "output_type": "execute_result"
    }
   ],
   "source": [
    "metrics.roc_auc_score(y_set[1], lr.predict_proba(X_set[1][X_set[0].columns]), multi_class='ovo')"
   ]
  },
  {
   "cell_type": "code",
   "execution_count": 419,
   "id": "196b5faf-e46b-4077-a6cb-45907b697283",
   "metadata": {
    "tags": []
   },
   "outputs": [
    {
     "data": {
      "text/plain": [
       "0.9680510593589449"
      ]
     },
     "execution_count": 419,
     "metadata": {},
     "output_type": "execute_result"
    }
   ],
   "source": [
    "metrics.roc_auc_score(y_set[1], lr.predict_proba(X_set[1][X_set[0].columns]), multi_class='ovo',average='weighted')"
   ]
  },
  {
   "cell_type": "code",
   "execution_count": 427,
   "id": "c1d797ce-58f8-48f0-b919-02f8131dc213",
   "metadata": {
    "tags": []
   },
   "outputs": [],
   "source": [
    "lr2 = LogisticRegression(max_iter=1000,class_weight='balanced')"
   ]
  },
  {
   "cell_type": "code",
   "execution_count": 429,
   "id": "85df46ea-194d-4caf-b28d-91600edb4a29",
   "metadata": {
    "tags": []
   },
   "outputs": [
    {
     "name": "stderr",
     "output_type": "stream",
     "text": [
      "/opt/homebrew/anaconda3/lib/python3.11/site-packages/sklearn/linear_model/_logistic.py:458: ConvergenceWarning: lbfgs failed to converge (status=1):\n",
      "STOP: TOTAL NO. of ITERATIONS REACHED LIMIT.\n",
      "\n",
      "Increase the number of iterations (max_iter) or scale the data as shown in:\n",
      "    https://scikit-learn.org/stable/modules/preprocessing.html\n",
      "Please also refer to the documentation for alternative solver options:\n",
      "    https://scikit-learn.org/stable/modules/linear_model.html#logistic-regression\n",
      "  n_iter_i = _check_optimize_result(\n"
     ]
    },
    {
     "data": {
      "text/html": [
       "<style>#sk-container-id-11 {color: black;background-color: white;}#sk-container-id-11 pre{padding: 0;}#sk-container-id-11 div.sk-toggleable {background-color: white;}#sk-container-id-11 label.sk-toggleable__label {cursor: pointer;display: block;width: 100%;margin-bottom: 0;padding: 0.3em;box-sizing: border-box;text-align: center;}#sk-container-id-11 label.sk-toggleable__label-arrow:before {content: \"▸\";float: left;margin-right: 0.25em;color: #696969;}#sk-container-id-11 label.sk-toggleable__label-arrow:hover:before {color: black;}#sk-container-id-11 div.sk-estimator:hover label.sk-toggleable__label-arrow:before {color: black;}#sk-container-id-11 div.sk-toggleable__content {max-height: 0;max-width: 0;overflow: hidden;text-align: left;background-color: #f0f8ff;}#sk-container-id-11 div.sk-toggleable__content pre {margin: 0.2em;color: black;border-radius: 0.25em;background-color: #f0f8ff;}#sk-container-id-11 input.sk-toggleable__control:checked~div.sk-toggleable__content {max-height: 200px;max-width: 100%;overflow: auto;}#sk-container-id-11 input.sk-toggleable__control:checked~label.sk-toggleable__label-arrow:before {content: \"▾\";}#sk-container-id-11 div.sk-estimator input.sk-toggleable__control:checked~label.sk-toggleable__label {background-color: #d4ebff;}#sk-container-id-11 div.sk-label input.sk-toggleable__control:checked~label.sk-toggleable__label {background-color: #d4ebff;}#sk-container-id-11 input.sk-hidden--visually {border: 0;clip: rect(1px 1px 1px 1px);clip: rect(1px, 1px, 1px, 1px);height: 1px;margin: -1px;overflow: hidden;padding: 0;position: absolute;width: 1px;}#sk-container-id-11 div.sk-estimator {font-family: monospace;background-color: #f0f8ff;border: 1px dotted black;border-radius: 0.25em;box-sizing: border-box;margin-bottom: 0.5em;}#sk-container-id-11 div.sk-estimator:hover {background-color: #d4ebff;}#sk-container-id-11 div.sk-parallel-item::after {content: \"\";width: 100%;border-bottom: 1px solid gray;flex-grow: 1;}#sk-container-id-11 div.sk-label:hover label.sk-toggleable__label {background-color: #d4ebff;}#sk-container-id-11 div.sk-serial::before {content: \"\";position: absolute;border-left: 1px solid gray;box-sizing: border-box;top: 0;bottom: 0;left: 50%;z-index: 0;}#sk-container-id-11 div.sk-serial {display: flex;flex-direction: column;align-items: center;background-color: white;padding-right: 0.2em;padding-left: 0.2em;position: relative;}#sk-container-id-11 div.sk-item {position: relative;z-index: 1;}#sk-container-id-11 div.sk-parallel {display: flex;align-items: stretch;justify-content: center;background-color: white;position: relative;}#sk-container-id-11 div.sk-item::before, #sk-container-id-11 div.sk-parallel-item::before {content: \"\";position: absolute;border-left: 1px solid gray;box-sizing: border-box;top: 0;bottom: 0;left: 50%;z-index: -1;}#sk-container-id-11 div.sk-parallel-item {display: flex;flex-direction: column;z-index: 1;position: relative;background-color: white;}#sk-container-id-11 div.sk-parallel-item:first-child::after {align-self: flex-end;width: 50%;}#sk-container-id-11 div.sk-parallel-item:last-child::after {align-self: flex-start;width: 50%;}#sk-container-id-11 div.sk-parallel-item:only-child::after {width: 0;}#sk-container-id-11 div.sk-dashed-wrapped {border: 1px dashed gray;margin: 0 0.4em 0.5em 0.4em;box-sizing: border-box;padding-bottom: 0.4em;background-color: white;}#sk-container-id-11 div.sk-label label {font-family: monospace;font-weight: bold;display: inline-block;line-height: 1.2em;}#sk-container-id-11 div.sk-label-container {text-align: center;}#sk-container-id-11 div.sk-container {/* jupyter's `normalize.less` sets `[hidden] { display: none; }` but bootstrap.min.css set `[hidden] { display: none !important; }` so we also need the `!important` here to be able to override the default hidden behavior on the sphinx rendered scikit-learn.org. See: https://github.com/scikit-learn/scikit-learn/issues/21755 */display: inline-block !important;position: relative;}#sk-container-id-11 div.sk-text-repr-fallback {display: none;}</style><div id=\"sk-container-id-11\" class=\"sk-top-container\"><div class=\"sk-text-repr-fallback\"><pre>LogisticRegression(class_weight=&#x27;balanced&#x27;, max_iter=1000)</pre><b>In a Jupyter environment, please rerun this cell to show the HTML representation or trust the notebook. <br />On GitHub, the HTML representation is unable to render, please try loading this page with nbviewer.org.</b></div><div class=\"sk-container\" hidden><div class=\"sk-item\"><div class=\"sk-estimator sk-toggleable\"><input class=\"sk-toggleable__control sk-hidden--visually\" id=\"sk-estimator-id-11\" type=\"checkbox\" checked><label for=\"sk-estimator-id-11\" class=\"sk-toggleable__label sk-toggleable__label-arrow\">LogisticRegression</label><div class=\"sk-toggleable__content\"><pre>LogisticRegression(class_weight=&#x27;balanced&#x27;, max_iter=1000)</pre></div></div></div></div></div>"
      ],
      "text/plain": [
       "LogisticRegression(class_weight='balanced', max_iter=1000)"
      ]
     },
     "execution_count": 429,
     "metadata": {},
     "output_type": "execute_result"
    }
   ],
   "source": [
    "lr2.fit(kbest_train,y_set[0])"
   ]
  },
  {
   "cell_type": "code",
   "execution_count": 433,
   "id": "e24d23e5-efd0-4ab5-9fd3-1ded8ba7529c",
   "metadata": {
    "tags": []
   },
   "outputs": [
    {
     "data": {
      "text/plain": [
       "0.9821552624929321"
      ]
     },
     "execution_count": 433,
     "metadata": {},
     "output_type": "execute_result"
    }
   ],
   "source": [
    "metrics.roc_auc_score(y_set[0], lr2.predict_proba(kbest_train), multi_class='ovo',average='weighted')"
   ]
  },
  {
   "cell_type": "code",
   "execution_count": 437,
   "id": "27bf37b5-46d7-4097-aca0-ae78f49e4bb2",
   "metadata": {
    "tags": []
   },
   "outputs": [
    {
     "name": "stdout",
     "output_type": "stream",
     "text": [
      "                            precision    recall  f1-score   support\n",
      "\n",
      "            ARP_poisioning       0.66      0.48      0.55      5425\n",
      "            DDOS_Slowloris       0.39      0.96      0.56       374\n",
      "             DOS_SYN_Hping       1.00      0.88      0.94     66261\n",
      "              MQTT_Publish       0.98      0.97      0.97      2902\n",
      "Metasploit_Brute_Force_SSH       0.10      0.77      0.17        26\n",
      "             NMAP_FIN_SCAN       0.00      0.85      0.00        20\n",
      "         NMAP_OS_DETECTION       0.54      0.73      0.62      1400\n",
      "             NMAP_TCP_scan       0.99      0.99      0.99       701\n",
      "             NMAP_UDP_SCAN       0.61      0.69      0.65      1813\n",
      "       NMAP_XMAS_TREE_SCAN       0.58      0.36      0.44      1407\n",
      "               Thing_Speak       0.89      0.46      0.60      5675\n",
      "                Wipro_bulb       0.34      0.67      0.45       177\n",
      "\n",
      "                  accuracy                           0.82     86181\n",
      "                 macro avg       0.59      0.73      0.58     86181\n",
      "              weighted avg       0.94      0.82      0.87     86181\n",
      "\n"
     ]
    }
   ],
   "source": [
    "print(classification_report(y_set[0],lr2.predict(kbest_train)))"
   ]
  },
  {
   "cell_type": "code",
   "execution_count": null,
   "id": "6a76dd6e-3dda-470b-bb74-c7560c60be60",
   "metadata": {},
   "outputs": [],
   "source": []
  }
 ],
 "metadata": {
  "kernelspec": {
   "display_name": "Python 3 (ipykernel)",
   "language": "python",
   "name": "python3"
  },
  "language_info": {
   "codemirror_mode": {
    "name": "ipython",
    "version": 3
   },
   "file_extension": ".py",
   "mimetype": "text/x-python",
   "name": "python",
   "nbconvert_exporter": "python",
   "pygments_lexer": "ipython3",
   "version": "3.11.5"
  }
 },
 "nbformat": 4,
 "nbformat_minor": 5
}
