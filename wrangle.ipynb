{
 "cells": [
  {
   "cell_type": "markdown",
   "id": "29c0b230-5d06-4812-9343-153ec3f9a05c",
   "metadata": {},
   "source": [
    "# Wrangle\n",
    "\n",
    "Comprised of 2 parts: Acquisition and Preparation.\n",
    "\n",
    "In Acquisition, the goal is to create functions that download the RT-IoT2022 dataset. In Preparation, I will conduct light analysis on the data in order to develop questions to be answered during a later stage."
   ]
  },
  {
   "cell_type": "markdown",
   "id": "73dad76d-7091-44d0-b385-fedbc9068e09",
   "metadata": {
    "tags": []
   },
   "source": [
    "## Acquisition\n",
    "---"
   ]
  },
  {
   "cell_type": "markdown",
   "id": "925d94a7-a853-4e0b-9ba2-420c290ae46e",
   "metadata": {},
   "source": [
    "### Imports\n",
    "I will be starting off with the basic imports of Pandas and NumPy"
   ]
  },
  {
   "cell_type": "code",
   "execution_count": 3,
   "id": "a7b244b8-972e-42e9-a7ac-b3111fd579ac",
   "metadata": {
    "tags": []
   },
   "outputs": [],
   "source": [
    "# Standard imports\n",
    "import pandas as pd\n",
    "import numpy as np"
   ]
  },
  {
   "cell_type": "markdown",
   "id": "92d49961-2b0a-4465-ab31-0cbc234820e9",
   "metadata": {},
   "source": [
    "Additionally, I will define a random state of 42 for any time I need to work with a random state parameter."
   ]
  },
  {
   "cell_type": "code",
   "execution_count": 6,
   "id": "657ed8e6-964f-42b6-ae60-ebcf0fd4662a",
   "metadata": {
    "tags": []
   },
   "outputs": [],
   "source": [
    "# Define ranstate for random state\n",
    "ranstate = 42"
   ]
  },
  {
   "cell_type": "markdown",
   "id": "9ac876a2-7c84-4dac-a155-5eebdf3d9bdf",
   "metadata": {
    "tags": []
   },
   "source": [
    "### Download\n",
    "\n",
    "The first thing I need to do is to download the data. The data comes from the [UC Irvine Machine Learning Repository](https://archive.ics.uci.edu/dataset/942/rt-iot2022), and I need to develop or find a way to download it.\n",
    "\n",
    "Looking on the page, it appears there is already documentation regarding importing using Python, so I will be using that."
   ]
  },
  {
   "cell_type": "code",
   "execution_count": 9,
   "id": "a9d905af-f3b2-4740-8a87-fc1c5e3b417e",
   "metadata": {
    "tags": []
   },
   "outputs": [
    {
     "name": "stdout",
     "output_type": "stream",
     "text": [
      "Requirement already satisfied: ucimlrepo in /opt/homebrew/anaconda3/lib/python3.11/site-packages (0.0.6)\n"
     ]
    }
   ],
   "source": [
    "# Install the necessary UC Irvine package\n",
    "!pip install ucimlrepo"
   ]
  },
  {
   "cell_type": "code",
   "execution_count": 11,
   "id": "3677d431-5b57-493a-89d4-e8f319bcfee2",
   "metadata": {
    "tags": []
   },
   "outputs": [
    {
     "name": "stdout",
     "output_type": "stream",
     "text": [
      "{'uci_id': 942, 'name': 'RT-IoT2022 ', 'repository_url': 'https://archive.ics.uci.edu/dataset/942/rt-iot2022', 'data_url': 'https://archive.ics.uci.edu/static/public/942/data.csv', 'abstract': 'The RT-IoT2022, a proprietary dataset derived from a real-time IoT infrastructure, is introduced as a comprehensive resource integrating a diverse range of IoT devices and sophisticated network attack methodologies. This dataset encompasses both normal and adversarial network behaviours, providing a general representation of real-world scenarios.\\nIncorporating data from IoT devices such as ThingSpeak-LED, Wipro-Bulb, and MQTT-Temp, as well as simulated attack scenarios involving Brute-Force SSH attacks, DDoS attacks using Hping and Slowloris, and Nmap patterns, RT-IoT2022 offers a detailed perspective on the complex nature of network traffic. The bidirectional attributes of network traffic are meticulously captured using the Zeek network monitoring tool and the Flowmeter plugin. Researchers can leverage the RT-IoT2022 dataset to advance the capabilities of Intrusion Detection Systems (IDS), fostering the development of robust and adaptive security solutions for real-time IoT networks. ', 'area': 'Engineering', 'tasks': ['Classification', 'Regression', 'Clustering'], 'characteristics': ['Tabular', 'Sequential', 'Multivariate'], 'num_instances': 123117, 'num_features': 83, 'feature_types': ['Real', 'Categorical'], 'demographics': [], 'target_col': ['Attack_type'], 'index_col': ['id'], 'has_missing_values': 'no', 'missing_values_symbol': None, 'year_of_dataset_creation': 2023, 'last_updated': 'Fri Mar 08 2024', 'dataset_doi': '10.24432/C5P338', 'creators': ['B. S.', 'Rohini Nagapadma'], 'intro_paper': {'title': 'Quantized autoencoder (QAE) intrusion detection system for anomaly detection in resource-constrained IoT devices using RT-IoT2022 dataset', 'authors': 'B. S. Sharmila, Rohini Nagapadma', 'published_in': 'Cybersecurity', 'year': 2023, 'url': 'https://www.semanticscholar.org/paper/753f6ede01b4acaa325e302c38f1e0c1ade74f5b', 'doi': None}, 'additional_info': {'summary': None, 'purpose': None, 'funded_by': None, 'instances_represent': None, 'recommended_data_splits': None, 'sensitive_data': None, 'preprocessing_description': None, 'variable_info': 'Column Details:\\nid.orig_p\\nid.resp_p\\nproto\\nservice\\nflow_duration\\nfwd_pkts_tot\\nbwd_pkts_tot\\nfwd_data_pkts_tot\\nbwd_data_pkts_tot\\nfwd_pkts_per_sec\\nbwd_pkts_per_sec\\nflow_pkts_per_sec\\ndown_up_ratio\\nfwd_header_size_tot\\nfwd_header_size_min\\nfwd_header_size_max\\nbwd_header_size_tot\\nbwd_header_size_min\\nbwd_header_size_max\\nflow_FIN_flag_count\\nflow_SYN_flag_count\\nflow_RST_flag_count\\nfwd_PSH_flag_count\\nbwd_PSH_flag_count\\nflow_ACK_flag_count\\nfwd_URG_flag_count\\nbwd_URG_flag_count\\nflow_CWR_flag_count\\nflow_ECE_flag_count\\nfwd_pkts_payload.min\\nfwd_pkts_payload.max\\nfwd_pkts_payload.tot\\nfwd_pkts_payload.avg\\nfwd_pkts_payload.std\\nbwd_pkts_payload.min\\nbwd_pkts_payload.max\\nbwd_pkts_payload.tot\\nbwd_pkts_payload.avg\\nbwd_pkts_payload.std\\nflow_pkts_payload.min\\nflow_pkts_payload.max\\nflow_pkts_payload.tot\\nflow_pkts_payload.avg\\nflow_pkts_payload.std\\nfwd_iat.min\\nfwd_iat.max\\nfwd_iat.tot\\nfwd_iat.avg\\nfwd_iat.std\\nbwd_iat.min\\nbwd_iat.max\\nbwd_iat.tot\\nbwd_iat.avg\\nbwd_iat.std\\nflow_iat.min\\nflow_iat.max\\nflow_iat.tot\\nflow_iat.avg\\nflow_iat.std\\npayload_bytes_per_second\\nfwd_subflow_pkts\\nbwd_subflow_pkts\\nfwd_subflow_bytes\\nbwd_subflow_bytes\\nfwd_bulk_bytes\\nbwd_bulk_bytes\\nfwd_bulk_packets\\nbwd_bulk_packets\\nfwd_bulk_rate\\nbwd_bulk_rate\\nactive.min\\nactive.max\\nactive.tot\\nactive.avg\\nactive.std\\nidle.min\\nidle.max\\nidle.tot\\nidle.avg\\nidle.std\\nfwd_init_window_size\\nbwd_init_window_size\\nfwd_last_window_size\\nAttack_type', 'citation': None}}\n",
      "                    name     role         type demographic description units  \\\n",
      "0              id.orig_p  Feature      Integer        None        None  None   \n",
      "1              id.resp_p  Feature      Integer        None        None  None   \n",
      "2                  proto  Feature  Categorical        None        None  None   \n",
      "3                service  Feature   Continuous        None        None  None   \n",
      "4          flow_duration  Feature   Continuous        None        None  None   \n",
      "..                   ...      ...          ...         ...         ...   ...   \n",
      "80  fwd_init_window_size  Feature      Integer        None        None  None   \n",
      "81  bwd_init_window_size  Feature      Integer        None        None  None   \n",
      "82  fwd_last_window_size  Feature      Integer        None        None  None   \n",
      "83           Attack_type   Target  Categorical        None        None  None   \n",
      "84                    id       ID      Integer        None        None  None   \n",
      "\n",
      "   missing_values  \n",
      "0              no  \n",
      "1              no  \n",
      "2              no  \n",
      "3              no  \n",
      "4              no  \n",
      "..            ...  \n",
      "80             no  \n",
      "81             no  \n",
      "82             no  \n",
      "83             no  \n",
      "84             no  \n",
      "\n",
      "[85 rows x 7 columns]\n"
     ]
    }
   ],
   "source": [
    "# Use the code provided to import the data:\n",
    "from ucimlrepo import fetch_ucirepo \n",
    "  \n",
    "# fetch dataset \n",
    "rt_iot2022 = fetch_ucirepo(id=942) \n",
    "  \n",
    "# data (as pandas dataframes) \n",
    "X = rt_iot2022.data.features \n",
    "y = rt_iot2022.data.targets \n",
    "  \n",
    "# metadata \n",
    "print(rt_iot2022.metadata) \n",
    "  \n",
    "# variable information \n",
    "print(rt_iot2022.variables) "
   ]
  },
  {
   "cell_type": "markdown",
   "id": "0760ce85-8bb0-4e1f-a2ca-1bced083a0e7",
   "metadata": {},
   "source": [
    "### Examine the results\n",
    "From these results, apparently a module or class object is created which holds all the data, plus some metadata concerning the dataset.\n",
    "\n",
    "I need to examine this in depth and determine what my next steps will be."
   ]
  },
  {
   "cell_type": "code",
   "execution_count": 14,
   "id": "1d28599d-0496-4103-b430-646c1f851986",
   "metadata": {
    "tags": []
   },
   "outputs": [
    {
     "data": {
      "text/plain": [
       "Index(['id.orig_p', 'id.resp_p', 'proto', 'service', 'flow_duration',\n",
       "       'fwd_pkts_tot', 'bwd_pkts_tot', 'fwd_data_pkts_tot',\n",
       "       'bwd_data_pkts_tot', 'fwd_pkts_per_sec', 'bwd_pkts_per_sec',\n",
       "       'flow_pkts_per_sec', 'down_up_ratio', 'fwd_header_size_tot',\n",
       "       'fwd_header_size_min', 'fwd_header_size_max', 'bwd_header_size_tot',\n",
       "       'bwd_header_size_min', 'bwd_header_size_max', 'flow_FIN_flag_count',\n",
       "       'flow_SYN_flag_count', 'flow_RST_flag_count', 'fwd_PSH_flag_count',\n",
       "       'bwd_PSH_flag_count', 'flow_ACK_flag_count', 'fwd_URG_flag_count',\n",
       "       'bwd_URG_flag_count', 'flow_CWR_flag_count', 'flow_ECE_flag_count',\n",
       "       'fwd_pkts_payload.min', 'fwd_pkts_payload.max', 'fwd_pkts_payload.tot',\n",
       "       'fwd_pkts_payload.avg', 'fwd_pkts_payload.std', 'bwd_pkts_payload.min',\n",
       "       'bwd_pkts_payload.max', 'bwd_pkts_payload.tot', 'bwd_pkts_payload.avg',\n",
       "       'bwd_pkts_payload.std', 'flow_pkts_payload.min',\n",
       "       'flow_pkts_payload.max', 'flow_pkts_payload.tot',\n",
       "       'flow_pkts_payload.avg', 'flow_pkts_payload.std', 'fwd_iat.min',\n",
       "       'fwd_iat.max', 'fwd_iat.tot', 'fwd_iat.avg', 'fwd_iat.std',\n",
       "       'bwd_iat.min', 'bwd_iat.max', 'bwd_iat.tot', 'bwd_iat.avg',\n",
       "       'bwd_iat.std', 'flow_iat.min', 'flow_iat.max', 'flow_iat.tot',\n",
       "       'flow_iat.avg', 'flow_iat.std', 'payload_bytes_per_second',\n",
       "       'fwd_subflow_pkts', 'bwd_subflow_pkts', 'fwd_subflow_bytes',\n",
       "       'bwd_subflow_bytes', 'fwd_bulk_bytes', 'bwd_bulk_bytes',\n",
       "       'fwd_bulk_packets', 'bwd_bulk_packets', 'fwd_bulk_rate',\n",
       "       'bwd_bulk_rate', 'active.min', 'active.max', 'active.tot', 'active.avg',\n",
       "       'active.std', 'idle.min', 'idle.max', 'idle.tot', 'idle.avg',\n",
       "       'idle.std', 'fwd_init_window_size', 'bwd_init_window_size',\n",
       "       'fwd_last_window_size'],\n",
       "      dtype='object')"
      ]
     },
     "execution_count": 14,
     "metadata": {},
     "output_type": "execute_result"
    }
   ],
   "source": [
    "rt_iot2022.data.features.columns"
   ]
  },
  {
   "cell_type": "code",
   "execution_count": 15,
   "id": "241c1e5a-b637-42ae-8b92-cdf5477e51f6",
   "metadata": {
    "tags": []
   },
   "outputs": [
    {
     "data": {
      "text/plain": [
       "Attack_type               \n",
       "DOS_SYN_Hping                 94659\n",
       "Thing_Speak                    8108\n",
       "ARP_poisioning                 7750\n",
       "MQTT_Publish                   4146\n",
       "NMAP_UDP_SCAN                  2590\n",
       "NMAP_XMAS_TREE_SCAN            2010\n",
       "NMAP_OS_DETECTION              2000\n",
       "NMAP_TCP_scan                  1002\n",
       "DDOS_Slowloris                  534\n",
       "Wipro_bulb                      253\n",
       "Metasploit_Brute_Force_SSH       37\n",
       "NMAP_FIN_SCAN                    28\n",
       "Name: count, dtype: int64"
      ]
     },
     "execution_count": 15,
     "metadata": {},
     "output_type": "execute_result"
    }
   ],
   "source": [
    "rt_iot2022.data.targets.value_counts()"
   ]
  },
  {
   "cell_type": "code",
   "execution_count": 16,
   "id": "835bf033-8618-4aa2-971c-38ab80fafc8c",
   "metadata": {
    "tags": []
   },
   "outputs": [
    {
     "data": {
      "text/plain": [
       "0"
      ]
     },
     "execution_count": 16,
     "metadata": {},
     "output_type": "execute_result"
    }
   ],
   "source": [
    "# Check that the target column doesn't exist in features provided\n",
    "rt_iot2022.data.features.columns.isin([\"Attack_type\"]).sum()"
   ]
  },
  {
   "cell_type": "code",
   "execution_count": 17,
   "id": "4318c9db-917e-4673-90d8-8c3917c5dbef",
   "metadata": {
    "tags": []
   },
   "outputs": [
    {
     "data": {
      "text/html": [
       "<div>\n",
       "<style scoped>\n",
       "    .dataframe tbody tr th:only-of-type {\n",
       "        vertical-align: middle;\n",
       "    }\n",
       "\n",
       "    .dataframe tbody tr th {\n",
       "        vertical-align: top;\n",
       "    }\n",
       "\n",
       "    .dataframe thead th {\n",
       "        text-align: right;\n",
       "    }\n",
       "</style>\n",
       "<table border=\"1\" class=\"dataframe\">\n",
       "  <thead>\n",
       "    <tr style=\"text-align: right;\">\n",
       "      <th></th>\n",
       "      <th>id.orig_p</th>\n",
       "      <th>id.resp_p</th>\n",
       "      <th>proto</th>\n",
       "      <th>service</th>\n",
       "      <th>flow_duration</th>\n",
       "      <th>fwd_pkts_tot</th>\n",
       "      <th>bwd_pkts_tot</th>\n",
       "      <th>fwd_data_pkts_tot</th>\n",
       "      <th>bwd_data_pkts_tot</th>\n",
       "      <th>fwd_pkts_per_sec</th>\n",
       "      <th>...</th>\n",
       "      <th>active.std</th>\n",
       "      <th>idle.min</th>\n",
       "      <th>idle.max</th>\n",
       "      <th>idle.tot</th>\n",
       "      <th>idle.avg</th>\n",
       "      <th>idle.std</th>\n",
       "      <th>fwd_init_window_size</th>\n",
       "      <th>bwd_init_window_size</th>\n",
       "      <th>fwd_last_window_size</th>\n",
       "      <th>Attack_type</th>\n",
       "    </tr>\n",
       "  </thead>\n",
       "  <tbody>\n",
       "    <tr>\n",
       "      <th>76235</th>\n",
       "      <td>7315</td>\n",
       "      <td>21</td>\n",
       "      <td>tcp</td>\n",
       "      <td>-</td>\n",
       "      <td>0.000001</td>\n",
       "      <td>1</td>\n",
       "      <td>1</td>\n",
       "      <td>1</td>\n",
       "      <td>0</td>\n",
       "      <td>838860.800000</td>\n",
       "      <td>...</td>\n",
       "      <td>0.0</td>\n",
       "      <td>0.00</td>\n",
       "      <td>0.00</td>\n",
       "      <td>0.00</td>\n",
       "      <td>0.00</td>\n",
       "      <td>0.0</td>\n",
       "      <td>64</td>\n",
       "      <td>0</td>\n",
       "      <td>64</td>\n",
       "      <td>DOS_SYN_Hping</td>\n",
       "    </tr>\n",
       "    <tr>\n",
       "      <th>36557</th>\n",
       "      <td>18609</td>\n",
       "      <td>21</td>\n",
       "      <td>tcp</td>\n",
       "      <td>-</td>\n",
       "      <td>0.000004</td>\n",
       "      <td>1</td>\n",
       "      <td>1</td>\n",
       "      <td>1</td>\n",
       "      <td>0</td>\n",
       "      <td>262144.000000</td>\n",
       "      <td>...</td>\n",
       "      <td>0.0</td>\n",
       "      <td>0.00</td>\n",
       "      <td>0.00</td>\n",
       "      <td>0.00</td>\n",
       "      <td>0.00</td>\n",
       "      <td>0.0</td>\n",
       "      <td>64</td>\n",
       "      <td>0</td>\n",
       "      <td>64</td>\n",
       "      <td>DOS_SYN_Hping</td>\n",
       "    </tr>\n",
       "    <tr>\n",
       "      <th>84102</th>\n",
       "      <td>14663</td>\n",
       "      <td>21</td>\n",
       "      <td>tcp</td>\n",
       "      <td>-</td>\n",
       "      <td>0.000002</td>\n",
       "      <td>1</td>\n",
       "      <td>1</td>\n",
       "      <td>1</td>\n",
       "      <td>0</td>\n",
       "      <td>466033.777800</td>\n",
       "      <td>...</td>\n",
       "      <td>0.0</td>\n",
       "      <td>0.00</td>\n",
       "      <td>0.00</td>\n",
       "      <td>0.00</td>\n",
       "      <td>0.00</td>\n",
       "      <td>0.0</td>\n",
       "      <td>64</td>\n",
       "      <td>0</td>\n",
       "      <td>64</td>\n",
       "      <td>DOS_SYN_Hping</td>\n",
       "    </tr>\n",
       "    <tr>\n",
       "      <th>3245</th>\n",
       "      <td>37827</td>\n",
       "      <td>1883</td>\n",
       "      <td>tcp</td>\n",
       "      <td>mqtt</td>\n",
       "      <td>62.052435</td>\n",
       "      <td>9</td>\n",
       "      <td>5</td>\n",
       "      <td>3</td>\n",
       "      <td>3</td>\n",
       "      <td>0.145039</td>\n",
       "      <td>...</td>\n",
       "      <td>0.0</td>\n",
       "      <td>59819087.98</td>\n",
       "      <td>59819087.98</td>\n",
       "      <td>59819087.98</td>\n",
       "      <td>59819087.98</td>\n",
       "      <td>0.0</td>\n",
       "      <td>64240</td>\n",
       "      <td>26847</td>\n",
       "      <td>502</td>\n",
       "      <td>MQTT_Publish</td>\n",
       "    </tr>\n",
       "    <tr>\n",
       "      <th>114798</th>\n",
       "      <td>22348</td>\n",
       "      <td>21</td>\n",
       "      <td>tcp</td>\n",
       "      <td>-</td>\n",
       "      <td>0.000000</td>\n",
       "      <td>1</td>\n",
       "      <td>0</td>\n",
       "      <td>1</td>\n",
       "      <td>0</td>\n",
       "      <td>0.000000</td>\n",
       "      <td>...</td>\n",
       "      <td>0.0</td>\n",
       "      <td>0.00</td>\n",
       "      <td>0.00</td>\n",
       "      <td>0.00</td>\n",
       "      <td>0.00</td>\n",
       "      <td>0.0</td>\n",
       "      <td>64</td>\n",
       "      <td>0</td>\n",
       "      <td>64</td>\n",
       "      <td>DOS_SYN_Hping</td>\n",
       "    </tr>\n",
       "    <tr>\n",
       "      <th>98863</th>\n",
       "      <td>37150</td>\n",
       "      <td>21</td>\n",
       "      <td>tcp</td>\n",
       "      <td>-</td>\n",
       "      <td>0.000005</td>\n",
       "      <td>1</td>\n",
       "      <td>1</td>\n",
       "      <td>1</td>\n",
       "      <td>0</td>\n",
       "      <td>199728.761900</td>\n",
       "      <td>...</td>\n",
       "      <td>0.0</td>\n",
       "      <td>0.00</td>\n",
       "      <td>0.00</td>\n",
       "      <td>0.00</td>\n",
       "      <td>0.00</td>\n",
       "      <td>0.0</td>\n",
       "      <td>64</td>\n",
       "      <td>0</td>\n",
       "      <td>64</td>\n",
       "      <td>DOS_SYN_Hping</td>\n",
       "    </tr>\n",
       "    <tr>\n",
       "      <th>98982</th>\n",
       "      <td>36115</td>\n",
       "      <td>21</td>\n",
       "      <td>tcp</td>\n",
       "      <td>-</td>\n",
       "      <td>0.000005</td>\n",
       "      <td>1</td>\n",
       "      <td>1</td>\n",
       "      <td>1</td>\n",
       "      <td>0</td>\n",
       "      <td>199728.761900</td>\n",
       "      <td>...</td>\n",
       "      <td>0.0</td>\n",
       "      <td>0.00</td>\n",
       "      <td>0.00</td>\n",
       "      <td>0.00</td>\n",
       "      <td>0.00</td>\n",
       "      <td>0.0</td>\n",
       "      <td>64</td>\n",
       "      <td>0</td>\n",
       "      <td>64</td>\n",
       "      <td>DOS_SYN_Hping</td>\n",
       "    </tr>\n",
       "    <tr>\n",
       "      <th>60129</th>\n",
       "      <td>42253</td>\n",
       "      <td>21</td>\n",
       "      <td>tcp</td>\n",
       "      <td>-</td>\n",
       "      <td>0.000004</td>\n",
       "      <td>1</td>\n",
       "      <td>1</td>\n",
       "      <td>1</td>\n",
       "      <td>0</td>\n",
       "      <td>246723.764700</td>\n",
       "      <td>...</td>\n",
       "      <td>0.0</td>\n",
       "      <td>0.00</td>\n",
       "      <td>0.00</td>\n",
       "      <td>0.00</td>\n",
       "      <td>0.00</td>\n",
       "      <td>0.0</td>\n",
       "      <td>64</td>\n",
       "      <td>0</td>\n",
       "      <td>64</td>\n",
       "      <td>DOS_SYN_Hping</td>\n",
       "    </tr>\n",
       "    <tr>\n",
       "      <th>121828</th>\n",
       "      <td>36242</td>\n",
       "      <td>1334</td>\n",
       "      <td>tcp</td>\n",
       "      <td>-</td>\n",
       "      <td>0.000009</td>\n",
       "      <td>1</td>\n",
       "      <td>1</td>\n",
       "      <td>0</td>\n",
       "      <td>0</td>\n",
       "      <td>110376.421100</td>\n",
       "      <td>...</td>\n",
       "      <td>0.0</td>\n",
       "      <td>0.00</td>\n",
       "      <td>0.00</td>\n",
       "      <td>0.00</td>\n",
       "      <td>0.00</td>\n",
       "      <td>0.0</td>\n",
       "      <td>1024</td>\n",
       "      <td>0</td>\n",
       "      <td>1024</td>\n",
       "      <td>NMAP_XMAS_TREE_SCAN</td>\n",
       "    </tr>\n",
       "    <tr>\n",
       "      <th>6700</th>\n",
       "      <td>49275</td>\n",
       "      <td>53</td>\n",
       "      <td>udp</td>\n",
       "      <td>dns</td>\n",
       "      <td>0.021367</td>\n",
       "      <td>2</td>\n",
       "      <td>2</td>\n",
       "      <td>2</td>\n",
       "      <td>2</td>\n",
       "      <td>93.601964</td>\n",
       "      <td>...</td>\n",
       "      <td>0.0</td>\n",
       "      <td>0.00</td>\n",
       "      <td>0.00</td>\n",
       "      <td>0.00</td>\n",
       "      <td>0.00</td>\n",
       "      <td>0.0</td>\n",
       "      <td>0</td>\n",
       "      <td>0</td>\n",
       "      <td>0</td>\n",
       "      <td>Thing_Speak</td>\n",
       "    </tr>\n",
       "  </tbody>\n",
       "</table>\n",
       "<p>10 rows × 84 columns</p>\n",
       "</div>"
      ],
      "text/plain": [
       "        id.orig_p  id.resp_p proto service  flow_duration  fwd_pkts_tot  \\\n",
       "76235        7315         21   tcp       -       0.000001             1   \n",
       "36557       18609         21   tcp       -       0.000004             1   \n",
       "84102       14663         21   tcp       -       0.000002             1   \n",
       "3245        37827       1883   tcp    mqtt      62.052435             9   \n",
       "114798      22348         21   tcp       -       0.000000             1   \n",
       "98863       37150         21   tcp       -       0.000005             1   \n",
       "98982       36115         21   tcp       -       0.000005             1   \n",
       "60129       42253         21   tcp       -       0.000004             1   \n",
       "121828      36242       1334   tcp       -       0.000009             1   \n",
       "6700        49275         53   udp     dns       0.021367             2   \n",
       "\n",
       "        bwd_pkts_tot  fwd_data_pkts_tot  bwd_data_pkts_tot  fwd_pkts_per_sec  \\\n",
       "76235              1                  1                  0     838860.800000   \n",
       "36557              1                  1                  0     262144.000000   \n",
       "84102              1                  1                  0     466033.777800   \n",
       "3245               5                  3                  3          0.145039   \n",
       "114798             0                  1                  0          0.000000   \n",
       "98863              1                  1                  0     199728.761900   \n",
       "98982              1                  1                  0     199728.761900   \n",
       "60129              1                  1                  0     246723.764700   \n",
       "121828             1                  0                  0     110376.421100   \n",
       "6700               2                  2                  2         93.601964   \n",
       "\n",
       "        ...  active.std     idle.min     idle.max     idle.tot     idle.avg  \\\n",
       "76235   ...         0.0         0.00         0.00         0.00         0.00   \n",
       "36557   ...         0.0         0.00         0.00         0.00         0.00   \n",
       "84102   ...         0.0         0.00         0.00         0.00         0.00   \n",
       "3245    ...         0.0  59819087.98  59819087.98  59819087.98  59819087.98   \n",
       "114798  ...         0.0         0.00         0.00         0.00         0.00   \n",
       "98863   ...         0.0         0.00         0.00         0.00         0.00   \n",
       "98982   ...         0.0         0.00         0.00         0.00         0.00   \n",
       "60129   ...         0.0         0.00         0.00         0.00         0.00   \n",
       "121828  ...         0.0         0.00         0.00         0.00         0.00   \n",
       "6700    ...         0.0         0.00         0.00         0.00         0.00   \n",
       "\n",
       "        idle.std  fwd_init_window_size  bwd_init_window_size  \\\n",
       "76235        0.0                    64                     0   \n",
       "36557        0.0                    64                     0   \n",
       "84102        0.0                    64                     0   \n",
       "3245         0.0                 64240                 26847   \n",
       "114798       0.0                    64                     0   \n",
       "98863        0.0                    64                     0   \n",
       "98982        0.0                    64                     0   \n",
       "60129        0.0                    64                     0   \n",
       "121828       0.0                  1024                     0   \n",
       "6700         0.0                     0                     0   \n",
       "\n",
       "        fwd_last_window_size          Attack_type  \n",
       "76235                     64        DOS_SYN_Hping  \n",
       "36557                     64        DOS_SYN_Hping  \n",
       "84102                     64        DOS_SYN_Hping  \n",
       "3245                     502         MQTT_Publish  \n",
       "114798                    64        DOS_SYN_Hping  \n",
       "98863                     64        DOS_SYN_Hping  \n",
       "98982                     64        DOS_SYN_Hping  \n",
       "60129                     64        DOS_SYN_Hping  \n",
       "121828                  1024  NMAP_XMAS_TREE_SCAN  \n",
       "6700                       0          Thing_Speak  \n",
       "\n",
       "[10 rows x 84 columns]"
      ]
     },
     "execution_count": 17,
     "metadata": {},
     "output_type": "execute_result"
    }
   ],
   "source": [
    "# Concatenate the two datasets\n",
    "df = pd.concat([rt_iot2022.data.features,rt_iot2022.data.targets],axis=1)\n",
    "df.sample(10,random_state=ranstate)"
   ]
  },
  {
   "cell_type": "code",
   "execution_count": 18,
   "id": "9bcd46d9-e7af-4aae-9cfd-245f1402f9b5",
   "metadata": {
    "tags": []
   },
   "outputs": [],
   "source": [
    "def acquire_iot2022():\n",
    "    \"\"\"\n",
    "    Function to download and import the RT-IoT2022 dataset. Takes no parameters. Assumes the ucimlrepo has already been installed.\n",
    "    \n",
    "    Parameters:\n",
    "    -----------\n",
    "    - None\n",
    "    \n",
    "    Return:\n",
    "    -------\n",
    "    - Pandas DataFrame containing the RT IoT2022 information dataset\n",
    "    - Dictionary object containing all RT IoT2022 data, including metadata.\n",
    "    \"\"\"\n",
    "    try:\n",
    "        from ucimlrepo import fetch_ucirepo \n",
    "        \n",
    "        # Fetch dataset \n",
    "        rt_iot2022 = fetch_ucirepo(id=942)\n",
    "\n",
    "        # Concatenate the two datasets\n",
    "        df = pd.concat([rt_iot2022.data.features,rt_iot2022.data.targets],axis=1)\n",
    "\n",
    "        return df.copy(),rt_iot2022\n",
    "    \n",
    "    except:\n",
    "        print(\"Import failed due to 1 or more of the following reasons:\\n\\t - User is missing the UC Irvine Python package.\\n\\t - Dataset is no longer available at the queried location.\\n\\t - Some of the libraries in use have changed.\")\n",
    "    "
   ]
  },
  {
   "cell_type": "markdown",
   "id": "5614decb-2299-474f-b4eb-1d57299cfe10",
   "metadata": {},
   "source": [
    "## Preparation"
   ]
  },
  {
   "cell_type": "markdown",
   "id": "5045902e-9e17-4243-b101-276908211169",
   "metadata": {},
   "source": [
    "The first thing I need to do is to test the function I have already built."
   ]
  },
  {
   "cell_type": "code",
   "execution_count": 21,
   "id": "9b349593-899d-40e9-8b12-0d251c0ef25f",
   "metadata": {
    "tags": []
   },
   "outputs": [],
   "source": [
    "df, rt_data = acquire_iot2022()"
   ]
  },
  {
   "cell_type": "code",
   "execution_count": 22,
   "id": "c43de41a-0539-4b3c-9a8f-800bc5440e9f",
   "metadata": {
    "tags": []
   },
   "outputs": [
    {
     "data": {
      "text/html": [
       "<div>\n",
       "<style scoped>\n",
       "    .dataframe tbody tr th:only-of-type {\n",
       "        vertical-align: middle;\n",
       "    }\n",
       "\n",
       "    .dataframe tbody tr th {\n",
       "        vertical-align: top;\n",
       "    }\n",
       "\n",
       "    .dataframe thead th {\n",
       "        text-align: right;\n",
       "    }\n",
       "</style>\n",
       "<table border=\"1\" class=\"dataframe\">\n",
       "  <thead>\n",
       "    <tr style=\"text-align: right;\">\n",
       "      <th></th>\n",
       "      <th>id.orig_p</th>\n",
       "      <th>id.resp_p</th>\n",
       "      <th>proto</th>\n",
       "      <th>service</th>\n",
       "      <th>flow_duration</th>\n",
       "      <th>fwd_pkts_tot</th>\n",
       "      <th>bwd_pkts_tot</th>\n",
       "      <th>fwd_data_pkts_tot</th>\n",
       "      <th>bwd_data_pkts_tot</th>\n",
       "      <th>fwd_pkts_per_sec</th>\n",
       "      <th>...</th>\n",
       "      <th>active.std</th>\n",
       "      <th>idle.min</th>\n",
       "      <th>idle.max</th>\n",
       "      <th>idle.tot</th>\n",
       "      <th>idle.avg</th>\n",
       "      <th>idle.std</th>\n",
       "      <th>fwd_init_window_size</th>\n",
       "      <th>bwd_init_window_size</th>\n",
       "      <th>fwd_last_window_size</th>\n",
       "      <th>Attack_type</th>\n",
       "    </tr>\n",
       "  </thead>\n",
       "  <tbody>\n",
       "    <tr>\n",
       "      <th>76235</th>\n",
       "      <td>7315</td>\n",
       "      <td>21</td>\n",
       "      <td>tcp</td>\n",
       "      <td>-</td>\n",
       "      <td>0.000001</td>\n",
       "      <td>1</td>\n",
       "      <td>1</td>\n",
       "      <td>1</td>\n",
       "      <td>0</td>\n",
       "      <td>838860.800000</td>\n",
       "      <td>...</td>\n",
       "      <td>0.0</td>\n",
       "      <td>0.00</td>\n",
       "      <td>0.00</td>\n",
       "      <td>0.00</td>\n",
       "      <td>0.00</td>\n",
       "      <td>0.0</td>\n",
       "      <td>64</td>\n",
       "      <td>0</td>\n",
       "      <td>64</td>\n",
       "      <td>DOS_SYN_Hping</td>\n",
       "    </tr>\n",
       "    <tr>\n",
       "      <th>36557</th>\n",
       "      <td>18609</td>\n",
       "      <td>21</td>\n",
       "      <td>tcp</td>\n",
       "      <td>-</td>\n",
       "      <td>0.000004</td>\n",
       "      <td>1</td>\n",
       "      <td>1</td>\n",
       "      <td>1</td>\n",
       "      <td>0</td>\n",
       "      <td>262144.000000</td>\n",
       "      <td>...</td>\n",
       "      <td>0.0</td>\n",
       "      <td>0.00</td>\n",
       "      <td>0.00</td>\n",
       "      <td>0.00</td>\n",
       "      <td>0.00</td>\n",
       "      <td>0.0</td>\n",
       "      <td>64</td>\n",
       "      <td>0</td>\n",
       "      <td>64</td>\n",
       "      <td>DOS_SYN_Hping</td>\n",
       "    </tr>\n",
       "    <tr>\n",
       "      <th>84102</th>\n",
       "      <td>14663</td>\n",
       "      <td>21</td>\n",
       "      <td>tcp</td>\n",
       "      <td>-</td>\n",
       "      <td>0.000002</td>\n",
       "      <td>1</td>\n",
       "      <td>1</td>\n",
       "      <td>1</td>\n",
       "      <td>0</td>\n",
       "      <td>466033.777800</td>\n",
       "      <td>...</td>\n",
       "      <td>0.0</td>\n",
       "      <td>0.00</td>\n",
       "      <td>0.00</td>\n",
       "      <td>0.00</td>\n",
       "      <td>0.00</td>\n",
       "      <td>0.0</td>\n",
       "      <td>64</td>\n",
       "      <td>0</td>\n",
       "      <td>64</td>\n",
       "      <td>DOS_SYN_Hping</td>\n",
       "    </tr>\n",
       "    <tr>\n",
       "      <th>3245</th>\n",
       "      <td>37827</td>\n",
       "      <td>1883</td>\n",
       "      <td>tcp</td>\n",
       "      <td>mqtt</td>\n",
       "      <td>62.052435</td>\n",
       "      <td>9</td>\n",
       "      <td>5</td>\n",
       "      <td>3</td>\n",
       "      <td>3</td>\n",
       "      <td>0.145039</td>\n",
       "      <td>...</td>\n",
       "      <td>0.0</td>\n",
       "      <td>59819087.98</td>\n",
       "      <td>59819087.98</td>\n",
       "      <td>59819087.98</td>\n",
       "      <td>59819087.98</td>\n",
       "      <td>0.0</td>\n",
       "      <td>64240</td>\n",
       "      <td>26847</td>\n",
       "      <td>502</td>\n",
       "      <td>MQTT_Publish</td>\n",
       "    </tr>\n",
       "    <tr>\n",
       "      <th>114798</th>\n",
       "      <td>22348</td>\n",
       "      <td>21</td>\n",
       "      <td>tcp</td>\n",
       "      <td>-</td>\n",
       "      <td>0.000000</td>\n",
       "      <td>1</td>\n",
       "      <td>0</td>\n",
       "      <td>1</td>\n",
       "      <td>0</td>\n",
       "      <td>0.000000</td>\n",
       "      <td>...</td>\n",
       "      <td>0.0</td>\n",
       "      <td>0.00</td>\n",
       "      <td>0.00</td>\n",
       "      <td>0.00</td>\n",
       "      <td>0.00</td>\n",
       "      <td>0.0</td>\n",
       "      <td>64</td>\n",
       "      <td>0</td>\n",
       "      <td>64</td>\n",
       "      <td>DOS_SYN_Hping</td>\n",
       "    </tr>\n",
       "  </tbody>\n",
       "</table>\n",
       "<p>5 rows × 84 columns</p>\n",
       "</div>"
      ],
      "text/plain": [
       "        id.orig_p  id.resp_p proto service  flow_duration  fwd_pkts_tot  \\\n",
       "76235        7315         21   tcp       -       0.000001             1   \n",
       "36557       18609         21   tcp       -       0.000004             1   \n",
       "84102       14663         21   tcp       -       0.000002             1   \n",
       "3245        37827       1883   tcp    mqtt      62.052435             9   \n",
       "114798      22348         21   tcp       -       0.000000             1   \n",
       "\n",
       "        bwd_pkts_tot  fwd_data_pkts_tot  bwd_data_pkts_tot  fwd_pkts_per_sec  \\\n",
       "76235              1                  1                  0     838860.800000   \n",
       "36557              1                  1                  0     262144.000000   \n",
       "84102              1                  1                  0     466033.777800   \n",
       "3245               5                  3                  3          0.145039   \n",
       "114798             0                  1                  0          0.000000   \n",
       "\n",
       "        ...  active.std     idle.min     idle.max     idle.tot     idle.avg  \\\n",
       "76235   ...         0.0         0.00         0.00         0.00         0.00   \n",
       "36557   ...         0.0         0.00         0.00         0.00         0.00   \n",
       "84102   ...         0.0         0.00         0.00         0.00         0.00   \n",
       "3245    ...         0.0  59819087.98  59819087.98  59819087.98  59819087.98   \n",
       "114798  ...         0.0         0.00         0.00         0.00         0.00   \n",
       "\n",
       "        idle.std  fwd_init_window_size  bwd_init_window_size  \\\n",
       "76235        0.0                    64                     0   \n",
       "36557        0.0                    64                     0   \n",
       "84102        0.0                    64                     0   \n",
       "3245         0.0                 64240                 26847   \n",
       "114798       0.0                    64                     0   \n",
       "\n",
       "        fwd_last_window_size    Attack_type  \n",
       "76235                     64  DOS_SYN_Hping  \n",
       "36557                     64  DOS_SYN_Hping  \n",
       "84102                     64  DOS_SYN_Hping  \n",
       "3245                     502   MQTT_Publish  \n",
       "114798                    64  DOS_SYN_Hping  \n",
       "\n",
       "[5 rows x 84 columns]"
      ]
     },
     "execution_count": 22,
     "metadata": {},
     "output_type": "execute_result"
    }
   ],
   "source": [
    "df.sample(5,random_state=ranstate)"
   ]
  },
  {
   "cell_type": "markdown",
   "id": "3ecdd49b-b3d8-4c14-9c48-464541376ab0",
   "metadata": {},
   "source": [
    "### Splitting the data\n",
    "Now that I have verified it works, the next thing I need to do to split the data. The reason I am doing this is to manage potential biases I may have or develop during my research. I will split the data twice: once into the train and validate/test data, and then into the validate and and test data.\n",
    "\n",
    "The train data is what I will actively be working on and focusing on. Any functions I develop will need to be able to work on the other datasets without issue. The validate data will be unseen information by myself and seen only by the computer in later modeling. The test data will not be seen until the very end of the project."
   ]
  },
  {
   "cell_type": "markdown",
   "id": "d3b9c633-0f4d-4417-b328-a62fa0a65191",
   "metadata": {},
   "source": [
    "Before I begin to split the data, I'm going to import a function I've created in the past that shows me all sorts of information about the data."
   ]
  },
  {
   "cell_type": "code",
   "execution_count": 25,
   "id": "7b997639-a417-4fdd-a69e-ccb5e4e7a49a",
   "metadata": {
    "tags": []
   },
   "outputs": [],
   "source": [
    "def df_info(df,include=False,samples=1):\n",
    "\t\"\"\"\n",
    "\tFunction takes a dataframe and returns potentially relevant information about it (including a sample)\n",
    "\tinclude=bool, default to False. To add the results from a describe method, pass True to the argument.\n",
    "\tsamples=int, default to 1. Shows 1 sample by default, but can be modified to include more samples if desired.\n",
    "\t\"\"\"\n",
    "\t\t# create the df_inf dataframe\n",
    "\tdf_inf = pd.DataFrame(index=df.columns,\n",
    "\t\t\tdata = {\n",
    "\t\t\t\t'nunique':df.nunique()\n",
    "\t\t\t\t,'dtypes':df.dtypes\n",
    "\t\t\t\t,'isnull':df.isnull().sum()\n",
    "\t\t\t})\n",
    "\t\t# append samples based on input\n",
    "\tif samples >= 1:\n",
    "\t\tdf_inf = df_inf.merge(df.sample(samples).iloc[0:samples].T,how='left',left_index=True,right_index=True)\n",
    "\t\t# append describe results if option selected\n",
    "\tif include == True:\n",
    "\t\treturn df_inf.merge(df.describe(include='all').T,how='left',left_index=True,right_index=True)\n",
    "\telif include == False:\n",
    "\t\treturn df_inf\n",
    "\telse:\n",
    "\t\tprint('Value passed to \"include\" argument is invalid.')"
   ]
  },
  {
   "cell_type": "code",
   "execution_count": 26,
   "id": "976e21af-29f7-453e-869c-df4a3c60e7dd",
   "metadata": {
    "tags": []
   },
   "outputs": [
    {
     "data": {
      "text/html": [
       "<div>\n",
       "<style scoped>\n",
       "    .dataframe tbody tr th:only-of-type {\n",
       "        vertical-align: middle;\n",
       "    }\n",
       "\n",
       "    .dataframe tbody tr th {\n",
       "        vertical-align: top;\n",
       "    }\n",
       "\n",
       "    .dataframe thead th {\n",
       "        text-align: right;\n",
       "    }\n",
       "</style>\n",
       "<table border=\"1\" class=\"dataframe\">\n",
       "  <thead>\n",
       "    <tr style=\"text-align: right;\">\n",
       "      <th></th>\n",
       "      <th>nunique</th>\n",
       "      <th>dtypes</th>\n",
       "      <th>isnull</th>\n",
       "      <th>42036</th>\n",
       "    </tr>\n",
       "  </thead>\n",
       "  <tbody>\n",
       "    <tr>\n",
       "      <th>id.orig_p</th>\n",
       "      <td>65478</td>\n",
       "      <td>int64</td>\n",
       "      <td>0</td>\n",
       "      <td>24088</td>\n",
       "    </tr>\n",
       "    <tr>\n",
       "      <th>id.resp_p</th>\n",
       "      <td>1809</td>\n",
       "      <td>int64</td>\n",
       "      <td>0</td>\n",
       "      <td>21</td>\n",
       "    </tr>\n",
       "    <tr>\n",
       "      <th>proto</th>\n",
       "      <td>3</td>\n",
       "      <td>object</td>\n",
       "      <td>0</td>\n",
       "      <td>tcp</td>\n",
       "    </tr>\n",
       "    <tr>\n",
       "      <th>service</th>\n",
       "      <td>10</td>\n",
       "      <td>object</td>\n",
       "      <td>0</td>\n",
       "      <td>-</td>\n",
       "    </tr>\n",
       "    <tr>\n",
       "      <th>flow_duration</th>\n",
       "      <td>16381</td>\n",
       "      <td>float64</td>\n",
       "      <td>0</td>\n",
       "      <td>0.000001</td>\n",
       "    </tr>\n",
       "    <tr>\n",
       "      <th>...</th>\n",
       "      <td>...</td>\n",
       "      <td>...</td>\n",
       "      <td>...</td>\n",
       "      <td>...</td>\n",
       "    </tr>\n",
       "    <tr>\n",
       "      <th>idle.std</th>\n",
       "      <td>1001</td>\n",
       "      <td>float64</td>\n",
       "      <td>0</td>\n",
       "      <td>0.0</td>\n",
       "    </tr>\n",
       "    <tr>\n",
       "      <th>fwd_init_window_size</th>\n",
       "      <td>20</td>\n",
       "      <td>int64</td>\n",
       "      <td>0</td>\n",
       "      <td>64</td>\n",
       "    </tr>\n",
       "    <tr>\n",
       "      <th>bwd_init_window_size</th>\n",
       "      <td>56</td>\n",
       "      <td>int64</td>\n",
       "      <td>0</td>\n",
       "      <td>0</td>\n",
       "    </tr>\n",
       "    <tr>\n",
       "      <th>fwd_last_window_size</th>\n",
       "      <td>109</td>\n",
       "      <td>int64</td>\n",
       "      <td>0</td>\n",
       "      <td>64</td>\n",
       "    </tr>\n",
       "    <tr>\n",
       "      <th>Attack_type</th>\n",
       "      <td>12</td>\n",
       "      <td>object</td>\n",
       "      <td>0</td>\n",
       "      <td>DOS_SYN_Hping</td>\n",
       "    </tr>\n",
       "  </tbody>\n",
       "</table>\n",
       "<p>84 rows × 4 columns</p>\n",
       "</div>"
      ],
      "text/plain": [
       "                      nunique   dtypes  isnull          42036\n",
       "id.orig_p               65478    int64       0          24088\n",
       "id.resp_p                1809    int64       0             21\n",
       "proto                       3   object       0            tcp\n",
       "service                    10   object       0              -\n",
       "flow_duration           16381  float64       0       0.000001\n",
       "...                       ...      ...     ...            ...\n",
       "idle.std                 1001  float64       0            0.0\n",
       "fwd_init_window_size       20    int64       0             64\n",
       "bwd_init_window_size       56    int64       0              0\n",
       "fwd_last_window_size      109    int64       0             64\n",
       "Attack_type                12   object       0  DOS_SYN_Hping\n",
       "\n",
       "[84 rows x 4 columns]"
      ]
     },
     "execution_count": 26,
     "metadata": {},
     "output_type": "execute_result"
    }
   ],
   "source": [
    "df_info(df)"
   ]
  },
  {
   "cell_type": "markdown",
   "id": "d04f7fc6-433d-459a-ad41-f8c9ccbd4a24",
   "metadata": {},
   "source": [
    "Unfortunately, it appears the data has too many features that my function won't show any useful information, so I need to approach this a different way.\n",
    "\n",
    "Most importantly, I need to verify that my data has no null values (as is described online), and I need to check each data type."
   ]
  },
  {
   "cell_type": "code",
   "execution_count": 28,
   "id": "f9cc25ed-121e-48fd-98b5-0c77c9e2dc93",
   "metadata": {
    "tags": []
   },
   "outputs": [
    {
     "data": {
      "text/plain": [
       "0"
      ]
     },
     "execution_count": 28,
     "metadata": {},
     "output_type": "execute_result"
    }
   ],
   "source": [
    "df.isnull().sum().sum()"
   ]
  },
  {
   "cell_type": "markdown",
   "id": "23b02688-e38b-49c7-b267-8dd8611f3869",
   "metadata": {},
   "source": [
    "The isnull() method shows True/False of each entry in the database, so by adding one sum() method, I limit what's being shown to just the columns. Another sum() method chained onto the end limits me to a 0, telling me that there are no null values."
   ]
  },
  {
   "cell_type": "code",
   "execution_count": 30,
   "id": "4ae37904-f060-4701-ae03-a1e02e532353",
   "metadata": {
    "tags": []
   },
   "outputs": [
    {
     "name": "stdout",
     "output_type": "stream",
     "text": [
      "<class 'pandas.core.frame.DataFrame'>\n",
      "RangeIndex: 123117 entries, 0 to 123116\n",
      "Data columns (total 84 columns):\n",
      " #   Column                    Non-Null Count   Dtype  \n",
      "---  ------                    --------------   -----  \n",
      " 0   id.orig_p                 123117 non-null  int64  \n",
      " 1   id.resp_p                 123117 non-null  int64  \n",
      " 2   proto                     123117 non-null  object \n",
      " 3   service                   123117 non-null  object \n",
      " 4   flow_duration             123117 non-null  float64\n",
      " 5   fwd_pkts_tot              123117 non-null  int64  \n",
      " 6   bwd_pkts_tot              123117 non-null  int64  \n",
      " 7   fwd_data_pkts_tot         123117 non-null  int64  \n",
      " 8   bwd_data_pkts_tot         123117 non-null  int64  \n",
      " 9   fwd_pkts_per_sec          123117 non-null  float64\n",
      " 10  bwd_pkts_per_sec          123117 non-null  float64\n",
      " 11  flow_pkts_per_sec         123117 non-null  float64\n",
      " 12  down_up_ratio             123117 non-null  float64\n",
      " 13  fwd_header_size_tot       123117 non-null  int64  \n",
      " 14  fwd_header_size_min       123117 non-null  int64  \n",
      " 15  fwd_header_size_max       123117 non-null  int64  \n",
      " 16  bwd_header_size_tot       123117 non-null  int64  \n",
      " 17  bwd_header_size_min       123117 non-null  int64  \n",
      " 18  bwd_header_size_max       123117 non-null  int64  \n",
      " 19  flow_FIN_flag_count       123117 non-null  int64  \n",
      " 20  flow_SYN_flag_count       123117 non-null  int64  \n",
      " 21  flow_RST_flag_count       123117 non-null  int64  \n",
      " 22  fwd_PSH_flag_count        123117 non-null  int64  \n",
      " 23  bwd_PSH_flag_count        123117 non-null  int64  \n",
      " 24  flow_ACK_flag_count       123117 non-null  int64  \n",
      " 25  fwd_URG_flag_count        123117 non-null  int64  \n",
      " 26  bwd_URG_flag_count        123117 non-null  int64  \n",
      " 27  flow_CWR_flag_count       123117 non-null  int64  \n",
      " 28  flow_ECE_flag_count       123117 non-null  int64  \n",
      " 29  fwd_pkts_payload.min      123117 non-null  int64  \n",
      " 30  fwd_pkts_payload.max      123117 non-null  int64  \n",
      " 31  fwd_pkts_payload.tot      123117 non-null  int64  \n",
      " 32  fwd_pkts_payload.avg      123117 non-null  float64\n",
      " 33  fwd_pkts_payload.std      123117 non-null  float64\n",
      " 34  bwd_pkts_payload.min      123117 non-null  int64  \n",
      " 35  bwd_pkts_payload.max      123117 non-null  int64  \n",
      " 36  bwd_pkts_payload.tot      123117 non-null  int64  \n",
      " 37  bwd_pkts_payload.avg      123117 non-null  float64\n",
      " 38  bwd_pkts_payload.std      123117 non-null  float64\n",
      " 39  flow_pkts_payload.min     123117 non-null  int64  \n",
      " 40  flow_pkts_payload.max     123117 non-null  int64  \n",
      " 41  flow_pkts_payload.tot     123117 non-null  int64  \n",
      " 42  flow_pkts_payload.avg     123117 non-null  float64\n",
      " 43  flow_pkts_payload.std     123117 non-null  float64\n",
      " 44  fwd_iat.min               123117 non-null  float64\n",
      " 45  fwd_iat.max               123117 non-null  float64\n",
      " 46  fwd_iat.tot               123117 non-null  float64\n",
      " 47  fwd_iat.avg               123117 non-null  float64\n",
      " 48  fwd_iat.std               123117 non-null  float64\n",
      " 49  bwd_iat.min               123117 non-null  float64\n",
      " 50  bwd_iat.max               123117 non-null  float64\n",
      " 51  bwd_iat.tot               123117 non-null  float64\n",
      " 52  bwd_iat.avg               123117 non-null  float64\n",
      " 53  bwd_iat.std               123117 non-null  float64\n",
      " 54  flow_iat.min              123117 non-null  float64\n",
      " 55  flow_iat.max              123117 non-null  float64\n",
      " 56  flow_iat.tot              123117 non-null  float64\n",
      " 57  flow_iat.avg              123117 non-null  float64\n",
      " 58  flow_iat.std              123117 non-null  float64\n",
      " 59  payload_bytes_per_second  123117 non-null  float64\n",
      " 60  fwd_subflow_pkts          123117 non-null  float64\n",
      " 61  bwd_subflow_pkts          123117 non-null  float64\n",
      " 62  fwd_subflow_bytes         123117 non-null  float64\n",
      " 63  bwd_subflow_bytes         123117 non-null  float64\n",
      " 64  fwd_bulk_bytes            123117 non-null  float64\n",
      " 65  bwd_bulk_bytes            123117 non-null  float64\n",
      " 66  fwd_bulk_packets          123117 non-null  float64\n",
      " 67  bwd_bulk_packets          123117 non-null  float64\n",
      " 68  fwd_bulk_rate             123117 non-null  float64\n",
      " 69  bwd_bulk_rate             123117 non-null  float64\n",
      " 70  active.min                123117 non-null  float64\n",
      " 71  active.max                123117 non-null  float64\n",
      " 72  active.tot                123117 non-null  float64\n",
      " 73  active.avg                123117 non-null  float64\n",
      " 74  active.std                123117 non-null  float64\n",
      " 75  idle.min                  123117 non-null  float64\n",
      " 76  idle.max                  123117 non-null  float64\n",
      " 77  idle.tot                  123117 non-null  float64\n",
      " 78  idle.avg                  123117 non-null  float64\n",
      " 79  idle.std                  123117 non-null  float64\n",
      " 80  fwd_init_window_size      123117 non-null  int64  \n",
      " 81  bwd_init_window_size      123117 non-null  int64  \n",
      " 82  fwd_last_window_size      123117 non-null  int64  \n",
      " 83  Attack_type               123117 non-null  object \n",
      "dtypes: float64(47), int64(34), object(3)\n",
      "memory usage: 78.9+ MB\n"
     ]
    }
   ],
   "source": [
    "df.info(verbose=True)"
   ]
  },
  {
   "cell_type": "markdown",
   "id": "89f5bac1-a43a-461a-8bf4-66678edfadc8",
   "metadata": {},
   "source": [
    "Looking through this, I can see that almost all my values are integers or floats, with the exception of \"proto\" and \"service\". I can also disregard \"Attack_type\" since that's my target variable.\n",
    "\n",
    "I need to see what sort of values I am working with in these two features."
   ]
  },
  {
   "cell_type": "code",
   "execution_count": 32,
   "id": "dd085e54-9cb5-4faf-8bf7-fc0a68ce87ae",
   "metadata": {
    "tags": []
   },
   "outputs": [
    {
     "data": {
      "text/plain": [
       "proto\n",
       "tcp     110427\n",
       "udp      12633\n",
       "icmp        57\n",
       "Name: count, dtype: int64"
      ]
     },
     "execution_count": 32,
     "metadata": {},
     "output_type": "execute_result"
    }
   ],
   "source": [
    "df.proto.value_counts()"
   ]
  },
  {
   "cell_type": "code",
   "execution_count": 33,
   "id": "0f31f86a-7588-4370-b7d8-aa784559a537",
   "metadata": {
    "tags": []
   },
   "outputs": [
    {
     "data": {
      "text/plain": [
       "service\n",
       "-         102861\n",
       "dns         9753\n",
       "mqtt        4132\n",
       "http        3464\n",
       "ssl         2663\n",
       "ntp          121\n",
       "dhcp          50\n",
       "irc           43\n",
       "ssh           28\n",
       "radius         2\n",
       "Name: count, dtype: int64"
      ]
     },
     "execution_count": 33,
     "metadata": {},
     "output_type": "execute_result"
    }
   ],
   "source": [
    "df.service.value_counts()"
   ]
  },
  {
   "cell_type": "markdown",
   "id": "aa12ba4b-8162-4e96-9572-68bd79340468",
   "metadata": {},
   "source": [
    "Looking at these, I understand a little more of what I'm looking at. When encoding later, it may be advantageous to encode these into categorical numerics rather than to split these into separate features.\n",
    "\n",
    "Now I've got a decent look at things, it's time to split the data up."
   ]
  },
  {
   "cell_type": "code",
   "execution_count": 35,
   "id": "2d40e342-305a-4e14-8ff3-fae95eaab9aa",
   "metadata": {
    "tags": []
   },
   "outputs": [],
   "source": [
    "# import train_test_split function to execute the split\n",
    "from sklearn.model_selection import train_test_split"
   ]
  },
  {
   "cell_type": "code",
   "execution_count": 36,
   "id": "164b85ea-ba98-44fb-90ff-ec4ff8008741",
   "metadata": {
    "tags": []
   },
   "outputs": [],
   "source": [
    "# Isolate the train test\n",
    "train, val_test = train_test_split(\n",
    "    df,\n",
    "    train_size=0.6,\n",
    "    test_size=0.4,\n",
    "    random_state=ranstate,\n",
    "    stratify=df.Attack_type\n",
    ")"
   ]
  },
  {
   "cell_type": "code",
   "execution_count": 37,
   "id": "24de0b60-d80a-467b-a3bb-1b54cf816017",
   "metadata": {
    "tags": []
   },
   "outputs": [
    {
     "name": "stdout",
     "output_type": "stream",
     "text": [
      "(73870, 84)\n",
      "(49247, 84)\n"
     ]
    }
   ],
   "source": [
    "# verify the sizes\n",
    "print(train.shape)\n",
    "print(val_test.shape)"
   ]
  },
  {
   "cell_type": "code",
   "execution_count": 38,
   "id": "da52aa0d-84c4-4af7-af8d-dca9647fc307",
   "metadata": {
    "tags": []
   },
   "outputs": [
    {
     "data": {
      "text/plain": [
       "Attack_type\n",
       "DOS_SYN_Hping                 0.768851\n",
       "Thing_Speak                   0.065859\n",
       "ARP_poisioning                0.062948\n",
       "MQTT_Publish                  0.033681\n",
       "NMAP_UDP_SCAN                 0.021037\n",
       "NMAP_XMAS_TREE_SCAN           0.016326\n",
       "NMAP_OS_DETECTION             0.016245\n",
       "NMAP_TCP_scan                 0.008136\n",
       "DDOS_Slowloris                0.004332\n",
       "Wipro_bulb                    0.002058\n",
       "Metasploit_Brute_Force_SSH    0.000298\n",
       "NMAP_FIN_SCAN                 0.000230\n",
       "Name: proportion, dtype: float64"
      ]
     },
     "execution_count": 38,
     "metadata": {},
     "output_type": "execute_result"
    }
   ],
   "source": [
    "# Check the distribution of the stratified variable for the train dataset\n",
    "train.Attack_type.value_counts(normalize=True)"
   ]
  },
  {
   "cell_type": "code",
   "execution_count": 39,
   "id": "9fd63707-1251-4b41-8736-5951598b0383",
   "metadata": {
    "tags": []
   },
   "outputs": [
    {
     "data": {
      "text/plain": [
       "Attack_type\n",
       "DOS_SYN_Hping                 0.768859\n",
       "Thing_Speak                   0.065852\n",
       "ARP_poisioning                0.062948\n",
       "MQTT_Publish                  0.033667\n",
       "NMAP_UDP_SCAN                 0.021037\n",
       "NMAP_XMAS_TREE_SCAN           0.016326\n",
       "NMAP_OS_DETECTION             0.016245\n",
       "NMAP_TCP_scan                 0.008143\n",
       "DDOS_Slowloris                0.004345\n",
       "Wipro_bulb                    0.002051\n",
       "Metasploit_Brute_Force_SSH    0.000305\n",
       "NMAP_FIN_SCAN                 0.000223\n",
       "Name: proportion, dtype: float64"
      ]
     },
     "execution_count": 39,
     "metadata": {},
     "output_type": "execute_result"
    }
   ],
   "source": [
    "# Check the distribution of the stratified variable for the val_test data\n",
    "val_test.Attack_type.value_counts(normalize=True)"
   ]
  },
  {
   "cell_type": "markdown",
   "id": "7db4c0d1-e9e2-4d07-89b0-501646328086",
   "metadata": {},
   "source": [
    "Everything looks good so far! I can see that the Attack type is almost the same distribution, which is a great sign I did it right!"
   ]
  },
  {
   "cell_type": "code",
   "execution_count": 41,
   "id": "7dea7675-b741-44c2-bce6-d151e2c54b7f",
   "metadata": {
    "tags": []
   },
   "outputs": [],
   "source": [
    "# Separate out the validate and test datasets\n",
    "validate, test = train_test_split(\n",
    "    val_test,\n",
    "    train_size=0.6,\n",
    "    test_size=0.4,\n",
    "    random_state=ranstate,\n",
    "    stratify=val_test.Attack_type\n",
    ")"
   ]
  },
  {
   "cell_type": "code",
   "execution_count": 42,
   "id": "56101cc2-a82a-4d42-9649-3cebaa2a3c34",
   "metadata": {
    "tags": []
   },
   "outputs": [
    {
     "name": "stdout",
     "output_type": "stream",
     "text": [
      "(29548, 84)\n",
      "(19699, 84)\n"
     ]
    }
   ],
   "source": [
    "# Check the shapes of the datasets\n",
    "print(validate.shape)\n",
    "print(test.shape)"
   ]
  },
  {
   "cell_type": "code",
   "execution_count": 43,
   "id": "70229226-5bd2-4853-a2cb-bacdfb61ef96",
   "metadata": {
    "tags": []
   },
   "outputs": [
    {
     "data": {
      "text/plain": [
       "Attack_type\n",
       "DOS_SYN_Hping                 0.768851\n",
       "Thing_Speak                   0.065859\n",
       "ARP_poisioning                0.062948\n",
       "MQTT_Publish                  0.033674\n",
       "NMAP_UDP_SCAN                 0.021017\n",
       "NMAP_XMAS_TREE_SCAN           0.016312\n",
       "NMAP_OS_DETECTION             0.016245\n",
       "NMAP_TCP_scan                 0.008156\n",
       "DDOS_Slowloris                0.004332\n",
       "Wipro_bulb                    0.002064\n",
       "Metasploit_Brute_Force_SSH    0.000305\n",
       "NMAP_FIN_SCAN                 0.000237\n",
       "Name: proportion, dtype: float64"
      ]
     },
     "execution_count": 43,
     "metadata": {},
     "output_type": "execute_result"
    }
   ],
   "source": [
    "# Check the distribution of the validate target variable\n",
    "validate.Attack_type.value_counts(normalize=True)"
   ]
  },
  {
   "cell_type": "code",
   "execution_count": 44,
   "id": "0730db12-c1f7-437a-89c1-74068df44c4a",
   "metadata": {
    "tags": []
   },
   "outputs": [
    {
     "data": {
      "text/plain": [
       "Attack_type\n",
       "DOS_SYN_Hping                 0.768872\n",
       "Thing_Speak                   0.065841\n",
       "ARP_poisioning                0.062947\n",
       "MQTT_Publish                  0.033657\n",
       "NMAP_UDP_SCAN                 0.021067\n",
       "NMAP_XMAS_TREE_SCAN           0.016346\n",
       "NMAP_OS_DETECTION             0.016244\n",
       "NMAP_TCP_scan                 0.008122\n",
       "DDOS_Slowloris                0.004366\n",
       "Wipro_bulb                    0.002031\n",
       "Metasploit_Brute_Force_SSH    0.000305\n",
       "NMAP_FIN_SCAN                 0.000203\n",
       "Name: proportion, dtype: float64"
      ]
     },
     "execution_count": 44,
     "metadata": {},
     "output_type": "execute_result"
    }
   ],
   "source": [
    "# Check the distribution of the test target variable\n",
    "test.Attack_type.value_counts(normalize=True)"
   ]
  },
  {
   "cell_type": "markdown",
   "id": "9f8adeb7-45fd-41b0-ad75-dd5e9e1f68c3",
   "metadata": {},
   "source": [
    "Examining these two datasets, they look just about identical to what I saw before, so everything is distributed correctly.\n",
    "\n",
    "Now let's turn this into an executable function to use later."
   ]
  },
  {
   "cell_type": "code",
   "execution_count": 46,
   "id": "3fded53b-0c6d-4ab2-82e6-14d753e18833",
   "metadata": {
    "tags": []
   },
   "outputs": [],
   "source": [
    "def data_split(df,ranstate):\n",
    "    \"\"\"\n",
    "    Function to split the given DataFrame. Returns three DataFrames containing the split data.\n",
    "    \n",
    "    Parameters:\n",
    "    -----------\n",
    "    - df: DataFrame\n",
    "        The set of data to be split up\n",
    "    - ranstate: Integer\n",
    "        An integer value to define the random state\n",
    "    \n",
    "    Return:\n",
    "    -------\n",
    "    - train: DataFrame\n",
    "    - validate: DataFrame\n",
    "    - test: DataFrame\n",
    "    \n",
    "    \"\"\"\n",
    "    \n",
    "    # Use a copy of the dataset instead of the data itself\n",
    "    copy = df.copy()\n",
    "    \n",
    "    # Split into the train and val_test sets\n",
    "    train, val_test = train_test_split(\n",
    "        copy,\n",
    "        train_size=0.6,\n",
    "        test_size=0.4,\n",
    "        random_state=ranstate,\n",
    "        stratify=copy.Attack_type\n",
    "    )\n",
    "    \n",
    "    # Split the val_test into validate and test sets\n",
    "    validate, test = train_test_split(\n",
    "        val_test,\n",
    "        train_size=0.6,\n",
    "        test_size=0.4,\n",
    "        random_state=ranstate,\n",
    "        stratify=val_test.Attack_type\n",
    "    )\n",
    "    \n",
    "    return train, validate, test"
   ]
  },
  {
   "cell_type": "code",
   "execution_count": 47,
   "id": "8a463c47-f78a-4478-b3e7-503890d8c62a",
   "metadata": {
    "tags": []
   },
   "outputs": [
    {
     "name": "stdout",
     "output_type": "stream",
     "text": [
      "(73870, 84)\n",
      "(29548, 84)\n",
      "(19699, 84)\n"
     ]
    }
   ],
   "source": [
    "# test the newly created function\n",
    "train, validate, test = data_split(df, ranstate)\n",
    "\n",
    "print(train.shape)\n",
    "print(validate.shape)\n",
    "print(test.shape)"
   ]
  },
  {
   "cell_type": "markdown",
   "id": "830c1891-ee76-42ce-835d-91cc364fa51d",
   "metadata": {},
   "source": [
    "### Variable identification\n",
    "\n",
    "I need to understand what these variables are measuring and how to interpret them. I need to understand their correlation with the target variable as well. From these I will begin to assemble an initial data dictionary."
   ]
  },
  {
   "cell_type": "markdown",
   "id": "543b9642-695c-46da-88f4-cfa11c1bb603",
   "metadata": {},
   "source": [
    "| Feature | Type | Data Type | Description |\n",
    "|---------|------|-----------|-------------|\n",
    "| id.orig_p | Integer | Integer | The network port used by the origin source |\n",
    "| id.resp_p | Integer | Integer | The network port used by the responding device |\n",
    "| proto | Categorical | Object | The protocol utilized in the connection |\n",
    "| service | Continuous | Object | The type of service used in the connection |\n",
    "| flow_duration | Continuous | Float | How long the connection lasted between devices |\n",
    "| fwd_pkts_tot | Integer | Integer | Total packets forwarded in the session |\n",
    "| bwd_pkts_tot | Integer | Integer | Total packets backward (returned) in the session |\n",
    "| fwd_data_pkts_tot | Integer | Integer | Total packets forwarded in the session (excluding control packets) |\n",
    "| bwd_data_pkts_tot | Integer | Integer | Total packets backward in the session (excluding control packets) |\n",
    "| fwd_pkts_per_sec | Continuous | Float | Rate of packets forwarded |\n",
    "| bwd_pkts_per_sec | Continuous | Float | Rate of packets backward |\n",
    "| flow_pkts_per_sec | Continuous | Float | Combined rate of packets |\n",
    "| down_up_ratio | Continuous | Float | Ratio of downstream to upstream traffic |\n",
    "| fwd_header_size_tot | Integer | Integer | Total size of the header forwarded |\n",
    "| fwd_header_size_min | Integer | Integer | Smallest header size sent |\n",
    "| fwd_header_size_max | Integer | Integer | Largest header size sent |\n",
    "| bwd_header_size_tot | Integer | Integer | Total size of the header returned |\n",
    "| bwd_header_size_min | Integer | Integer | Smallest header size returned |\n",
    "| bwd_header_size_max | Integer | Integer | Largest header size returned |\n",
    "| flow_FIN_flag_count | Integer | Integer | How many times the session was terminated |\n",
    "| flow_SYN_flag_count | Integer | Integer | How many times the session was initiated |\n",
    "| flow_RST_flag_count | Integer | Integer | How many times the service was not accepting requests |\n",
    "| fwd_PSH_flag_count | Integer | Integer | Number of packets forwarded with the PSH flag |\n",
    "| bwd_PSH_flag_count | Integer | Integer | Number of packets returned with the PSH flag |\n",
    "| flow_ACK_flag_count | Integer | Integer | Number of packets with an ACK flag |\n",
    "| fwd_URG_flag_count | Integer | Integer | Number of packets sent with URG flag |\n",
    "| bwd_URG_flag_count | Integer | Integer | Number of packets returned with URG flag |\n",
    "| flow_CWR_flag_count | Integer | Integer |  |\n",
    "| flow_ECE_flag_count | Integer | Integer |  |\n",
    "| fwd_pkts_payload.min | Continuous | Integer |  |\n",
    "| fwd_pkts_payload.max | Continuous | Integer |  |\n",
    "| fwd_pkts_payload.tot | Continuous | Integer |  |\n",
    "| fwd_pkts_payload.avg | Continuous | Float |  |\n",
    "| fwd_pkts_payload.std | Continuous | Float |  |\n",
    "| bwd_pkts_payload.min | Continuous | Integer |  |\n",
    "| bwd_pkts_payload.max | Continuous | Integer |  |\n",
    "| bwd_pkts_payload.tot | Continuous | Integer |  |\n",
    "| bwd_pkts_payload.avg | Continuous | Float |  |\n",
    "| bwd_pkts_payload.std | Continuous | Float |  |\n",
    "| flow_pkts_payload.min | Continuous | Integer |  |\n",
    "| flow_pkts_payload.max | Continuous | Integer |  |\n",
    "| flow_pkts_payload.tot | Continuous | Integer |  |\n",
    "| flow_pkts_payload.avg | Continuous | Float |  |\n",
    "| flow_pkts_payload.std | Continuous | Float |  |\n",
    "| fwd_iat.min | Continuous | Float |  |\n",
    "| fwd_iat.max | Continuous | Float |  |\n",
    "| fwd_iat.tot | Continuous | Float |  |\n",
    "| fwd_iat.avg | Continuous | Float |  |\n",
    "| fwd_iat.std | Continuous | Float |  |\n",
    "| bwd_iat.min | Continuous | Float |  |\n",
    "| bwd_iat.max | Continuous | Float |  |\n",
    "| bwd_iat.tot | Continuous | Float |  |\n",
    "| bwd_iat.avg | Continuous | Float |  |\n",
    "| bwd_iat.std | Continuous | Float |  |\n",
    "| flow_iat.min | Continuous | Float |  |\n",
    "| flow_iat.max | Continuous | Float |  |\n",
    "| flow_iat.tot | Continuous | Float |  |\n",
    "| flow_iat.avg | Continuous | Float |  |\n",
    "| flow_iat.std | Continuous | Float |  |\n",
    "| payload_bytes_per_second | Continuous | Float |  |\n",
    "| fwd_subflow_pkts | Continuous | Float |  |\n",
    "| bwd_subflow_pkts | Continuous | Float |  |\n",
    "| fwd_subflow_bytes | Continuous | Float |  |\n",
    "| bwd_subflow_bytes | Continuous | Float |  |\n",
    "| fwd_bulk_bytes | Continuous | Float |  |\n",
    "| bwd_bulk_bytes | Continuous | Float |  |\n",
    "| fwd_bulk_packets | Continuous | Float |  |\n",
    "| bwd_bulk_packets | Continuous | Float |  |\n",
    "| fwd_bulk_rate | Continuous | Float |  |\n",
    "| bwd_bulk_rate | Continuous | Float |  |\n",
    "| active.min | Continuous | Float |  |\n",
    "| active.max | Continuous | Float |  |\n",
    "| active.tot | Continuous | Float |  |\n",
    "| active.avg | Continuous | Float |  |\n",
    "| active.std | Continuous | Float |  |\n",
    "| idle.min | Continuous | Float |  |\n",
    "| idle.max | Continuous | Float |  |\n",
    "| idle.tot | Continuous | Float |  |\n",
    "| idle.avg | Continuous | Float |  |\n",
    "| idle.std | Continuous | Float |  |\n",
    "| fwd_init_window_size | Integer | Integer | Initial window sizes in TCP connections |\n",
    "| bwd_init_window_size | Integer | Integer | Initial window sizes in TCP connections |\n",
    "| fwd_last_window_size | Integer | Integer |  |\n",
    "| Attack_type | Categorical | Object | The type of attack type or normal data usage |\n"
   ]
  },
  {
   "cell_type": "code",
   "execution_count": 95,
   "id": "9a62bf73-5ebb-4fc0-ae99-25e4f3c85e3a",
   "metadata": {
    "tags": []
   },
   "outputs": [
    {
     "data": {
      "text/plain": [
       "<Axes: >"
      ]
     },
     "execution_count": 95,
     "metadata": {},
     "output_type": "execute_result"
    },
    {
     "data": {
      "image/png": "[encoded data removed]",
      "text/plain": [
       "<Figure size 640x480 with 1 Axes>"
      ]
     },
     "metadata": {},
     "output_type": "display_data"
    }
   ],
   "source": [
    "train['id.orig_p'].hist()"
   ]
  },
  {
   "cell_type": "code",
   "execution_count": 51,
   "id": "2deae36b-6f83-48a5-8aa7-9030ecc2cd31",
   "metadata": {
    "tags": []
   },
   "outputs": [
    {
     "data": {
      "image/png": "[encoded data removed]",
      "text/plain": [
       "<Figure size 640x480 with 1 Axes>"
      ]
     },
     "metadata": {},
     "output_type": "display_data"
    },
    {
     "data": {
      "image/png": "[encoded data removed]",
      "text/plain": [
       "<Figure size 640x480 with 1 Axes>"
      ]
     },
     "metadata": {},
     "output_type": "display_data"
    },
    {
     "data": {
      "image/png": "[encoded data removed]",
      "text/plain": [
       "<Figure size 640x480 with 1 Axes>"
      ]
     },
     "metadata": {},
     "output_type": "display_data"
    }
   ],
   "source": [
    "for col in train.columns:\n",
    "    if train[col].dtype == \"object\":\n",
    "        # plt.figure(figsize=(12,6))\n",
    "        sns.countplot(train, x=col)\n",
    "        plt.xticks(rotation=-45,ha=\"left\")\n",
    "        plt.show()"
   ]
  },
  {
   "cell_type": "code",
   "execution_count": null,
   "id": "3c0a65a0-5c9a-4c89-a651-14dc8d8716d7",
   "metadata": {},
   "outputs": [],
   "source": []
  }
 ],
 "metadata": {
  "kernelspec": {
   "display_name": "Python 3 (ipykernel)",
   "language": "python",
   "name": "python3"
  },
  "language_info": {
   "codemirror_mode": {
    "name": "ipython",
    "version": 3
   },
   "file_extension": ".py",
   "mimetype": "text/x-python",
   "name": "python",
   "nbconvert_exporter": "python",
   "pygments_lexer": "ipython3",
   "version": "3.11.5"
  }
 },
 "nbformat": 4,
 "nbformat_minor": 5
}
