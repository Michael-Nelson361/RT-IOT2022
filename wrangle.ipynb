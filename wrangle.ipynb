{
 "cells": [
  {
   "cell_type": "markdown",
   "id": "29c0b230-5d06-4812-9343-153ec3f9a05c",
   "metadata": {},
   "source": [
    "# Wrangle\n",
    "\n",
    "Comprised of 2 parts: Acquisition and Preparation.\n",
    "\n",
    "In Acquisition, the goal is to create functions that download the RT-IoT2022 dataset. In Preparation, I will conduct light analysis on the data in order to develop questions to be answered during a later stage."
   ]
  },
  {
   "cell_type": "markdown",
   "id": "73dad76d-7091-44d0-b385-fedbc9068e09",
   "metadata": {
    "tags": []
   },
   "source": [
    "## Acquisition\n",
    "---"
   ]
  },
  {
   "cell_type": "markdown",
   "id": "925d94a7-a853-4e0b-9ba2-420c290ae46e",
   "metadata": {},
   "source": [
    "### Imports\n",
    "I will be starting off with the basic imports of Pandas and NumPy"
   ]
  },
  {
   "cell_type": "code",
   "execution_count": 1,
   "id": "a7b244b8-972e-42e9-a7ac-b3111fd579ac",
   "metadata": {
    "tags": []
   },
   "outputs": [],
   "source": [
    "# Standard imports\n",
    "import pandas as pd\n",
    "import numpy as np"
   ]
  },
  {
   "cell_type": "markdown",
   "id": "92d49961-2b0a-4465-ab31-0cbc234820e9",
   "metadata": {},
   "source": [
    "Additionally, I will define a random state of 42 for any time I need to work with a random state parameter."
   ]
  },
  {
   "cell_type": "code",
   "execution_count": 3,
   "id": "657ed8e6-964f-42b6-ae60-ebcf0fd4662a",
   "metadata": {
    "tags": []
   },
   "outputs": [],
   "source": [
    "# Define ranstate for random state\n",
    "ranstate = 42"
   ]
  },
  {
   "cell_type": "markdown",
   "id": "9ac876a2-7c84-4dac-a155-5eebdf3d9bdf",
   "metadata": {
    "tags": []
   },
   "source": [
    "### Download\n",
    "\n",
    "The first thing I need to do is to download the data. The data comes from the [UC Irvine Machine Learning Repository](https://archive.ics.uci.edu/dataset/942/rt-iot2022), and I need to develop or find a way to download it.\n",
    "\n",
    "Looking on the page, it appears there is already documentation regarding importing using Python, so I will be using that."
   ]
  },
  {
   "cell_type": "code",
   "execution_count": 5,
   "id": "a9d905af-f3b2-4740-8a87-fc1c5e3b417e",
   "metadata": {
    "tags": []
   },
   "outputs": [
    {
     "name": "stdout",
     "output_type": "stream",
     "text": [
      "Requirement already satisfied: ucimlrepo in /opt/homebrew/anaconda3/lib/python3.11/site-packages (0.0.6)\n"
     ]
    }
   ],
   "source": [
    "# Install the necessary UC Irvine package\n",
    "!pip install ucimlrepo"
   ]
  },
  {
   "cell_type": "code",
   "execution_count": 7,
   "id": "3677d431-5b57-493a-89d4-e8f319bcfee2",
   "metadata": {
    "tags": []
   },
   "outputs": [
    {
     "name": "stdout",
     "output_type": "stream",
     "text": [
      "{'uci_id': 942, 'name': 'RT-IoT2022 ', 'repository_url': 'https://archive.ics.uci.edu/dataset/942/rt-iot2022', 'data_url': 'https://archive.ics.uci.edu/static/public/942/data.csv', 'abstract': 'The RT-IoT2022, a proprietary dataset derived from a real-time IoT infrastructure, is introduced as a comprehensive resource integrating a diverse range of IoT devices and sophisticated network attack methodologies. This dataset encompasses both normal and adversarial network behaviours, providing a general representation of real-world scenarios.\\nIncorporating data from IoT devices such as ThingSpeak-LED, Wipro-Bulb, and MQTT-Temp, as well as simulated attack scenarios involving Brute-Force SSH attacks, DDoS attacks using Hping and Slowloris, and Nmap patterns, RT-IoT2022 offers a detailed perspective on the complex nature of network traffic. The bidirectional attributes of network traffic are meticulously captured using the Zeek network monitoring tool and the Flowmeter plugin. Researchers can leverage the RT-IoT2022 dataset to advance the capabilities of Intrusion Detection Systems (IDS), fostering the development of robust and adaptive security solutions for real-time IoT networks. ', 'area': 'Engineering', 'tasks': ['Classification', 'Regression', 'Clustering'], 'characteristics': ['Tabular', 'Sequential', 'Multivariate'], 'num_instances': 123117, 'num_features': 83, 'feature_types': ['Real', 'Categorical'], 'demographics': [], 'target_col': ['Attack_type'], 'index_col': ['id'], 'has_missing_values': 'no', 'missing_values_symbol': None, 'year_of_dataset_creation': 2023, 'last_updated': 'Fri Mar 08 2024', 'dataset_doi': '10.24432/C5P338', 'creators': ['B. S.', 'Rohini Nagapadma'], 'intro_paper': {'title': 'Quantized autoencoder (QAE) intrusion detection system for anomaly detection in resource-constrained IoT devices using RT-IoT2022 dataset', 'authors': 'B. S. Sharmila, Rohini Nagapadma', 'published_in': 'Cybersecurity', 'year': 2023, 'url': 'https://www.semanticscholar.org/paper/753f6ede01b4acaa325e302c38f1e0c1ade74f5b', 'doi': None}, 'additional_info': {'summary': None, 'purpose': None, 'funded_by': None, 'instances_represent': None, 'recommended_data_splits': None, 'sensitive_data': None, 'preprocessing_description': None, 'variable_info': 'Column Details:\\nid.orig_p\\nid.resp_p\\nproto\\nservice\\nflow_duration\\nfwd_pkts_tot\\nbwd_pkts_tot\\nfwd_data_pkts_tot\\nbwd_data_pkts_tot\\nfwd_pkts_per_sec\\nbwd_pkts_per_sec\\nflow_pkts_per_sec\\ndown_up_ratio\\nfwd_header_size_tot\\nfwd_header_size_min\\nfwd_header_size_max\\nbwd_header_size_tot\\nbwd_header_size_min\\nbwd_header_size_max\\nflow_FIN_flag_count\\nflow_SYN_flag_count\\nflow_RST_flag_count\\nfwd_PSH_flag_count\\nbwd_PSH_flag_count\\nflow_ACK_flag_count\\nfwd_URG_flag_count\\nbwd_URG_flag_count\\nflow_CWR_flag_count\\nflow_ECE_flag_count\\nfwd_pkts_payload.min\\nfwd_pkts_payload.max\\nfwd_pkts_payload.tot\\nfwd_pkts_payload.avg\\nfwd_pkts_payload.std\\nbwd_pkts_payload.min\\nbwd_pkts_payload.max\\nbwd_pkts_payload.tot\\nbwd_pkts_payload.avg\\nbwd_pkts_payload.std\\nflow_pkts_payload.min\\nflow_pkts_payload.max\\nflow_pkts_payload.tot\\nflow_pkts_payload.avg\\nflow_pkts_payload.std\\nfwd_iat.min\\nfwd_iat.max\\nfwd_iat.tot\\nfwd_iat.avg\\nfwd_iat.std\\nbwd_iat.min\\nbwd_iat.max\\nbwd_iat.tot\\nbwd_iat.avg\\nbwd_iat.std\\nflow_iat.min\\nflow_iat.max\\nflow_iat.tot\\nflow_iat.avg\\nflow_iat.std\\npayload_bytes_per_second\\nfwd_subflow_pkts\\nbwd_subflow_pkts\\nfwd_subflow_bytes\\nbwd_subflow_bytes\\nfwd_bulk_bytes\\nbwd_bulk_bytes\\nfwd_bulk_packets\\nbwd_bulk_packets\\nfwd_bulk_rate\\nbwd_bulk_rate\\nactive.min\\nactive.max\\nactive.tot\\nactive.avg\\nactive.std\\nidle.min\\nidle.max\\nidle.tot\\nidle.avg\\nidle.std\\nfwd_init_window_size\\nbwd_init_window_size\\nfwd_last_window_size\\nAttack_type', 'citation': None}}\n",
      "                    name     role         type demographic description units  \\\n",
      "0              id.orig_p  Feature      Integer        None        None  None   \n",
      "1              id.resp_p  Feature      Integer        None        None  None   \n",
      "2                  proto  Feature  Categorical        None        None  None   \n",
      "3                service  Feature   Continuous        None        None  None   \n",
      "4          flow_duration  Feature   Continuous        None        None  None   \n",
      "..                   ...      ...          ...         ...         ...   ...   \n",
      "80  fwd_init_window_size  Feature      Integer        None        None  None   \n",
      "81  bwd_init_window_size  Feature      Integer        None        None  None   \n",
      "82  fwd_last_window_size  Feature      Integer        None        None  None   \n",
      "83           Attack_type   Target  Categorical        None        None  None   \n",
      "84                    id       ID      Integer        None        None  None   \n",
      "\n",
      "   missing_values  \n",
      "0              no  \n",
      "1              no  \n",
      "2              no  \n",
      "3              no  \n",
      "4              no  \n",
      "..            ...  \n",
      "80             no  \n",
      "81             no  \n",
      "82             no  \n",
      "83             no  \n",
      "84             no  \n",
      "\n",
      "[85 rows x 7 columns]\n"
     ]
    }
   ],
   "source": [
    "# Use the code provided to import the data:\n",
    "from ucimlrepo import fetch_ucirepo \n",
    "  \n",
    "# fetch dataset \n",
    "rt_iot2022 = fetch_ucirepo(id=942) \n",
    "  \n",
    "# data (as pandas dataframes) \n",
    "X = rt_iot2022.data.features \n",
    "y = rt_iot2022.data.targets \n",
    "  \n",
    "# metadata \n",
    "print(rt_iot2022.metadata) \n",
    "  \n",
    "# variable information \n",
    "print(rt_iot2022.variables) "
   ]
  },
  {
   "cell_type": "markdown",
   "id": "0760ce85-8bb0-4e1f-a2ca-1bced083a0e7",
   "metadata": {},
   "source": [
    "### Examine the results\n",
    "From these results, apparently a module or class object is created which holds all the data, plus some metadata concerning the dataset.\n",
    "\n",
    "I need to examine this in depth and determine what my next steps will be."
   ]
  },
  {
   "cell_type": "code",
   "execution_count": 9,
   "id": "1d28599d-0496-4103-b430-646c1f851986",
   "metadata": {
    "tags": []
   },
   "outputs": [
    {
     "data": {
      "text/plain": [
       "Index(['id.orig_p', 'id.resp_p', 'proto', 'service', 'flow_duration',\n",
       "       'fwd_pkts_tot', 'bwd_pkts_tot', 'fwd_data_pkts_tot',\n",
       "       'bwd_data_pkts_tot', 'fwd_pkts_per_sec', 'bwd_pkts_per_sec',\n",
       "       'flow_pkts_per_sec', 'down_up_ratio', 'fwd_header_size_tot',\n",
       "       'fwd_header_size_min', 'fwd_header_size_max', 'bwd_header_size_tot',\n",
       "       'bwd_header_size_min', 'bwd_header_size_max', 'flow_FIN_flag_count',\n",
       "       'flow_SYN_flag_count', 'flow_RST_flag_count', 'fwd_PSH_flag_count',\n",
       "       'bwd_PSH_flag_count', 'flow_ACK_flag_count', 'fwd_URG_flag_count',\n",
       "       'bwd_URG_flag_count', 'flow_CWR_flag_count', 'flow_ECE_flag_count',\n",
       "       'fwd_pkts_payload.min', 'fwd_pkts_payload.max', 'fwd_pkts_payload.tot',\n",
       "       'fwd_pkts_payload.avg', 'fwd_pkts_payload.std', 'bwd_pkts_payload.min',\n",
       "       'bwd_pkts_payload.max', 'bwd_pkts_payload.tot', 'bwd_pkts_payload.avg',\n",
       "       'bwd_pkts_payload.std', 'flow_pkts_payload.min',\n",
       "       'flow_pkts_payload.max', 'flow_pkts_payload.tot',\n",
       "       'flow_pkts_payload.avg', 'flow_pkts_payload.std', 'fwd_iat.min',\n",
       "       'fwd_iat.max', 'fwd_iat.tot', 'fwd_iat.avg', 'fwd_iat.std',\n",
       "       'bwd_iat.min', 'bwd_iat.max', 'bwd_iat.tot', 'bwd_iat.avg',\n",
       "       'bwd_iat.std', 'flow_iat.min', 'flow_iat.max', 'flow_iat.tot',\n",
       "       'flow_iat.avg', 'flow_iat.std', 'payload_bytes_per_second',\n",
       "       'fwd_subflow_pkts', 'bwd_subflow_pkts', 'fwd_subflow_bytes',\n",
       "       'bwd_subflow_bytes', 'fwd_bulk_bytes', 'bwd_bulk_bytes',\n",
       "       'fwd_bulk_packets', 'bwd_bulk_packets', 'fwd_bulk_rate',\n",
       "       'bwd_bulk_rate', 'active.min', 'active.max', 'active.tot', 'active.avg',\n",
       "       'active.std', 'idle.min', 'idle.max', 'idle.tot', 'idle.avg',\n",
       "       'idle.std', 'fwd_init_window_size', 'bwd_init_window_size',\n",
       "       'fwd_last_window_size'],\n",
       "      dtype='object')"
      ]
     },
     "execution_count": 9,
     "metadata": {},
     "output_type": "execute_result"
    }
   ],
   "source": [
    "rt_iot2022.data.features.columns"
   ]
  },
  {
   "cell_type": "code",
   "execution_count": 11,
   "id": "241c1e5a-b637-42ae-8b92-cdf5477e51f6",
   "metadata": {
    "tags": []
   },
   "outputs": [
    {
     "data": {
      "text/plain": [
       "Attack_type               \n",
       "DOS_SYN_Hping                 94659\n",
       "Thing_Speak                    8108\n",
       "ARP_poisioning                 7750\n",
       "MQTT_Publish                   4146\n",
       "NMAP_UDP_SCAN                  2590\n",
       "NMAP_XMAS_TREE_SCAN            2010\n",
       "NMAP_OS_DETECTION              2000\n",
       "NMAP_TCP_scan                  1002\n",
       "DDOS_Slowloris                  534\n",
       "Wipro_bulb                      253\n",
       "Metasploit_Brute_Force_SSH       37\n",
       "NMAP_FIN_SCAN                    28\n",
       "Name: count, dtype: int64"
      ]
     },
     "execution_count": 11,
     "metadata": {},
     "output_type": "execute_result"
    }
   ],
   "source": [
    "rt_iot2022.data.targets.value_counts()"
   ]
  },
  {
   "cell_type": "code",
   "execution_count": 13,
   "id": "835bf033-8618-4aa2-971c-38ab80fafc8c",
   "metadata": {
    "tags": []
   },
   "outputs": [
    {
     "data": {
      "text/plain": [
       "0"
      ]
     },
     "execution_count": 13,
     "metadata": {},
     "output_type": "execute_result"
    }
   ],
   "source": [
    "# Check that the target column doesn't exist in features provided\n",
    "rt_iot2022.data.features.columns.isin([\"Attack_type\"]).sum()"
   ]
  },
  {
   "cell_type": "code",
   "execution_count": 15,
   "id": "4318c9db-917e-4673-90d8-8c3917c5dbef",
   "metadata": {
    "tags": []
   },
   "outputs": [
    {
     "data": {
      "text/html": [
       "<div>\n",
       "<style scoped>\n",
       "    .dataframe tbody tr th:only-of-type {\n",
       "        vertical-align: middle;\n",
       "    }\n",
       "\n",
       "    .dataframe tbody tr th {\n",
       "        vertical-align: top;\n",
       "    }\n",
       "\n",
       "    .dataframe thead th {\n",
       "        text-align: right;\n",
       "    }\n",
       "</style>\n",
       "<table border=\"1\" class=\"dataframe\">\n",
       "  <thead>\n",
       "    <tr style=\"text-align: right;\">\n",
       "      <th></th>\n",
       "      <th>id.orig_p</th>\n",
       "      <th>id.resp_p</th>\n",
       "      <th>proto</th>\n",
       "      <th>service</th>\n",
       "      <th>flow_duration</th>\n",
       "      <th>fwd_pkts_tot</th>\n",
       "      <th>bwd_pkts_tot</th>\n",
       "      <th>fwd_data_pkts_tot</th>\n",
       "      <th>bwd_data_pkts_tot</th>\n",
       "      <th>fwd_pkts_per_sec</th>\n",
       "      <th>...</th>\n",
       "      <th>active.std</th>\n",
       "      <th>idle.min</th>\n",
       "      <th>idle.max</th>\n",
       "      <th>idle.tot</th>\n",
       "      <th>idle.avg</th>\n",
       "      <th>idle.std</th>\n",
       "      <th>fwd_init_window_size</th>\n",
       "      <th>bwd_init_window_size</th>\n",
       "      <th>fwd_last_window_size</th>\n",
       "      <th>Attack_type</th>\n",
       "    </tr>\n",
       "  </thead>\n",
       "  <tbody>\n",
       "    <tr>\n",
       "      <th>76235</th>\n",
       "      <td>7315</td>\n",
       "      <td>21</td>\n",
       "      <td>tcp</td>\n",
       "      <td>-</td>\n",
       "      <td>0.000001</td>\n",
       "      <td>1</td>\n",
       "      <td>1</td>\n",
       "      <td>1</td>\n",
       "      <td>0</td>\n",
       "      <td>838860.800000</td>\n",
       "      <td>...</td>\n",
       "      <td>0.0</td>\n",
       "      <td>0.00</td>\n",
       "      <td>0.00</td>\n",
       "      <td>0.00</td>\n",
       "      <td>0.00</td>\n",
       "      <td>0.0</td>\n",
       "      <td>64</td>\n",
       "      <td>0</td>\n",
       "      <td>64</td>\n",
       "      <td>DOS_SYN_Hping</td>\n",
       "    </tr>\n",
       "    <tr>\n",
       "      <th>36557</th>\n",
       "      <td>18609</td>\n",
       "      <td>21</td>\n",
       "      <td>tcp</td>\n",
       "      <td>-</td>\n",
       "      <td>0.000004</td>\n",
       "      <td>1</td>\n",
       "      <td>1</td>\n",
       "      <td>1</td>\n",
       "      <td>0</td>\n",
       "      <td>262144.000000</td>\n",
       "      <td>...</td>\n",
       "      <td>0.0</td>\n",
       "      <td>0.00</td>\n",
       "      <td>0.00</td>\n",
       "      <td>0.00</td>\n",
       "      <td>0.00</td>\n",
       "      <td>0.0</td>\n",
       "      <td>64</td>\n",
       "      <td>0</td>\n",
       "      <td>64</td>\n",
       "      <td>DOS_SYN_Hping</td>\n",
       "    </tr>\n",
       "    <tr>\n",
       "      <th>84102</th>\n",
       "      <td>14663</td>\n",
       "      <td>21</td>\n",
       "      <td>tcp</td>\n",
       "      <td>-</td>\n",
       "      <td>0.000002</td>\n",
       "      <td>1</td>\n",
       "      <td>1</td>\n",
       "      <td>1</td>\n",
       "      <td>0</td>\n",
       "      <td>466033.777800</td>\n",
       "      <td>...</td>\n",
       "      <td>0.0</td>\n",
       "      <td>0.00</td>\n",
       "      <td>0.00</td>\n",
       "      <td>0.00</td>\n",
       "      <td>0.00</td>\n",
       "      <td>0.0</td>\n",
       "      <td>64</td>\n",
       "      <td>0</td>\n",
       "      <td>64</td>\n",
       "      <td>DOS_SYN_Hping</td>\n",
       "    </tr>\n",
       "    <tr>\n",
       "      <th>3245</th>\n",
       "      <td>37827</td>\n",
       "      <td>1883</td>\n",
       "      <td>tcp</td>\n",
       "      <td>mqtt</td>\n",
       "      <td>62.052435</td>\n",
       "      <td>9</td>\n",
       "      <td>5</td>\n",
       "      <td>3</td>\n",
       "      <td>3</td>\n",
       "      <td>0.145039</td>\n",
       "      <td>...</td>\n",
       "      <td>0.0</td>\n",
       "      <td>59819087.98</td>\n",
       "      <td>59819087.98</td>\n",
       "      <td>59819087.98</td>\n",
       "      <td>59819087.98</td>\n",
       "      <td>0.0</td>\n",
       "      <td>64240</td>\n",
       "      <td>26847</td>\n",
       "      <td>502</td>\n",
       "      <td>MQTT_Publish</td>\n",
       "    </tr>\n",
       "    <tr>\n",
       "      <th>114798</th>\n",
       "      <td>22348</td>\n",
       "      <td>21</td>\n",
       "      <td>tcp</td>\n",
       "      <td>-</td>\n",
       "      <td>0.000000</td>\n",
       "      <td>1</td>\n",
       "      <td>0</td>\n",
       "      <td>1</td>\n",
       "      <td>0</td>\n",
       "      <td>0.000000</td>\n",
       "      <td>...</td>\n",
       "      <td>0.0</td>\n",
       "      <td>0.00</td>\n",
       "      <td>0.00</td>\n",
       "      <td>0.00</td>\n",
       "      <td>0.00</td>\n",
       "      <td>0.0</td>\n",
       "      <td>64</td>\n",
       "      <td>0</td>\n",
       "      <td>64</td>\n",
       "      <td>DOS_SYN_Hping</td>\n",
       "    </tr>\n",
       "    <tr>\n",
       "      <th>98863</th>\n",
       "      <td>37150</td>\n",
       "      <td>21</td>\n",
       "      <td>tcp</td>\n",
       "      <td>-</td>\n",
       "      <td>0.000005</td>\n",
       "      <td>1</td>\n",
       "      <td>1</td>\n",
       "      <td>1</td>\n",
       "      <td>0</td>\n",
       "      <td>199728.761900</td>\n",
       "      <td>...</td>\n",
       "      <td>0.0</td>\n",
       "      <td>0.00</td>\n",
       "      <td>0.00</td>\n",
       "      <td>0.00</td>\n",
       "      <td>0.00</td>\n",
       "      <td>0.0</td>\n",
       "      <td>64</td>\n",
       "      <td>0</td>\n",
       "      <td>64</td>\n",
       "      <td>DOS_SYN_Hping</td>\n",
       "    </tr>\n",
       "    <tr>\n",
       "      <th>98982</th>\n",
       "      <td>36115</td>\n",
       "      <td>21</td>\n",
       "      <td>tcp</td>\n",
       "      <td>-</td>\n",
       "      <td>0.000005</td>\n",
       "      <td>1</td>\n",
       "      <td>1</td>\n",
       "      <td>1</td>\n",
       "      <td>0</td>\n",
       "      <td>199728.761900</td>\n",
       "      <td>...</td>\n",
       "      <td>0.0</td>\n",
       "      <td>0.00</td>\n",
       "      <td>0.00</td>\n",
       "      <td>0.00</td>\n",
       "      <td>0.00</td>\n",
       "      <td>0.0</td>\n",
       "      <td>64</td>\n",
       "      <td>0</td>\n",
       "      <td>64</td>\n",
       "      <td>DOS_SYN_Hping</td>\n",
       "    </tr>\n",
       "    <tr>\n",
       "      <th>60129</th>\n",
       "      <td>42253</td>\n",
       "      <td>21</td>\n",
       "      <td>tcp</td>\n",
       "      <td>-</td>\n",
       "      <td>0.000004</td>\n",
       "      <td>1</td>\n",
       "      <td>1</td>\n",
       "      <td>1</td>\n",
       "      <td>0</td>\n",
       "      <td>246723.764700</td>\n",
       "      <td>...</td>\n",
       "      <td>0.0</td>\n",
       "      <td>0.00</td>\n",
       "      <td>0.00</td>\n",
       "      <td>0.00</td>\n",
       "      <td>0.00</td>\n",
       "      <td>0.0</td>\n",
       "      <td>64</td>\n",
       "      <td>0</td>\n",
       "      <td>64</td>\n",
       "      <td>DOS_SYN_Hping</td>\n",
       "    </tr>\n",
       "    <tr>\n",
       "      <th>121828</th>\n",
       "      <td>36242</td>\n",
       "      <td>1334</td>\n",
       "      <td>tcp</td>\n",
       "      <td>-</td>\n",
       "      <td>0.000009</td>\n",
       "      <td>1</td>\n",
       "      <td>1</td>\n",
       "      <td>0</td>\n",
       "      <td>0</td>\n",
       "      <td>110376.421100</td>\n",
       "      <td>...</td>\n",
       "      <td>0.0</td>\n",
       "      <td>0.00</td>\n",
       "      <td>0.00</td>\n",
       "      <td>0.00</td>\n",
       "      <td>0.00</td>\n",
       "      <td>0.0</td>\n",
       "      <td>1024</td>\n",
       "      <td>0</td>\n",
       "      <td>1024</td>\n",
       "      <td>NMAP_XMAS_TREE_SCAN</td>\n",
       "    </tr>\n",
       "    <tr>\n",
       "      <th>6700</th>\n",
       "      <td>49275</td>\n",
       "      <td>53</td>\n",
       "      <td>udp</td>\n",
       "      <td>dns</td>\n",
       "      <td>0.021367</td>\n",
       "      <td>2</td>\n",
       "      <td>2</td>\n",
       "      <td>2</td>\n",
       "      <td>2</td>\n",
       "      <td>93.601964</td>\n",
       "      <td>...</td>\n",
       "      <td>0.0</td>\n",
       "      <td>0.00</td>\n",
       "      <td>0.00</td>\n",
       "      <td>0.00</td>\n",
       "      <td>0.00</td>\n",
       "      <td>0.0</td>\n",
       "      <td>0</td>\n",
       "      <td>0</td>\n",
       "      <td>0</td>\n",
       "      <td>Thing_Speak</td>\n",
       "    </tr>\n",
       "  </tbody>\n",
       "</table>\n",
       "<p>10 rows × 84 columns</p>\n",
       "</div>"
      ],
      "text/plain": [
       "        id.orig_p  id.resp_p proto service  flow_duration  fwd_pkts_tot  \\\n",
       "76235        7315         21   tcp       -       0.000001             1   \n",
       "36557       18609         21   tcp       -       0.000004             1   \n",
       "84102       14663         21   tcp       -       0.000002             1   \n",
       "3245        37827       1883   tcp    mqtt      62.052435             9   \n",
       "114798      22348         21   tcp       -       0.000000             1   \n",
       "98863       37150         21   tcp       -       0.000005             1   \n",
       "98982       36115         21   tcp       -       0.000005             1   \n",
       "60129       42253         21   tcp       -       0.000004             1   \n",
       "121828      36242       1334   tcp       -       0.000009             1   \n",
       "6700        49275         53   udp     dns       0.021367             2   \n",
       "\n",
       "        bwd_pkts_tot  fwd_data_pkts_tot  bwd_data_pkts_tot  fwd_pkts_per_sec  \\\n",
       "76235              1                  1                  0     838860.800000   \n",
       "36557              1                  1                  0     262144.000000   \n",
       "84102              1                  1                  0     466033.777800   \n",
       "3245               5                  3                  3          0.145039   \n",
       "114798             0                  1                  0          0.000000   \n",
       "98863              1                  1                  0     199728.761900   \n",
       "98982              1                  1                  0     199728.761900   \n",
       "60129              1                  1                  0     246723.764700   \n",
       "121828             1                  0                  0     110376.421100   \n",
       "6700               2                  2                  2         93.601964   \n",
       "\n",
       "        ...  active.std     idle.min     idle.max     idle.tot     idle.avg  \\\n",
       "76235   ...         0.0         0.00         0.00         0.00         0.00   \n",
       "36557   ...         0.0         0.00         0.00         0.00         0.00   \n",
       "84102   ...         0.0         0.00         0.00         0.00         0.00   \n",
       "3245    ...         0.0  59819087.98  59819087.98  59819087.98  59819087.98   \n",
       "114798  ...         0.0         0.00         0.00         0.00         0.00   \n",
       "98863   ...         0.0         0.00         0.00         0.00         0.00   \n",
       "98982   ...         0.0         0.00         0.00         0.00         0.00   \n",
       "60129   ...         0.0         0.00         0.00         0.00         0.00   \n",
       "121828  ...         0.0         0.00         0.00         0.00         0.00   \n",
       "6700    ...         0.0         0.00         0.00         0.00         0.00   \n",
       "\n",
       "        idle.std  fwd_init_window_size  bwd_init_window_size  \\\n",
       "76235        0.0                    64                     0   \n",
       "36557        0.0                    64                     0   \n",
       "84102        0.0                    64                     0   \n",
       "3245         0.0                 64240                 26847   \n",
       "114798       0.0                    64                     0   \n",
       "98863        0.0                    64                     0   \n",
       "98982        0.0                    64                     0   \n",
       "60129        0.0                    64                     0   \n",
       "121828       0.0                  1024                     0   \n",
       "6700         0.0                     0                     0   \n",
       "\n",
       "        fwd_last_window_size          Attack_type  \n",
       "76235                     64        DOS_SYN_Hping  \n",
       "36557                     64        DOS_SYN_Hping  \n",
       "84102                     64        DOS_SYN_Hping  \n",
       "3245                     502         MQTT_Publish  \n",
       "114798                    64        DOS_SYN_Hping  \n",
       "98863                     64        DOS_SYN_Hping  \n",
       "98982                     64        DOS_SYN_Hping  \n",
       "60129                     64        DOS_SYN_Hping  \n",
       "121828                  1024  NMAP_XMAS_TREE_SCAN  \n",
       "6700                       0          Thing_Speak  \n",
       "\n",
       "[10 rows x 84 columns]"
      ]
     },
     "execution_count": 15,
     "metadata": {},
     "output_type": "execute_result"
    }
   ],
   "source": [
    "# Concatenate the two datasets\n",
    "df = pd.concat([rt_iot2022.data.features,rt_iot2022.data.targets],axis=1)\n",
    "df.sample(10,random_state=ranstate)"
   ]
  },
  {
   "cell_type": "code",
   "execution_count": 17,
   "id": "9bcd46d9-e7af-4aae-9cfd-245f1402f9b5",
   "metadata": {
    "tags": []
   },
   "outputs": [],
   "source": [
    "def acquire_iot2022():\n",
    "    \"\"\"\n",
    "    Function to download and import the RT-IoT2022 dataset. Takes no parameters. Assumes the ucimlrepo has already been installed.\n",
    "    \n",
    "    Parameters:\n",
    "    -----------\n",
    "    - None\n",
    "    \n",
    "    Return:\n",
    "    -------\n",
    "    - Pandas DataFrame containing the RT IoT2022 information dataset\n",
    "    - Dictionary object containing all RT IoT2022 data, including metadata.\n",
    "    \"\"\"\n",
    "    try:\n",
    "        from ucimlrepo import fetch_ucirepo \n",
    "        \n",
    "        # Fetch dataset \n",
    "        rt_iot2022 = fetch_ucirepo(id=942)\n",
    "\n",
    "        # Concatenate the two datasets\n",
    "        df = pd.concat([rt_iot2022.data.features,rt_iot2022.data.targets],axis=1)\n",
    "\n",
    "        return df.copy(),rt_iot2022\n",
    "    \n",
    "    except:\n",
    "        print(\"Import failed due to 1 or more of the following reasons:\\n\\t - User is missing the UC Irvine Python package.\\n\\t - Dataset is no longer available at the queried location.\\n\\t - Some of the libraries in use have changed.\")\n",
    "    "
   ]
  },
  {
   "cell_type": "markdown",
   "id": "5614decb-2299-474f-b4eb-1d57299cfe10",
   "metadata": {},
   "source": [
    "## Preparation"
   ]
  },
  {
   "cell_type": "markdown",
   "id": "5045902e-9e17-4243-b101-276908211169",
   "metadata": {},
   "source": [
    "The first thing I need to do is to test the function I have already built."
   ]
  },
  {
   "cell_type": "code",
   "execution_count": 23,
   "id": "9b349593-899d-40e9-8b12-0d251c0ef25f",
   "metadata": {
    "tags": []
   },
   "outputs": [],
   "source": [
    "df, rt_data = acquire_iot2022()"
   ]
  },
  {
   "cell_type": "code",
   "execution_count": 25,
   "id": "c43de41a-0539-4b3c-9a8f-800bc5440e9f",
   "metadata": {
    "tags": []
   },
   "outputs": [
    {
     "data": {
      "text/html": [
       "<div>\n",
       "<style scoped>\n",
       "    .dataframe tbody tr th:only-of-type {\n",
       "        vertical-align: middle;\n",
       "    }\n",
       "\n",
       "    .dataframe tbody tr th {\n",
       "        vertical-align: top;\n",
       "    }\n",
       "\n",
       "    .dataframe thead th {\n",
       "        text-align: right;\n",
       "    }\n",
       "</style>\n",
       "<table border=\"1\" class=\"dataframe\">\n",
       "  <thead>\n",
       "    <tr style=\"text-align: right;\">\n",
       "      <th></th>\n",
       "      <th>id.orig_p</th>\n",
       "      <th>id.resp_p</th>\n",
       "      <th>proto</th>\n",
       "      <th>service</th>\n",
       "      <th>flow_duration</th>\n",
       "      <th>fwd_pkts_tot</th>\n",
       "      <th>bwd_pkts_tot</th>\n",
       "      <th>fwd_data_pkts_tot</th>\n",
       "      <th>bwd_data_pkts_tot</th>\n",
       "      <th>fwd_pkts_per_sec</th>\n",
       "      <th>...</th>\n",
       "      <th>active.std</th>\n",
       "      <th>idle.min</th>\n",
       "      <th>idle.max</th>\n",
       "      <th>idle.tot</th>\n",
       "      <th>idle.avg</th>\n",
       "      <th>idle.std</th>\n",
       "      <th>fwd_init_window_size</th>\n",
       "      <th>bwd_init_window_size</th>\n",
       "      <th>fwd_last_window_size</th>\n",
       "      <th>Attack_type</th>\n",
       "    </tr>\n",
       "  </thead>\n",
       "  <tbody>\n",
       "    <tr>\n",
       "      <th>76235</th>\n",
       "      <td>7315</td>\n",
       "      <td>21</td>\n",
       "      <td>tcp</td>\n",
       "      <td>-</td>\n",
       "      <td>0.000001</td>\n",
       "      <td>1</td>\n",
       "      <td>1</td>\n",
       "      <td>1</td>\n",
       "      <td>0</td>\n",
       "      <td>838860.800000</td>\n",
       "      <td>...</td>\n",
       "      <td>0.0</td>\n",
       "      <td>0.00</td>\n",
       "      <td>0.00</td>\n",
       "      <td>0.00</td>\n",
       "      <td>0.00</td>\n",
       "      <td>0.0</td>\n",
       "      <td>64</td>\n",
       "      <td>0</td>\n",
       "      <td>64</td>\n",
       "      <td>DOS_SYN_Hping</td>\n",
       "    </tr>\n",
       "    <tr>\n",
       "      <th>36557</th>\n",
       "      <td>18609</td>\n",
       "      <td>21</td>\n",
       "      <td>tcp</td>\n",
       "      <td>-</td>\n",
       "      <td>0.000004</td>\n",
       "      <td>1</td>\n",
       "      <td>1</td>\n",
       "      <td>1</td>\n",
       "      <td>0</td>\n",
       "      <td>262144.000000</td>\n",
       "      <td>...</td>\n",
       "      <td>0.0</td>\n",
       "      <td>0.00</td>\n",
       "      <td>0.00</td>\n",
       "      <td>0.00</td>\n",
       "      <td>0.00</td>\n",
       "      <td>0.0</td>\n",
       "      <td>64</td>\n",
       "      <td>0</td>\n",
       "      <td>64</td>\n",
       "      <td>DOS_SYN_Hping</td>\n",
       "    </tr>\n",
       "    <tr>\n",
       "      <th>84102</th>\n",
       "      <td>14663</td>\n",
       "      <td>21</td>\n",
       "      <td>tcp</td>\n",
       "      <td>-</td>\n",
       "      <td>0.000002</td>\n",
       "      <td>1</td>\n",
       "      <td>1</td>\n",
       "      <td>1</td>\n",
       "      <td>0</td>\n",
       "      <td>466033.777800</td>\n",
       "      <td>...</td>\n",
       "      <td>0.0</td>\n",
       "      <td>0.00</td>\n",
       "      <td>0.00</td>\n",
       "      <td>0.00</td>\n",
       "      <td>0.00</td>\n",
       "      <td>0.0</td>\n",
       "      <td>64</td>\n",
       "      <td>0</td>\n",
       "      <td>64</td>\n",
       "      <td>DOS_SYN_Hping</td>\n",
       "    </tr>\n",
       "    <tr>\n",
       "      <th>3245</th>\n",
       "      <td>37827</td>\n",
       "      <td>1883</td>\n",
       "      <td>tcp</td>\n",
       "      <td>mqtt</td>\n",
       "      <td>62.052435</td>\n",
       "      <td>9</td>\n",
       "      <td>5</td>\n",
       "      <td>3</td>\n",
       "      <td>3</td>\n",
       "      <td>0.145039</td>\n",
       "      <td>...</td>\n",
       "      <td>0.0</td>\n",
       "      <td>59819087.98</td>\n",
       "      <td>59819087.98</td>\n",
       "      <td>59819087.98</td>\n",
       "      <td>59819087.98</td>\n",
       "      <td>0.0</td>\n",
       "      <td>64240</td>\n",
       "      <td>26847</td>\n",
       "      <td>502</td>\n",
       "      <td>MQTT_Publish</td>\n",
       "    </tr>\n",
       "    <tr>\n",
       "      <th>114798</th>\n",
       "      <td>22348</td>\n",
       "      <td>21</td>\n",
       "      <td>tcp</td>\n",
       "      <td>-</td>\n",
       "      <td>0.000000</td>\n",
       "      <td>1</td>\n",
       "      <td>0</td>\n",
       "      <td>1</td>\n",
       "      <td>0</td>\n",
       "      <td>0.000000</td>\n",
       "      <td>...</td>\n",
       "      <td>0.0</td>\n",
       "      <td>0.00</td>\n",
       "      <td>0.00</td>\n",
       "      <td>0.00</td>\n",
       "      <td>0.00</td>\n",
       "      <td>0.0</td>\n",
       "      <td>64</td>\n",
       "      <td>0</td>\n",
       "      <td>64</td>\n",
       "      <td>DOS_SYN_Hping</td>\n",
       "    </tr>\n",
       "  </tbody>\n",
       "</table>\n",
       "<p>5 rows × 84 columns</p>\n",
       "</div>"
      ],
      "text/plain": [
       "        id.orig_p  id.resp_p proto service  flow_duration  fwd_pkts_tot  \\\n",
       "76235        7315         21   tcp       -       0.000001             1   \n",
       "36557       18609         21   tcp       -       0.000004             1   \n",
       "84102       14663         21   tcp       -       0.000002             1   \n",
       "3245        37827       1883   tcp    mqtt      62.052435             9   \n",
       "114798      22348         21   tcp       -       0.000000             1   \n",
       "\n",
       "        bwd_pkts_tot  fwd_data_pkts_tot  bwd_data_pkts_tot  fwd_pkts_per_sec  \\\n",
       "76235              1                  1                  0     838860.800000   \n",
       "36557              1                  1                  0     262144.000000   \n",
       "84102              1                  1                  0     466033.777800   \n",
       "3245               5                  3                  3          0.145039   \n",
       "114798             0                  1                  0          0.000000   \n",
       "\n",
       "        ...  active.std     idle.min     idle.max     idle.tot     idle.avg  \\\n",
       "76235   ...         0.0         0.00         0.00         0.00         0.00   \n",
       "36557   ...         0.0         0.00         0.00         0.00         0.00   \n",
       "84102   ...         0.0         0.00         0.00         0.00         0.00   \n",
       "3245    ...         0.0  59819087.98  59819087.98  59819087.98  59819087.98   \n",
       "114798  ...         0.0         0.00         0.00         0.00         0.00   \n",
       "\n",
       "        idle.std  fwd_init_window_size  bwd_init_window_size  \\\n",
       "76235        0.0                    64                     0   \n",
       "36557        0.0                    64                     0   \n",
       "84102        0.0                    64                     0   \n",
       "3245         0.0                 64240                 26847   \n",
       "114798       0.0                    64                     0   \n",
       "\n",
       "        fwd_last_window_size    Attack_type  \n",
       "76235                     64  DOS_SYN_Hping  \n",
       "36557                     64  DOS_SYN_Hping  \n",
       "84102                     64  DOS_SYN_Hping  \n",
       "3245                     502   MQTT_Publish  \n",
       "114798                    64  DOS_SYN_Hping  \n",
       "\n",
       "[5 rows x 84 columns]"
      ]
     },
     "execution_count": 25,
     "metadata": {},
     "output_type": "execute_result"
    }
   ],
   "source": [
    "df.sample(5,random_state=ranstate)"
   ]
  },
  {
   "cell_type": "markdown",
   "id": "3ecdd49b-b3d8-4c14-9c48-464541376ab0",
   "metadata": {},
   "source": [
    "### Splitting the data\n",
    "Now that I have verified it works, the next thing I need to do to split the data. The reason I am doing this is to manage potential biases I may have or develop during my research. I will split the data twice: once into the train and validate/test data, and then into the validate and and test data.\n",
    "\n",
    "The train data is what I will actively be working on and focusing on. Any functions I develop will need to be able to work on the other datasets without issue. The validate data will be unseen information by myself and seen only by the computer in later modeling. The test data will not be seen until the very end of the project."
   ]
  },
  {
   "cell_type": "markdown",
   "id": "d3b9c633-0f4d-4417-b328-a62fa0a65191",
   "metadata": {},
   "source": [
    "Before I begin to split the data, I'm going to import a function I've created in the past that shows me all sorts of information about the data."
   ]
  },
  {
   "cell_type": "code",
   "execution_count": 27,
   "id": "7b997639-a417-4fdd-a69e-ccb5e4e7a49a",
   "metadata": {
    "tags": []
   },
   "outputs": [],
   "source": [
    "def df_info(df,include=False,samples=1):\n",
    "\t\"\"\"\n",
    "\tFunction takes a dataframe and returns potentially relevant information about it (including a sample)\n",
    "\tinclude=bool, default to False. To add the results from a describe method, pass True to the argument.\n",
    "\tsamples=int, default to 1. Shows 1 sample by default, but can be modified to include more samples if desired.\n",
    "\t\"\"\"\n",
    "\t\t# create the df_inf dataframe\n",
    "\tdf_inf = pd.DataFrame(index=df.columns,\n",
    "\t\t\tdata = {\n",
    "\t\t\t\t'nunique':df.nunique()\n",
    "\t\t\t\t,'dtypes':df.dtypes\n",
    "\t\t\t\t,'isnull':df.isnull().sum()\n",
    "\t\t\t})\n",
    "\t\t# append samples based on input\n",
    "\tif samples >= 1:\n",
    "\t\tdf_inf = df_inf.merge(df.sample(samples).iloc[0:samples].T,how='left',left_index=True,right_index=True)\n",
    "\t\t# append describe results if option selected\n",
    "\tif include == True:\n",
    "\t\treturn df_inf.merge(df.describe(include='all').T,how='left',left_index=True,right_index=True)\n",
    "\telif include == False:\n",
    "\t\treturn df_inf\n",
    "\telse:\n",
    "\t\tprint('Value passed to \"include\" argument is invalid.')"
   ]
  },
  {
   "cell_type": "code",
   "execution_count": 29,
   "id": "976e21af-29f7-453e-869c-df4a3c60e7dd",
   "metadata": {
    "tags": []
   },
   "outputs": [
    {
     "data": {
      "text/html": [
       "<div>\n",
       "<style scoped>\n",
       "    .dataframe tbody tr th:only-of-type {\n",
       "        vertical-align: middle;\n",
       "    }\n",
       "\n",
       "    .dataframe tbody tr th {\n",
       "        vertical-align: top;\n",
       "    }\n",
       "\n",
       "    .dataframe thead th {\n",
       "        text-align: right;\n",
       "    }\n",
       "</style>\n",
       "<table border=\"1\" class=\"dataframe\">\n",
       "  <thead>\n",
       "    <tr style=\"text-align: right;\">\n",
       "      <th></th>\n",
       "      <th>nunique</th>\n",
       "      <th>dtypes</th>\n",
       "      <th>isnull</th>\n",
       "      <th>114726</th>\n",
       "    </tr>\n",
       "  </thead>\n",
       "  <tbody>\n",
       "    <tr>\n",
       "      <th>id.orig_p</th>\n",
       "      <td>65478</td>\n",
       "      <td>int64</td>\n",
       "      <td>0</td>\n",
       "      <td>21151</td>\n",
       "    </tr>\n",
       "    <tr>\n",
       "      <th>id.resp_p</th>\n",
       "      <td>1809</td>\n",
       "      <td>int64</td>\n",
       "      <td>0</td>\n",
       "      <td>21</td>\n",
       "    </tr>\n",
       "    <tr>\n",
       "      <th>proto</th>\n",
       "      <td>3</td>\n",
       "      <td>object</td>\n",
       "      <td>0</td>\n",
       "      <td>tcp</td>\n",
       "    </tr>\n",
       "    <tr>\n",
       "      <th>service</th>\n",
       "      <td>10</td>\n",
       "      <td>object</td>\n",
       "      <td>0</td>\n",
       "      <td>-</td>\n",
       "    </tr>\n",
       "    <tr>\n",
       "      <th>flow_duration</th>\n",
       "      <td>16381</td>\n",
       "      <td>float64</td>\n",
       "      <td>0</td>\n",
       "      <td>0.0</td>\n",
       "    </tr>\n",
       "    <tr>\n",
       "      <th>...</th>\n",
       "      <td>...</td>\n",
       "      <td>...</td>\n",
       "      <td>...</td>\n",
       "      <td>...</td>\n",
       "    </tr>\n",
       "    <tr>\n",
       "      <th>idle.std</th>\n",
       "      <td>1001</td>\n",
       "      <td>float64</td>\n",
       "      <td>0</td>\n",
       "      <td>0.0</td>\n",
       "    </tr>\n",
       "    <tr>\n",
       "      <th>fwd_init_window_size</th>\n",
       "      <td>20</td>\n",
       "      <td>int64</td>\n",
       "      <td>0</td>\n",
       "      <td>64</td>\n",
       "    </tr>\n",
       "    <tr>\n",
       "      <th>bwd_init_window_size</th>\n",
       "      <td>56</td>\n",
       "      <td>int64</td>\n",
       "      <td>0</td>\n",
       "      <td>0</td>\n",
       "    </tr>\n",
       "    <tr>\n",
       "      <th>fwd_last_window_size</th>\n",
       "      <td>109</td>\n",
       "      <td>int64</td>\n",
       "      <td>0</td>\n",
       "      <td>64</td>\n",
       "    </tr>\n",
       "    <tr>\n",
       "      <th>Attack_type</th>\n",
       "      <td>12</td>\n",
       "      <td>object</td>\n",
       "      <td>0</td>\n",
       "      <td>DOS_SYN_Hping</td>\n",
       "    </tr>\n",
       "  </tbody>\n",
       "</table>\n",
       "<p>84 rows × 4 columns</p>\n",
       "</div>"
      ],
      "text/plain": [
       "                      nunique   dtypes  isnull         114726\n",
       "id.orig_p               65478    int64       0          21151\n",
       "id.resp_p                1809    int64       0             21\n",
       "proto                       3   object       0            tcp\n",
       "service                    10   object       0              -\n",
       "flow_duration           16381  float64       0            0.0\n",
       "...                       ...      ...     ...            ...\n",
       "idle.std                 1001  float64       0            0.0\n",
       "fwd_init_window_size       20    int64       0             64\n",
       "bwd_init_window_size       56    int64       0              0\n",
       "fwd_last_window_size      109    int64       0             64\n",
       "Attack_type                12   object       0  DOS_SYN_Hping\n",
       "\n",
       "[84 rows x 4 columns]"
      ]
     },
     "execution_count": 29,
     "metadata": {},
     "output_type": "execute_result"
    }
   ],
   "source": [
    "df_info(df)"
   ]
  },
  {
   "cell_type": "markdown",
   "id": "d04f7fc6-433d-459a-ad41-f8c9ccbd4a24",
   "metadata": {},
   "source": [
    "Unfortunately, it appears the data has too many features that my function won't show any useful information, so I need to approach this a different way.\n",
    "\n",
    "Most importantly, I need to verify that my data has no null values (as is described online), and I need to check each data type."
   ]
  },
  {
   "cell_type": "code",
   "execution_count": 31,
   "id": "f9cc25ed-121e-48fd-98b5-0c77c9e2dc93",
   "metadata": {
    "tags": []
   },
   "outputs": [
    {
     "data": {
      "text/plain": [
       "0"
      ]
     },
     "execution_count": 31,
     "metadata": {},
     "output_type": "execute_result"
    }
   ],
   "source": [
    "df.isnull().sum().sum()"
   ]
  },
  {
   "cell_type": "markdown",
   "id": "23b02688-e38b-49c7-b267-8dd8611f3869",
   "metadata": {},
   "source": [
    "The isnull() method shows True/False of each entry in the database, so by adding one sum() method, I limit what's being shown to just the columns. Another sum() method chained onto the end limits me to a 0, telling me that there are no null values."
   ]
  },
  {
   "cell_type": "code",
   "execution_count": 33,
   "id": "4ae37904-f060-4701-ae03-a1e02e532353",
   "metadata": {
    "tags": []
   },
   "outputs": [
    {
     "name": "stdout",
     "output_type": "stream",
     "text": [
      "<class 'pandas.core.frame.DataFrame'>\n",
      "RangeIndex: 123117 entries, 0 to 123116\n",
      "Data columns (total 84 columns):\n",
      " #   Column                    Non-Null Count   Dtype  \n",
      "---  ------                    --------------   -----  \n",
      " 0   id.orig_p                 123117 non-null  int64  \n",
      " 1   id.resp_p                 123117 non-null  int64  \n",
      " 2   proto                     123117 non-null  object \n",
      " 3   service                   123117 non-null  object \n",
      " 4   flow_duration             123117 non-null  float64\n",
      " 5   fwd_pkts_tot              123117 non-null  int64  \n",
      " 6   bwd_pkts_tot              123117 non-null  int64  \n",
      " 7   fwd_data_pkts_tot         123117 non-null  int64  \n",
      " 8   bwd_data_pkts_tot         123117 non-null  int64  \n",
      " 9   fwd_pkts_per_sec          123117 non-null  float64\n",
      " 10  bwd_pkts_per_sec          123117 non-null  float64\n",
      " 11  flow_pkts_per_sec         123117 non-null  float64\n",
      " 12  down_up_ratio             123117 non-null  float64\n",
      " 13  fwd_header_size_tot       123117 non-null  int64  \n",
      " 14  fwd_header_size_min       123117 non-null  int64  \n",
      " 15  fwd_header_size_max       123117 non-null  int64  \n",
      " 16  bwd_header_size_tot       123117 non-null  int64  \n",
      " 17  bwd_header_size_min       123117 non-null  int64  \n",
      " 18  bwd_header_size_max       123117 non-null  int64  \n",
      " 19  flow_FIN_flag_count       123117 non-null  int64  \n",
      " 20  flow_SYN_flag_count       123117 non-null  int64  \n",
      " 21  flow_RST_flag_count       123117 non-null  int64  \n",
      " 22  fwd_PSH_flag_count        123117 non-null  int64  \n",
      " 23  bwd_PSH_flag_count        123117 non-null  int64  \n",
      " 24  flow_ACK_flag_count       123117 non-null  int64  \n",
      " 25  fwd_URG_flag_count        123117 non-null  int64  \n",
      " 26  bwd_URG_flag_count        123117 non-null  int64  \n",
      " 27  flow_CWR_flag_count       123117 non-null  int64  \n",
      " 28  flow_ECE_flag_count       123117 non-null  int64  \n",
      " 29  fwd_pkts_payload.min      123117 non-null  int64  \n",
      " 30  fwd_pkts_payload.max      123117 non-null  int64  \n",
      " 31  fwd_pkts_payload.tot      123117 non-null  int64  \n",
      " 32  fwd_pkts_payload.avg      123117 non-null  float64\n",
      " 33  fwd_pkts_payload.std      123117 non-null  float64\n",
      " 34  bwd_pkts_payload.min      123117 non-null  int64  \n",
      " 35  bwd_pkts_payload.max      123117 non-null  int64  \n",
      " 36  bwd_pkts_payload.tot      123117 non-null  int64  \n",
      " 37  bwd_pkts_payload.avg      123117 non-null  float64\n",
      " 38  bwd_pkts_payload.std      123117 non-null  float64\n",
      " 39  flow_pkts_payload.min     123117 non-null  int64  \n",
      " 40  flow_pkts_payload.max     123117 non-null  int64  \n",
      " 41  flow_pkts_payload.tot     123117 non-null  int64  \n",
      " 42  flow_pkts_payload.avg     123117 non-null  float64\n",
      " 43  flow_pkts_payload.std     123117 non-null  float64\n",
      " 44  fwd_iat.min               123117 non-null  float64\n",
      " 45  fwd_iat.max               123117 non-null  float64\n",
      " 46  fwd_iat.tot               123117 non-null  float64\n",
      " 47  fwd_iat.avg               123117 non-null  float64\n",
      " 48  fwd_iat.std               123117 non-null  float64\n",
      " 49  bwd_iat.min               123117 non-null  float64\n",
      " 50  bwd_iat.max               123117 non-null  float64\n",
      " 51  bwd_iat.tot               123117 non-null  float64\n",
      " 52  bwd_iat.avg               123117 non-null  float64\n",
      " 53  bwd_iat.std               123117 non-null  float64\n",
      " 54  flow_iat.min              123117 non-null  float64\n",
      " 55  flow_iat.max              123117 non-null  float64\n",
      " 56  flow_iat.tot              123117 non-null  float64\n",
      " 57  flow_iat.avg              123117 non-null  float64\n",
      " 58  flow_iat.std              123117 non-null  float64\n",
      " 59  payload_bytes_per_second  123117 non-null  float64\n",
      " 60  fwd_subflow_pkts          123117 non-null  float64\n",
      " 61  bwd_subflow_pkts          123117 non-null  float64\n",
      " 62  fwd_subflow_bytes         123117 non-null  float64\n",
      " 63  bwd_subflow_bytes         123117 non-null  float64\n",
      " 64  fwd_bulk_bytes            123117 non-null  float64\n",
      " 65  bwd_bulk_bytes            123117 non-null  float64\n",
      " 66  fwd_bulk_packets          123117 non-null  float64\n",
      " 67  bwd_bulk_packets          123117 non-null  float64\n",
      " 68  fwd_bulk_rate             123117 non-null  float64\n",
      " 69  bwd_bulk_rate             123117 non-null  float64\n",
      " 70  active.min                123117 non-null  float64\n",
      " 71  active.max                123117 non-null  float64\n",
      " 72  active.tot                123117 non-null  float64\n",
      " 73  active.avg                123117 non-null  float64\n",
      " 74  active.std                123117 non-null  float64\n",
      " 75  idle.min                  123117 non-null  float64\n",
      " 76  idle.max                  123117 non-null  float64\n",
      " 77  idle.tot                  123117 non-null  float64\n",
      " 78  idle.avg                  123117 non-null  float64\n",
      " 79  idle.std                  123117 non-null  float64\n",
      " 80  fwd_init_window_size      123117 non-null  int64  \n",
      " 81  bwd_init_window_size      123117 non-null  int64  \n",
      " 82  fwd_last_window_size      123117 non-null  int64  \n",
      " 83  Attack_type               123117 non-null  object \n",
      "dtypes: float64(47), int64(34), object(3)\n",
      "memory usage: 78.9+ MB\n"
     ]
    }
   ],
   "source": [
    "df.info(verbose=True)"
   ]
  },
  {
   "cell_type": "markdown",
   "id": "89f5bac1-a43a-461a-8bf4-66678edfadc8",
   "metadata": {},
   "source": [
    "Looking through this, I can see that almost all my values are integers or floats, with the exception of \"proto\" and \"service\". I can also disregard \"Attack_type\" since that's my target variable.\n",
    "\n",
    "I need to see what sort of values I am working with in these two features."
   ]
  },
  {
   "cell_type": "code",
   "execution_count": 35,
   "id": "dd085e54-9cb5-4faf-8bf7-fc0a68ce87ae",
   "metadata": {
    "tags": []
   },
   "outputs": [
    {
     "data": {
      "text/plain": [
       "proto\n",
       "tcp     110427\n",
       "udp      12633\n",
       "icmp        57\n",
       "Name: count, dtype: int64"
      ]
     },
     "execution_count": 35,
     "metadata": {},
     "output_type": "execute_result"
    }
   ],
   "source": [
    "df.proto.value_counts()"
   ]
  },
  {
   "cell_type": "code",
   "execution_count": 37,
   "id": "0f31f86a-7588-4370-b7d8-aa784559a537",
   "metadata": {
    "tags": []
   },
   "outputs": [
    {
     "data": {
      "text/plain": [
       "service\n",
       "-         102861\n",
       "dns         9753\n",
       "mqtt        4132\n",
       "http        3464\n",
       "ssl         2663\n",
       "ntp          121\n",
       "dhcp          50\n",
       "irc           43\n",
       "ssh           28\n",
       "radius         2\n",
       "Name: count, dtype: int64"
      ]
     },
     "execution_count": 37,
     "metadata": {},
     "output_type": "execute_result"
    }
   ],
   "source": [
    "df.service.value_counts()"
   ]
  },
  {
   "cell_type": "markdown",
   "id": "aa12ba4b-8162-4e96-9572-68bd79340468",
   "metadata": {},
   "source": [
    "Looking at these, I understand a little more of what I'm looking at. When encoding later, it may be advantageous to encode these into categorical numerics rather than to split these into separate features.\n",
    "\n",
    "Now I've got a decent look at things, it's time to split the data up."
   ]
  },
  {
   "cell_type": "code",
   "execution_count": 39,
   "id": "2d40e342-305a-4e14-8ff3-fae95eaab9aa",
   "metadata": {
    "tags": []
   },
   "outputs": [],
   "source": [
    "# import train_test_split function to execute the split\n",
    "from sklearn.model_selection import train_test_split"
   ]
  },
  {
   "cell_type": "code",
   "execution_count": 41,
   "id": "164b85ea-ba98-44fb-90ff-ec4ff8008741",
   "metadata": {
    "tags": []
   },
   "outputs": [],
   "source": [
    "# Isolate the train test\n",
    "train, val_test = train_test_split(\n",
    "    df,\n",
    "    train_size=0.6,\n",
    "    test_size=0.4,\n",
    "    random_state=ranstate,\n",
    "    stratify=df.Attack_type\n",
    ")"
   ]
  },
  {
   "cell_type": "code",
   "execution_count": 43,
   "id": "24de0b60-d80a-467b-a3bb-1b54cf816017",
   "metadata": {
    "tags": []
   },
   "outputs": [
    {
     "name": "stdout",
     "output_type": "stream",
     "text": [
      "(73870, 84)\n",
      "(49247, 84)\n"
     ]
    }
   ],
   "source": [
    "# verify the sizes\n",
    "print(train.shape)\n",
    "print(val_test.shape)"
   ]
  },
  {
   "cell_type": "code",
   "execution_count": 45,
   "id": "da52aa0d-84c4-4af7-af8d-dca9647fc307",
   "metadata": {
    "tags": []
   },
   "outputs": [
    {
     "data": {
      "text/plain": [
       "Attack_type\n",
       "DOS_SYN_Hping                 0.768851\n",
       "Thing_Speak                   0.065859\n",
       "ARP_poisioning                0.062948\n",
       "MQTT_Publish                  0.033681\n",
       "NMAP_UDP_SCAN                 0.021037\n",
       "NMAP_XMAS_TREE_SCAN           0.016326\n",
       "NMAP_OS_DETECTION             0.016245\n",
       "NMAP_TCP_scan                 0.008136\n",
       "DDOS_Slowloris                0.004332\n",
       "Wipro_bulb                    0.002058\n",
       "Metasploit_Brute_Force_SSH    0.000298\n",
       "NMAP_FIN_SCAN                 0.000230\n",
       "Name: proportion, dtype: float64"
      ]
     },
     "execution_count": 45,
     "metadata": {},
     "output_type": "execute_result"
    }
   ],
   "source": [
    "# Check the distribution of the stratified variable for the train dataset\n",
    "train.Attack_type.value_counts(normalize=True)"
   ]
  },
  {
   "cell_type": "code",
   "execution_count": 47,
   "id": "9fd63707-1251-4b41-8736-5951598b0383",
   "metadata": {
    "tags": []
   },
   "outputs": [
    {
     "data": {
      "text/plain": [
       "Attack_type\n",
       "DOS_SYN_Hping                 0.768859\n",
       "Thing_Speak                   0.065852\n",
       "ARP_poisioning                0.062948\n",
       "MQTT_Publish                  0.033667\n",
       "NMAP_UDP_SCAN                 0.021037\n",
       "NMAP_XMAS_TREE_SCAN           0.016326\n",
       "NMAP_OS_DETECTION             0.016245\n",
       "NMAP_TCP_scan                 0.008143\n",
       "DDOS_Slowloris                0.004345\n",
       "Wipro_bulb                    0.002051\n",
       "Metasploit_Brute_Force_SSH    0.000305\n",
       "NMAP_FIN_SCAN                 0.000223\n",
       "Name: proportion, dtype: float64"
      ]
     },
     "execution_count": 47,
     "metadata": {},
     "output_type": "execute_result"
    }
   ],
   "source": [
    "# Check the distribution of the stratified variable for the val_test data\n",
    "val_test.Attack_type.value_counts(normalize=True)"
   ]
  },
  {
   "cell_type": "markdown",
   "id": "7db4c0d1-e9e2-4d07-89b0-501646328086",
   "metadata": {},
   "source": [
    "Everything looks good so far! I can see that the Attack type is almost the same distribution, which is a great sign I did it right!"
   ]
  },
  {
   "cell_type": "code",
   "execution_count": 50,
   "id": "7dea7675-b741-44c2-bce6-d151e2c54b7f",
   "metadata": {
    "tags": []
   },
   "outputs": [],
   "source": [
    "# Separate out the validate and test datasets\n",
    "validate, test = train_test_split(\n",
    "    val_test,\n",
    "    train_size=0.6,\n",
    "    test_size=0.4,\n",
    "    random_state=ranstate,\n",
    "    stratify=val_test.Attack_type\n",
    ")"
   ]
  },
  {
   "cell_type": "code",
   "execution_count": 52,
   "id": "56101cc2-a82a-4d42-9649-3cebaa2a3c34",
   "metadata": {
    "tags": []
   },
   "outputs": [
    {
     "name": "stdout",
     "output_type": "stream",
     "text": [
      "(29548, 84)\n",
      "(19699, 84)\n"
     ]
    }
   ],
   "source": [
    "# Check the shapes of the datasets\n",
    "print(validate.shape)\n",
    "print(test.shape)"
   ]
  },
  {
   "cell_type": "code",
   "execution_count": 54,
   "id": "70229226-5bd2-4853-a2cb-bacdfb61ef96",
   "metadata": {
    "tags": []
   },
   "outputs": [
    {
     "data": {
      "text/plain": [
       "Attack_type\n",
       "DOS_SYN_Hping                 0.768851\n",
       "Thing_Speak                   0.065859\n",
       "ARP_poisioning                0.062948\n",
       "MQTT_Publish                  0.033674\n",
       "NMAP_UDP_SCAN                 0.021017\n",
       "NMAP_XMAS_TREE_SCAN           0.016312\n",
       "NMAP_OS_DETECTION             0.016245\n",
       "NMAP_TCP_scan                 0.008156\n",
       "DDOS_Slowloris                0.004332\n",
       "Wipro_bulb                    0.002064\n",
       "Metasploit_Brute_Force_SSH    0.000305\n",
       "NMAP_FIN_SCAN                 0.000237\n",
       "Name: proportion, dtype: float64"
      ]
     },
     "execution_count": 54,
     "metadata": {},
     "output_type": "execute_result"
    }
   ],
   "source": [
    "# Check the distribution of the validate target variable\n",
    "validate.Attack_type.value_counts(normalize=True)"
   ]
  },
  {
   "cell_type": "code",
   "execution_count": 56,
   "id": "0730db12-c1f7-437a-89c1-74068df44c4a",
   "metadata": {
    "tags": []
   },
   "outputs": [
    {
     "data": {
      "text/plain": [
       "Attack_type\n",
       "DOS_SYN_Hping                 0.768872\n",
       "Thing_Speak                   0.065841\n",
       "ARP_poisioning                0.062947\n",
       "MQTT_Publish                  0.033657\n",
       "NMAP_UDP_SCAN                 0.021067\n",
       "NMAP_XMAS_TREE_SCAN           0.016346\n",
       "NMAP_OS_DETECTION             0.016244\n",
       "NMAP_TCP_scan                 0.008122\n",
       "DDOS_Slowloris                0.004366\n",
       "Wipro_bulb                    0.002031\n",
       "Metasploit_Brute_Force_SSH    0.000305\n",
       "NMAP_FIN_SCAN                 0.000203\n",
       "Name: proportion, dtype: float64"
      ]
     },
     "execution_count": 56,
     "metadata": {},
     "output_type": "execute_result"
    }
   ],
   "source": [
    "# Check the distribution of the test target variable\n",
    "test.Attack_type.value_counts(normalize=True)"
   ]
  },
  {
   "cell_type": "markdown",
   "id": "9f8adeb7-45fd-41b0-ad75-dd5e9e1f68c3",
   "metadata": {},
   "source": [
    "Examining these two datasets, they look just about identical to what I saw before, so everything is distributed correctly.\n",
    "\n",
    "Now let's turn this into an executable function to use later."
   ]
  },
  {
   "cell_type": "code",
   "execution_count": 59,
   "id": "3fded53b-0c6d-4ab2-82e6-14d753e18833",
   "metadata": {
    "tags": []
   },
   "outputs": [],
   "source": [
    "def data_split(df,ranstate):\n",
    "    \"\"\"\n",
    "    Function to split the given DataFrame. Returns three DataFrames containing the split data.\n",
    "    \n",
    "    Parameters:\n",
    "    -----------\n",
    "    - df: DataFrame\n",
    "        The set of data to be split up\n",
    "    - ranstate: Integer\n",
    "        An integer value to define the random state\n",
    "    \n",
    "    Return:\n",
    "    -------\n",
    "    - train: DataFrame\n",
    "    - validate: DataFrame\n",
    "    - test: DataFrame\n",
    "    \n",
    "    \"\"\"\n",
    "    \n",
    "    # Use a copy of the dataset instead of the data itself\n",
    "    copy = df.copy()\n",
    "    \n",
    "    # Split into the train and val_test sets\n",
    "    train, val_test = train_test_split(\n",
    "        copy,\n",
    "        train_size=0.7,\n",
    "        test_size=0.3,\n",
    "        random_state=ranstate,\n",
    "        stratify=copy.Attack_type\n",
    "    )\n",
    "    \n",
    "    # Split the val_test into validate and test sets\n",
    "    validate, test = train_test_split(\n",
    "        val_test,\n",
    "        train_size=0.7,\n",
    "        test_size=0.3,\n",
    "        random_state=ranstate,\n",
    "        stratify=val_test.Attack_type\n",
    "    )\n",
    "    \n",
    "    return train, validate, test"
   ]
  },
  {
   "cell_type": "code",
   "execution_count": 61,
   "id": "8a463c47-f78a-4478-b3e7-503890d8c62a",
   "metadata": {
    "tags": []
   },
   "outputs": [
    {
     "name": "stdout",
     "output_type": "stream",
     "text": [
      "(86181, 84)\n",
      "(25855, 84)\n",
      "(11081, 84)\n"
     ]
    }
   ],
   "source": [
    "# test the newly created function\n",
    "train, validate, test = data_split(df, ranstate)\n",
    "\n",
    "print(train.shape)\n",
    "print(validate.shape)\n",
    "print(test.shape)"
   ]
  },
  {
   "cell_type": "markdown",
   "id": "830c1891-ee76-42ce-835d-91cc364fa51d",
   "metadata": {},
   "source": [
    "### Variable identification\n",
    "\n",
    "I need to understand what these variables are measuring and how to interpret them. I need to understand their correlation with the target variable as well. From these I will begin to assemble an initial data dictionary."
   ]
  },
  {
   "cell_type": "markdown",
   "id": "543b9642-695c-46da-88f4-cfa11c1bb603",
   "metadata": {},
   "source": [
    "| # | Feature | Type | Data Type | Description |\n",
    "|---|---------|------|-----------|-------------|\n",
    "| 1 | id.orig_p | Integer | Integer | The network port used by the origin source |\n",
    "| 2 | id.resp_p | Integer | Integer | The network port used by the responding device |\n",
    "| 3 | proto | Categorical | Object | The protocol utilized in the connection |\n",
    "| 4 | service | Continuous | Object | The type of service used in the connection |\n",
    "| 5 | flow_duration | Continuous | Float | How long the connection lasted between devices |\n",
    "| 6 | fwd_pkts_tot | Integer | Integer | Total packets forwarded in the session |\n",
    "| 7 | bwd_pkts_tot | Integer | Integer | Total packets backward (returned) in the session |\n",
    "| 8 | fwd_data_pkts_tot | Integer | Integer | Total data packets forwarded in the session (excluding control packets) |\n",
    "| 9 | bwd_data_pkts_tot | Integer | Integer | Total data packets backward in the session (excluding control packets) |\n",
    "| 10 | fwd_pkts_per_sec | Continuous | Float | Rate of packets forwarded per second |\n",
    "| 11 | bwd_pkts_per_sec | Continuous | Float | Rate of packets backward per second |\n",
    "| 12 | flow_pkts_per_sec | Continuous | Float | Combined rate of packets per second |\n",
    "| 13 | down_up_ratio | Continuous | Float | Ratio of downstream to upstream traffic |\n",
    "| 14 | fwd_header_size_tot | Integer | Integer | Total size of the header forwarded |\n",
    "| 15 | fwd_header_size_min | Integer | Integer | Smallest header size sent |\n",
    "| 16 | fwd_header_size_max | Integer | Integer | Largest header size sent |\n",
    "| 17 | bwd_header_size_tot | Integer | Integer | Total size of the header returned |\n",
    "| 18 | bwd_header_size_min | Integer | Integer | Smallest header size returned |\n",
    "| 19 | bwd_header_size_max | Integer | Integer | Largest header size returned |\n",
    "| 20 | flow_FIN_flag_count | Integer | Integer | Count of FIN flags signaling the end of data transmission in a session |\n",
    "| 21 | flow_SYN_flag_count | Integer | Integer | Count of SYN flags used to initiate and establish sessions |\n",
    "| 22 | flow_RST_flag_count | Integer | Integer | Count of RST flags used to abruptly terminate sessions |\n",
    "| 23 | fwd_PSH_flag_count | Integer | Integer | Count of PSH flags in forward packets indicating the push of buffered data to the receiving application |\n",
    "| 24 | bwd_PSH_flag_count | Integer | Integer | Count of PSH flags in backward packets indicating the push of buffered data to the sending application |\n",
    "| 25 | flow_ACK_flag_count | Integer | Integer | Count of ACK flags used to acknowledge the receipt of packets |\n",
    "| 26 | fwd_URG_flag_count | Integer | Integer | Count of URG flags in forwarded packets indicating data should be processed urgently |\n",
    "| 27 | bwd_URG_flag_count | Integer | Integer | Count of URG flags in backward packets indicating data should be processed urgently |\n",
    "| 28 | flow_CWR_flag_count | Integer | Integer | Count of CWR (Congestion Window Reduced) flags used by the sender to signal congestion control |\n",
    "| 29 | flow_ECE_flag_count | Integer | Integer | Count of ECE (ECN Echo) flags indicating network congestion without dropping packets |\n",
    "| 30 | fwd_pkts_payload.min | Continuous | Integer | Minimum payload size in forwarded packets |\n",
    "| 31 | fwd_pkts_payload.max | Continuous | Integer | Maximum payload size in forwarded packets |\n",
    "| 32 | fwd_pkts_payload.tot | Continuous | Integer | Total payload size in forwarded packets |\n",
    "| 33 | fwd_pkts_payload.avg | Continuous | Float | Average payload size in forwarded packets |\n",
    "| 34 | fwd_pkts_payload.std | Continuous | Float | Standard deviation of payload sizes in forwarded packets |\n",
    "| 35 | bwd_pkts_payload.min | Continuous | Integer | Minimum payload size in backward packets |\n",
    "| 36 | bwd_pkts_payload.max | Continuous | Integer | Maximum payload size in backward packets |\n",
    "| 37 | bwd_pkts_payload.tot | Continuous | Integer | Total payload size in backward packets |\n",
    "| 38 | bwd_pkts_payload.avg | Continuous | Float | Average payload size in backward packets |\n",
    "| 39 | bwd_pkts_payload.std | Continuous | Float | Standard deviation of payload sizes in backward packets |\n",
    "| 40 | flow_pkts_payload.min | Continuous | Integer | Minimum payload size in the flow |\n",
    "| 41 | flow_pkts_payload.max | Continuous | Integer | Maximum payload size in the flow |\n",
    "| 42 | flow_pkts_payload.tot | Continuous | Integer | Total payload size in the flow |\n",
    "| 43 | flow_pkts_payload.avg | Continuous | Float | Average payload size in the flow |\n",
    "| 44 | flow_pkts_payload.std | Continuous | Float | Standard deviation of payload sizes in the flow |\n",
    "| 45 | fwd_iat.min | Continuous | Float | Minimum inter-arrival time of forwarded packets |\n",
    "| 46 | fwd_iat.max | Continuous | Float | Maximum inter-arrival time of forwarded packets |\n",
    "| 47 | fwd_iat.tot | Continuous | Float | Total inter-arrival time of forwarded packets |\n",
    "| 48 | fwd_iat.avg | Continuous | Float | Average inter-arrival time of forwarded packets |\n",
    "| 49 | fwd_iat.std | Continuous | Float | Standard deviation of inter-arrival times of forwarded packets |\n",
    "| 50 | bwd_iat.min | Continuous | Float | Minimum inter-arrival time of backward packets |\n",
    "| 51 | bwd_iat.max | Continuous | Float | Maximum inter-arrival time of backward packets |\n",
    "| 52 | bwd_iat.tot | Continuous | Float | Total inter-arrival time of backward packets |\n",
    "| 53 | bwd_iat.avg | Continuous | Float | Average inter-arrival time of backward packets |\n",
    "| 54 | bwd_iat.std | Continuous | Float | Standard deviation of inter-arrival times of backward packets |\n",
    "| 55 | flow_iat.min | Continuous | Float | Minimum inter-arrival time in the flow |\n",
    "| 56 | flow_iat.max | Continuous | Float | Maximum inter-arrival time in the flow |\n",
    "| 57 | flow_iat.tot | Continuous | Float | Total inter-arrival time in the flow |\n",
    "| 58 | flow_iat.avg | Continuous | Float | Average inter-arrival time in the flow |\n",
    "| 59 | flow_iat.std | Continuous | Float | Standard deviation of inter-arrival times in the flow |\n",
    "| 60 | payload_bytes_per_second | Continuous | Float | Rate of payload transmission in bytes per second |\n",
    "| 61 | fwd_subflow_pkts | Continuous | Float | Forward subflow packet count |\n",
    "| 62 | bwd_subflow_pkts | Continuous | Float | Backward subflow packet count |\n",
    "| 63 | fwd_subflow_bytes | Continuous | Float | Forward subflow byte count |\n",
    "| 64 | bwd_subflow_bytes | Continuous | Float | Backward subflow byte count |\n",
    "| 65 | fwd_bulk_bytes | Continuous | Float | Forward bulk byte count |\n",
    "| 66 | bwd_bulk_bytes | Continuous | Float | Backward bulk byte count |\n",
    "| 67 | fwd_bulk_packets | Continuous | Float | Forward bulk packet count |\n",
    "| 68 | bwd_bulk_packets | Continuous | Float | Backward bulk packet count |\n",
    "| 69 | fwd_bulk_rate | Continuous | Float | Rate of bulk data transmission in the forward direction |\n",
    "| 70 | bwd_bulk_rate | Continuous | Float | Rate of bulk data transmission in the backward direction |\n",
    "| 71 | active.min | Continuous | Float | Minimum time the flow was active before going idle |\n",
    "| 72 | active.max | Continuous | Float | Maximum time the flow was active before going idle |\n",
    "| 73 | active.tot | Continuous | Float | Total time the flow was active before going idle |\n",
    "| 74 | active.avg | Continuous | Float | Average time the flow was active before going idle |\n",
    "| 75 | active.std | Continuous | Float | Standard deviation of active times before the flow went idle |\n",
    "| 76 | idle.min | Continuous | Float | Minimum time the flow was idle |\n",
    "| 77 | idle.max | Continuous | Float | Maximum time the flow was idle |\n",
    "| 78 | idle.tot | Continuous | Float | Total time the flow was idle |\n",
    "| 79 | idle.avg | Continuous | Float | Average time the flow was idle |\n",
    "| 80 | idle.std | Continuous | Float | Standard deviation of idle times |\n",
    "| 81 | fwd_init_window_size | Integer | Integer | Initial window size in forwarded TCP connections, indicative of congestion handling |\n",
    "| 82 | bwd_init_window_size | Integer | Integer | Initial window size in backward TCP connections, indicative of congestion handling |\n",
    "| 83 | fwd_last_window_size | Integer | Integer | Last window size observed in forwarded TCP connections, can indicate changes in network conditions |\n",
    "| 84 | Attack_type | Categorical | Object | Specifies the type of network traffic, whether normal or related to specific types of network attacks |\n"
   ]
  },
  {
   "cell_type": "code",
   "execution_count": 65,
   "id": "fda8ea18-9de0-4437-8d21-d639c1d5af31",
   "metadata": {
    "tags": []
   },
   "outputs": [],
   "source": [
    "import matplotlib.pyplot as plt\n",
    "import seaborn as sns"
   ]
  },
  {
   "cell_type": "code",
   "execution_count": 66,
   "id": "2deae36b-6f83-48a5-8aa7-9030ecc2cd31",
   "metadata": {
    "tags": []
   },
   "outputs": [
    {
     "data": {
      "image/png": "[encoded data removed]",
      "text/plain": [
       "<Figure size 640x480 with 1 Axes>"
      ]
     },
     "metadata": {},
     "output_type": "display_data"
    },
    {
     "data": {
      "image/png": "[encoded data removed]",
      "text/plain": [
       "<Figure size 640x480 with 1 Axes>"
      ]
     },
     "metadata": {},
     "output_type": "display_data"
    },
    {
     "data": {
      "image/png": "[encoded data removed]",
      "text/plain": [
       "<Figure size 640x480 with 1 Axes>"
      ]
     },
     "metadata": {},
     "output_type": "display_data"
    }
   ],
   "source": [
    "for col in train.columns:\n",
    "    if train[col].dtype == \"object\":\n",
    "        # plt.figure(figsize=(12,6))\n",
    "        sns.countplot(train, x=col)\n",
    "        plt.xticks(rotation=-45,ha=\"left\")\n",
    "        plt.grid(alpha=0.5,axis='y')\n",
    "        plt.show()"
   ]
  },
  {
   "cell_type": "markdown",
   "id": "2f6af6c3-ba24-44ec-a763-9a6254f2008a",
   "metadata": {},
   "source": [
    "So based on this information and the data dictionary, I don't think I'm going to do much modification to this dataset. Everything may be potentially relevant, especially since I aim to predict each individual network pattern."
   ]
  },
  {
   "cell_type": "code",
   "execution_count": 70,
   "id": "a9a32e53-2082-4836-841e-41112da32eca",
   "metadata": {},
   "outputs": [],
   "source": [
    "# Grab numeric features as a list\n",
    "numeric_features = [col for col in train.columns if train[col].dtype != \"object\"]"
   ]
  },
  {
   "cell_type": "code",
   "execution_count": 72,
   "id": "4c9a19ab-3118-411d-ab11-8b3769648277",
   "metadata": {
    "tags": []
   },
   "outputs": [
    {
     "data": {
      "text/html": [
       "<div>\n",
       "<style scoped>\n",
       "    .dataframe tbody tr th:only-of-type {\n",
       "        vertical-align: middle;\n",
       "    }\n",
       "\n",
       "    .dataframe tbody tr th {\n",
       "        vertical-align: top;\n",
       "    }\n",
       "\n",
       "    .dataframe thead th {\n",
       "        text-align: right;\n",
       "    }\n",
       "</style>\n",
       "<table border=\"1\" class=\"dataframe\">\n",
       "  <thead>\n",
       "    <tr style=\"text-align: right;\">\n",
       "      <th></th>\n",
       "      <th>id.orig_p</th>\n",
       "      <th>id.resp_p</th>\n",
       "      <th>flow_duration</th>\n",
       "      <th>fwd_pkts_tot</th>\n",
       "      <th>bwd_pkts_tot</th>\n",
       "      <th>fwd_data_pkts_tot</th>\n",
       "      <th>bwd_data_pkts_tot</th>\n",
       "      <th>fwd_pkts_per_sec</th>\n",
       "      <th>bwd_pkts_per_sec</th>\n",
       "      <th>flow_pkts_per_sec</th>\n",
       "      <th>...</th>\n",
       "      <th>active.avg</th>\n",
       "      <th>active.std</th>\n",
       "      <th>idle.min</th>\n",
       "      <th>idle.max</th>\n",
       "      <th>idle.tot</th>\n",
       "      <th>idle.avg</th>\n",
       "      <th>idle.std</th>\n",
       "      <th>fwd_init_window_size</th>\n",
       "      <th>bwd_init_window_size</th>\n",
       "      <th>fwd_last_window_size</th>\n",
       "    </tr>\n",
       "  </thead>\n",
       "  <tbody>\n",
       "    <tr>\n",
       "      <th>id.orig_p</th>\n",
       "      <td>1.000000</td>\n",
       "      <td>0.169030</td>\n",
       "      <td>0.019028</td>\n",
       "      <td>0.059777</td>\n",
       "      <td>0.047047</td>\n",
       "      <td>0.023580</td>\n",
       "      <td>0.045279</td>\n",
       "      <td>-0.096311</td>\n",
       "      <td>-0.096387</td>\n",
       "      <td>-0.096349</td>\n",
       "      <td>...</td>\n",
       "      <td>0.050315</td>\n",
       "      <td>0.016242</td>\n",
       "      <td>0.120086</td>\n",
       "      <td>0.120194</td>\n",
       "      <td>0.018186</td>\n",
       "      <td>0.120754</td>\n",
       "      <td>0.029665</td>\n",
       "      <td>0.206804</td>\n",
       "      <td>0.178459</td>\n",
       "      <td>0.077421</td>\n",
       "    </tr>\n",
       "    <tr>\n",
       "      <th>id.resp_p</th>\n",
       "      <td>0.169030</td>\n",
       "      <td>1.000000</td>\n",
       "      <td>0.012383</td>\n",
       "      <td>0.003272</td>\n",
       "      <td>-0.008807</td>\n",
       "      <td>-0.005278</td>\n",
       "      <td>-0.002249</td>\n",
       "      <td>-0.136772</td>\n",
       "      <td>-0.136766</td>\n",
       "      <td>-0.136769</td>\n",
       "      <td>...</td>\n",
       "      <td>0.005679</td>\n",
       "      <td>0.000081</td>\n",
       "      <td>0.022864</td>\n",
       "      <td>0.022340</td>\n",
       "      <td>0.012232</td>\n",
       "      <td>0.022749</td>\n",
       "      <td>0.000218</td>\n",
       "      <td>0.037725</td>\n",
       "      <td>-0.011350</td>\n",
       "      <td>0.132063</td>\n",
       "    </tr>\n",
       "    <tr>\n",
       "      <th>flow_duration</th>\n",
       "      <td>0.019028</td>\n",
       "      <td>0.012383</td>\n",
       "      <td>1.000000</td>\n",
       "      <td>0.578753</td>\n",
       "      <td>0.236432</td>\n",
       "      <td>0.491537</td>\n",
       "      <td>0.221056</td>\n",
       "      <td>-0.030624</td>\n",
       "      <td>-0.030618</td>\n",
       "      <td>-0.030621</td>\n",
       "      <td>...</td>\n",
       "      <td>0.056712</td>\n",
       "      <td>0.064867</td>\n",
       "      <td>0.111851</td>\n",
       "      <td>0.161743</td>\n",
       "      <td>0.995360</td>\n",
       "      <td>0.153046</td>\n",
       "      <td>0.137684</td>\n",
       "      <td>0.069657</td>\n",
       "      <td>0.073658</td>\n",
       "      <td>0.004787</td>\n",
       "    </tr>\n",
       "    <tr>\n",
       "      <th>fwd_pkts_tot</th>\n",
       "      <td>0.059777</td>\n",
       "      <td>0.003272</td>\n",
       "      <td>0.578753</td>\n",
       "      <td>1.000000</td>\n",
       "      <td>0.684009</td>\n",
       "      <td>0.909483</td>\n",
       "      <td>0.599318</td>\n",
       "      <td>-0.085389</td>\n",
       "      <td>-0.085424</td>\n",
       "      <td>-0.085407</td>\n",
       "      <td>...</td>\n",
       "      <td>0.312721</td>\n",
       "      <td>0.337930</td>\n",
       "      <td>0.144116</td>\n",
       "      <td>0.194578</td>\n",
       "      <td>0.529664</td>\n",
       "      <td>0.174496</td>\n",
       "      <td>0.186116</td>\n",
       "      <td>0.224148</td>\n",
       "      <td>0.241168</td>\n",
       "      <td>0.010732</td>\n",
       "    </tr>\n",
       "    <tr>\n",
       "      <th>bwd_pkts_tot</th>\n",
       "      <td>0.047047</td>\n",
       "      <td>-0.008807</td>\n",
       "      <td>0.236432</td>\n",
       "      <td>0.684009</td>\n",
       "      <td>1.000000</td>\n",
       "      <td>0.507643</td>\n",
       "      <td>0.949767</td>\n",
       "      <td>-0.057616</td>\n",
       "      <td>-0.057595</td>\n",
       "      <td>-0.057606</td>\n",
       "      <td>...</td>\n",
       "      <td>0.072017</td>\n",
       "      <td>0.122039</td>\n",
       "      <td>0.098437</td>\n",
       "      <td>0.153093</td>\n",
       "      <td>0.233368</td>\n",
       "      <td>0.128226</td>\n",
       "      <td>0.205560</td>\n",
       "      <td>0.168599</td>\n",
       "      <td>0.203995</td>\n",
       "      <td>0.008189</td>\n",
       "    </tr>\n",
       "    <tr>\n",
       "      <th>...</th>\n",
       "      <td>...</td>\n",
       "      <td>...</td>\n",
       "      <td>...</td>\n",
       "      <td>...</td>\n",
       "      <td>...</td>\n",
       "      <td>...</td>\n",
       "      <td>...</td>\n",
       "      <td>...</td>\n",
       "      <td>...</td>\n",
       "      <td>...</td>\n",
       "      <td>...</td>\n",
       "      <td>...</td>\n",
       "      <td>...</td>\n",
       "      <td>...</td>\n",
       "      <td>...</td>\n",
       "      <td>...</td>\n",
       "      <td>...</td>\n",
       "      <td>...</td>\n",
       "      <td>...</td>\n",
       "      <td>...</td>\n",
       "      <td>...</td>\n",
       "    </tr>\n",
       "    <tr>\n",
       "      <th>idle.avg</th>\n",
       "      <td>0.120754</td>\n",
       "      <td>0.022749</td>\n",
       "      <td>0.153046</td>\n",
       "      <td>0.174496</td>\n",
       "      <td>0.128226</td>\n",
       "      <td>0.072550</td>\n",
       "      <td>0.114235</td>\n",
       "      <td>-0.174636</td>\n",
       "      <td>-0.174599</td>\n",
       "      <td>-0.174618</td>\n",
       "      <td>...</td>\n",
       "      <td>0.208769</td>\n",
       "      <td>0.049758</td>\n",
       "      <td>0.993062</td>\n",
       "      <td>0.995667</td>\n",
       "      <td>0.154426</td>\n",
       "      <td>1.000000</td>\n",
       "      <td>0.238202</td>\n",
       "      <td>0.549781</td>\n",
       "      <td>0.490998</td>\n",
       "      <td>-0.000645</td>\n",
       "    </tr>\n",
       "    <tr>\n",
       "      <th>idle.std</th>\n",
       "      <td>0.029665</td>\n",
       "      <td>0.000218</td>\n",
       "      <td>0.137684</td>\n",
       "      <td>0.186116</td>\n",
       "      <td>0.205560</td>\n",
       "      <td>0.101545</td>\n",
       "      <td>0.197075</td>\n",
       "      <td>-0.040470</td>\n",
       "      <td>-0.040461</td>\n",
       "      <td>-0.040466</td>\n",
       "      <td>...</td>\n",
       "      <td>0.025302</td>\n",
       "      <td>0.087473</td>\n",
       "      <td>0.134565</td>\n",
       "      <td>0.319371</td>\n",
       "      <td>0.140041</td>\n",
       "      <td>0.238202</td>\n",
       "      <td>1.000000</td>\n",
       "      <td>0.115200</td>\n",
       "      <td>0.164278</td>\n",
       "      <td>0.005371</td>\n",
       "    </tr>\n",
       "    <tr>\n",
       "      <th>fwd_init_window_size</th>\n",
       "      <td>0.206804</td>\n",
       "      <td>0.037725</td>\n",
       "      <td>0.069657</td>\n",
       "      <td>0.224148</td>\n",
       "      <td>0.168599</td>\n",
       "      <td>0.069627</td>\n",
       "      <td>0.122675</td>\n",
       "      <td>-0.275062</td>\n",
       "      <td>-0.275384</td>\n",
       "      <td>-0.275224</td>\n",
       "      <td>...</td>\n",
       "      <td>0.248333</td>\n",
       "      <td>0.069388</td>\n",
       "      <td>0.547648</td>\n",
       "      <td>0.546314</td>\n",
       "      <td>0.067319</td>\n",
       "      <td>0.549781</td>\n",
       "      <td>0.115200</td>\n",
       "      <td>1.000000</td>\n",
       "      <td>0.833929</td>\n",
       "      <td>0.322356</td>\n",
       "    </tr>\n",
       "    <tr>\n",
       "      <th>bwd_init_window_size</th>\n",
       "      <td>0.178459</td>\n",
       "      <td>-0.011350</td>\n",
       "      <td>0.073658</td>\n",
       "      <td>0.241168</td>\n",
       "      <td>0.203995</td>\n",
       "      <td>0.090211</td>\n",
       "      <td>0.145543</td>\n",
       "      <td>-0.260038</td>\n",
       "      <td>-0.259989</td>\n",
       "      <td>-0.260014</td>\n",
       "      <td>...</td>\n",
       "      <td>0.219870</td>\n",
       "      <td>0.106557</td>\n",
       "      <td>0.481563</td>\n",
       "      <td>0.493385</td>\n",
       "      <td>0.071669</td>\n",
       "      <td>0.490998</td>\n",
       "      <td>0.164278</td>\n",
       "      <td>0.833929</td>\n",
       "      <td>1.000000</td>\n",
       "      <td>-0.001926</td>\n",
       "    </tr>\n",
       "    <tr>\n",
       "      <th>fwd_last_window_size</th>\n",
       "      <td>0.077421</td>\n",
       "      <td>0.132063</td>\n",
       "      <td>0.004787</td>\n",
       "      <td>0.010732</td>\n",
       "      <td>0.008189</td>\n",
       "      <td>-0.006481</td>\n",
       "      <td>0.004506</td>\n",
       "      <td>-0.008046</td>\n",
       "      <td>-0.008033</td>\n",
       "      <td>-0.008040</td>\n",
       "      <td>...</td>\n",
       "      <td>0.015129</td>\n",
       "      <td>0.024496</td>\n",
       "      <td>-0.001484</td>\n",
       "      <td>0.000040</td>\n",
       "      <td>0.003894</td>\n",
       "      <td>-0.000645</td>\n",
       "      <td>0.005371</td>\n",
       "      <td>0.322356</td>\n",
       "      <td>-0.001926</td>\n",
       "      <td>1.000000</td>\n",
       "    </tr>\n",
       "  </tbody>\n",
       "</table>\n",
       "<p>81 rows × 81 columns</p>\n",
       "</div>"
      ],
      "text/plain": [
       "                      id.orig_p  id.resp_p  flow_duration  fwd_pkts_tot  \\\n",
       "id.orig_p              1.000000   0.169030       0.019028      0.059777   \n",
       "id.resp_p              0.169030   1.000000       0.012383      0.003272   \n",
       "flow_duration          0.019028   0.012383       1.000000      0.578753   \n",
       "fwd_pkts_tot           0.059777   0.003272       0.578753      1.000000   \n",
       "bwd_pkts_tot           0.047047  -0.008807       0.236432      0.684009   \n",
       "...                         ...        ...            ...           ...   \n",
       "idle.avg               0.120754   0.022749       0.153046      0.174496   \n",
       "idle.std               0.029665   0.000218       0.137684      0.186116   \n",
       "fwd_init_window_size   0.206804   0.037725       0.069657      0.224148   \n",
       "bwd_init_window_size   0.178459  -0.011350       0.073658      0.241168   \n",
       "fwd_last_window_size   0.077421   0.132063       0.004787      0.010732   \n",
       "\n",
       "                      bwd_pkts_tot  fwd_data_pkts_tot  bwd_data_pkts_tot  \\\n",
       "id.orig_p                 0.047047           0.023580           0.045279   \n",
       "id.resp_p                -0.008807          -0.005278          -0.002249   \n",
       "flow_duration             0.236432           0.491537           0.221056   \n",
       "fwd_pkts_tot              0.684009           0.909483           0.599318   \n",
       "bwd_pkts_tot              1.000000           0.507643           0.949767   \n",
       "...                            ...                ...                ...   \n",
       "idle.avg                  0.128226           0.072550           0.114235   \n",
       "idle.std                  0.205560           0.101545           0.197075   \n",
       "fwd_init_window_size      0.168599           0.069627           0.122675   \n",
       "bwd_init_window_size      0.203995           0.090211           0.145543   \n",
       "fwd_last_window_size      0.008189          -0.006481           0.004506   \n",
       "\n",
       "                      fwd_pkts_per_sec  bwd_pkts_per_sec  flow_pkts_per_sec  \\\n",
       "id.orig_p                    -0.096311         -0.096387          -0.096349   \n",
       "id.resp_p                    -0.136772         -0.136766          -0.136769   \n",
       "flow_duration                -0.030624         -0.030618          -0.030621   \n",
       "fwd_pkts_tot                 -0.085389         -0.085424          -0.085407   \n",
       "bwd_pkts_tot                 -0.057616         -0.057595          -0.057606   \n",
       "...                                ...               ...                ...   \n",
       "idle.avg                     -0.174636         -0.174599          -0.174618   \n",
       "idle.std                     -0.040470         -0.040461          -0.040466   \n",
       "fwd_init_window_size         -0.275062         -0.275384          -0.275224   \n",
       "bwd_init_window_size         -0.260038         -0.259989          -0.260014   \n",
       "fwd_last_window_size         -0.008046         -0.008033          -0.008040   \n",
       "\n",
       "                      ...  active.avg  active.std  idle.min  idle.max  \\\n",
       "id.orig_p             ...    0.050315    0.016242  0.120086  0.120194   \n",
       "id.resp_p             ...    0.005679    0.000081  0.022864  0.022340   \n",
       "flow_duration         ...    0.056712    0.064867  0.111851  0.161743   \n",
       "fwd_pkts_tot          ...    0.312721    0.337930  0.144116  0.194578   \n",
       "bwd_pkts_tot          ...    0.072017    0.122039  0.098437  0.153093   \n",
       "...                   ...         ...         ...       ...       ...   \n",
       "idle.avg              ...    0.208769    0.049758  0.993062  0.995667   \n",
       "idle.std              ...    0.025302    0.087473  0.134565  0.319371   \n",
       "fwd_init_window_size  ...    0.248333    0.069388  0.547648  0.546314   \n",
       "bwd_init_window_size  ...    0.219870    0.106557  0.481563  0.493385   \n",
       "fwd_last_window_size  ...    0.015129    0.024496 -0.001484  0.000040   \n",
       "\n",
       "                      idle.tot  idle.avg  idle.std  fwd_init_window_size  \\\n",
       "id.orig_p             0.018186  0.120754  0.029665              0.206804   \n",
       "id.resp_p             0.012232  0.022749  0.000218              0.037725   \n",
       "flow_duration         0.995360  0.153046  0.137684              0.069657   \n",
       "fwd_pkts_tot          0.529664  0.174496  0.186116              0.224148   \n",
       "bwd_pkts_tot          0.233368  0.128226  0.205560              0.168599   \n",
       "...                        ...       ...       ...                   ...   \n",
       "idle.avg              0.154426  1.000000  0.238202              0.549781   \n",
       "idle.std              0.140041  0.238202  1.000000              0.115200   \n",
       "fwd_init_window_size  0.067319  0.549781  0.115200              1.000000   \n",
       "bwd_init_window_size  0.071669  0.490998  0.164278              0.833929   \n",
       "fwd_last_window_size  0.003894 -0.000645  0.005371              0.322356   \n",
       "\n",
       "                      bwd_init_window_size  fwd_last_window_size  \n",
       "id.orig_p                         0.178459              0.077421  \n",
       "id.resp_p                        -0.011350              0.132063  \n",
       "flow_duration                     0.073658              0.004787  \n",
       "fwd_pkts_tot                      0.241168              0.010732  \n",
       "bwd_pkts_tot                      0.203995              0.008189  \n",
       "...                                    ...                   ...  \n",
       "idle.avg                          0.490998             -0.000645  \n",
       "idle.std                          0.164278              0.005371  \n",
       "fwd_init_window_size              0.833929              0.322356  \n",
       "bwd_init_window_size              1.000000             -0.001926  \n",
       "fwd_last_window_size             -0.001926              1.000000  \n",
       "\n",
       "[81 rows x 81 columns]"
      ]
     },
     "execution_count": 72,
     "metadata": {},
     "output_type": "execute_result"
    }
   ],
   "source": [
    "train[numeric_features].corr()"
   ]
  },
  {
   "cell_type": "code",
   "execution_count": 74,
   "id": "712de772-6737-4167-8055-5932a91db5f1",
   "metadata": {
    "tags": []
   },
   "outputs": [
    {
     "data": {
      "image/png": "[encoded data removed]",
      "text/plain": [
       "<Figure size 1300x1300 with 2 Axes>"
      ]
     },
     "metadata": {},
     "output_type": "display_data"
    }
   ],
   "source": [
    "\n",
    "plt.figure(figsize=(13,13))\n",
    "sns.heatmap(\n",
    "    train[numeric_features].corr(),\n",
    "    xticklabels=numeric_features,\n",
    "    yticklabels=numeric_features\n",
    ")\n",
    "plt.show()"
   ]
  },
  {
   "cell_type": "code",
   "execution_count": 75,
   "id": "ef174884-3ce7-4cb3-b63c-05d2e6e85026",
   "metadata": {
    "tags": []
   },
   "outputs": [
    {
     "data": {
      "text/plain": [
       "id.orig_p              NaN\n",
       "id.resp_p              NaN\n",
       "flow_duration          NaN\n",
       "fwd_pkts_tot           NaN\n",
       "bwd_pkts_tot           NaN\n",
       "                        ..\n",
       "idle.avg               NaN\n",
       "idle.std               NaN\n",
       "fwd_init_window_size   NaN\n",
       "bwd_init_window_size   NaN\n",
       "fwd_last_window_size   NaN\n",
       "Name: bwd_URG_flag_count, Length: 81, dtype: float64"
      ]
     },
     "execution_count": 75,
     "metadata": {},
     "output_type": "execute_result"
    }
   ],
   "source": [
    "# Isolate why there's a blank space\n",
    "train[numeric_features].corr().loc['bwd_URG_flag_count']"
   ]
  },
  {
   "cell_type": "code",
   "execution_count": 76,
   "id": "adc2f5ec-8a8b-41dc-96af-b7a84c2bc209",
   "metadata": {
    "tags": []
   },
   "outputs": [
    {
     "data": {
      "text/plain": [
       "0"
      ]
     },
     "execution_count": 76,
     "metadata": {},
     "output_type": "execute_result"
    }
   ],
   "source": [
    "# Looking at the values of this one feature type to understand why it doesn't correlate with anything\n",
    "train.loc[:,'bwd_URG_flag_count'].sum()"
   ]
  },
  {
   "cell_type": "markdown",
   "id": "b845d573-8a94-42be-891d-77629fc7bff5",
   "metadata": {},
   "source": [
    "While I'm still learning and understanding and developing ways to question the data, I'm going to use leverage ChatGPT to help with ideas and questions to ask.\n",
    "\n",
    "---\n",
    "\n",
    "1. ~Network Behavior Analysis~\n",
    "    - Question: What are the common characteristics of network flow durations for different types of services?\n",
    "    - Prediction: Predict the duration of a network session based on initial packet characteristics such as the number of packets sent/received in the first few seconds of the connection.\n",
    "> This question doesn't really work well because I'm trying to target the attack type. Also, I don't think I have time for this.\n",
    "2. Protocol and Service Analysis\n",
    "    - Question: How do different protocols affect the size and frequency of packets?\n",
    "    - Prediction: Classify the type of service based on the protocol, packet sizes, and transmission rates.\n",
    "> **Idea**: Map protocols/services against frequency of packets. \n",
    "3. Security and Anomaly Detection\n",
    "    - Question: Are there patterns or anomalies in packet transmission that could indicate a security threat or a network attack?\n",
    "    - Prediction: Detect potential security threats (e.g., DDoS, port scanning) by analyzing patterns such as unusual increases in packet rates, specific flag combinations, or abnormal window sizes.\n",
    "> **Idea**: Map rate of duration packets of certain types against target variable\n",
    "4. ~Performance and Optimization~\n",
    "    - Question: What factors contribute to latency in network responses?\n",
    "    - Prediction: Forecast the network latency based on factors like total packets, payload sizes, and flags such as SYN and ACK.\n",
    "> Disregard\n",
    "5. Congestion Analysis\n",
    "    - Question: How does the window size adjustment correlate with the flow control and congestion in the network?\n",
    "    - Prediction: Predict times of congestion based on changes in window sizes, packet rates, and flag counts like CWR and ECE.\n",
    "> \n",
    "6. Traffic Flow Analysis\n",
    "    - Question: What are typical upload/download ratios for different types of connections, and how might they indicate the nature of the traffic?\n",
    "    - Prediction: Identify the directionality of a flow (predominantly upload vs. download) based on the down/up ratio and packet sizes.\n",
    "> \n",
    "7. Network Service Quality\n",
    "    - Question: How does the inter-arrival time of packets affect the quality of streaming services?\n",
    "    - Prediction: Assess the quality of service for real-time applications by analyzing inter-arrival times and jitter (standard deviation of inter-arrival times).\n",
    "> \n",
    "8. Resource Utilization\n",
    "    - Question: Which types of network activities lead to higher resource utilization in terms of bandwidth and data volume?\n",
    "    - Prediction: Predict the bandwidth utilization based on the types of services, packet sizes, and flow durations.\n",
    "> \n",
    "9. Correlation Studies\n",
    "    - Question: How are different network metrics such as packet sizes, flags, and flow durations correlated with each other?\n",
    "    - Analysis: Use correlation matrices and PCA to understand the relationships and principal drivers of network behavior.\n",
    "> \n",
    "---"
   ]
  },
  {
   "cell_type": "markdown",
   "id": "79381f9f-3857-4fb8-bbd1-f54e045d6c58",
   "metadata": {},
   "source": [
    "Accordingly, I'm going to ask the following questions:\n",
    "**Questions**:\n",
    "1. Across duration and size of packets, where do the attack patterns tend to lie? Types of services? Protocols?\n",
    "2. Which services are attack patterns usually targeting?\n",
    "3. Which protocols are attack patterns usually targeting?\n",
    "4. What is the distribution of attacks to normal traffic? How does this compare with the services and protocols being used? How does this compare with the duration and size of packets?"
   ]
  },
  {
   "cell_type": "markdown",
   "id": "1174056a-979b-4ab5-852a-d1e6e596390c",
   "metadata": {},
   "source": [
    "---\n",
    "On top of this, before moving on to the next stage, I am going to use the SciKitLearn PCA tool and also drop the bwd_URG_flag_count, since that seems to be irrelevant across the board."
   ]
  },
  {
   "cell_type": "code",
   "execution_count": 83,
   "id": "476df92d-2c42-4ed5-a9d6-417b4dc58ef8",
   "metadata": {
    "tags": []
   },
   "outputs": [
    {
     "name": "stdout",
     "output_type": "stream",
     "text": [
      "1\n",
      "0\n"
     ]
    }
   ],
   "source": [
    "# Create a list of the columns to be dropped\n",
    "col_drop = ['bwd_URG_flag_count']\n",
    "\n",
    "# Print if the columns are present before removing them.\n",
    "print(train.columns.isin(col_drop).sum())\n",
    "\n",
    "# Drop the columns. Add the errors='ignore' because I'm running this multiple times as I add to it.\n",
    "train = train.drop(col_drop,axis=1,errors='ignore')\n",
    "\n",
    "# Get a summary to verify the columns aren't present.\n",
    "print(train.columns.isin(col_drop).sum())"
   ]
  },
  {
   "cell_type": "markdown",
   "id": "5ccd9d66-2841-4102-a3d9-844b1238a0e8",
   "metadata": {},
   "source": [
    "Great! We'll be using this later. Now onto PCA, which stands for Principal Component Analysis!"
   ]
  },
  {
   "cell_type": "code",
   "execution_count": 86,
   "id": "0b722012-09ad-48d3-a09b-ee54356f5f0b",
   "metadata": {
    "tags": []
   },
   "outputs": [],
   "source": [
    "# Import the desired component\n",
    "from sklearn.decomposition import PCA"
   ]
  },
  {
   "cell_type": "markdown",
   "id": "2e0741bf-d374-416f-887f-2a8248406043",
   "metadata": {},
   "source": [
    "Before I forget, I actually do need to adjust the function. Right now, it always pulls from the internet, but I want it to store the information locally for faster retrieval.\n",
    "\n",
    "### Storage for faster retrieval"
   ]
  },
  {
   "cell_type": "code",
   "execution_count": 99,
   "id": "b43c69c5-e798-4177-9a0c-61c559632bbf",
   "metadata": {
    "tags": []
   },
   "outputs": [
    {
     "name": "stdout",
     "output_type": "stream",
     "text": [
      "Original dataframe shape: (123117, 84)\n",
      "Original columns: Index(['id.orig_p', 'id.resp_p', 'proto', 'service', 'flow_duration',\n",
      "       'fwd_pkts_tot', 'bwd_pkts_tot', 'fwd_data_pkts_tot',\n",
      "       'bwd_data_pkts_tot', 'fwd_pkts_per_sec', 'bwd_pkts_per_sec',\n",
      "       'flow_pkts_per_sec', 'down_up_ratio', 'fwd_header_size_tot',\n",
      "       'fwd_header_size_min', 'fwd_header_size_max', 'bwd_header_size_tot',\n",
      "       'bwd_header_size_min', 'bwd_header_size_max', 'flow_FIN_flag_count',\n",
      "       'flow_SYN_flag_count', 'flow_RST_flag_count', 'fwd_PSH_flag_count',\n",
      "       'bwd_PSH_flag_count', 'flow_ACK_flag_count', 'fwd_URG_flag_count',\n",
      "       'bwd_URG_flag_count', 'flow_CWR_flag_count', 'flow_ECE_flag_count',\n",
      "       'fwd_pkts_payload.min', 'fwd_pkts_payload.max', 'fwd_pkts_payload.tot',\n",
      "       'fwd_pkts_payload.avg', 'fwd_pkts_payload.std', 'bwd_pkts_payload.min',\n",
      "       'bwd_pkts_payload.max', 'bwd_pkts_payload.tot', 'bwd_pkts_payload.avg',\n",
      "       'bwd_pkts_payload.std', 'flow_pkts_payload.min',\n",
      "       'flow_pkts_payload.max', 'flow_pkts_payload.tot',\n",
      "       'flow_pkts_payload.avg', 'flow_pkts_payload.std', 'fwd_iat.min',\n",
      "       'fwd_iat.max', 'fwd_iat.tot', 'fwd_iat.avg', 'fwd_iat.std',\n",
      "       'bwd_iat.min', 'bwd_iat.max', 'bwd_iat.tot', 'bwd_iat.avg',\n",
      "       'bwd_iat.std', 'flow_iat.min', 'flow_iat.max', 'flow_iat.tot',\n",
      "       'flow_iat.avg', 'flow_iat.std', 'payload_bytes_per_second',\n",
      "       'fwd_subflow_pkts', 'bwd_subflow_pkts', 'fwd_subflow_bytes',\n",
      "       'bwd_subflow_bytes', 'fwd_bulk_bytes', 'bwd_bulk_bytes',\n",
      "       'fwd_bulk_packets', 'bwd_bulk_packets', 'fwd_bulk_rate',\n",
      "       'bwd_bulk_rate', 'active.min', 'active.max', 'active.tot', 'active.avg',\n",
      "       'active.std', 'idle.min', 'idle.max', 'idle.tot', 'idle.avg',\n",
      "       'idle.std', 'fwd_init_window_size', 'bwd_init_window_size',\n",
      "       'fwd_last_window_size', 'Attack_type'],\n",
      "      dtype='object')\n"
     ]
    }
   ],
   "source": [
    "# Verify my original dataframe\n",
    "print(f'Original dataframe shape: {df.shape}')\n",
    "print(f'Original columns: {df.columns}')"
   ]
  },
  {
   "cell_type": "code",
   "execution_count": 229,
   "id": "59d44530-d090-4bff-a137-235bf593e229",
   "metadata": {
    "tags": []
   },
   "outputs": [],
   "source": [
    "# add it to a csv\n",
    "df.to_csv('RT_IoT2022.csv')"
   ]
  },
  {
   "cell_type": "code",
   "execution_count": 231,
   "id": "a1471c37-a95a-4d2d-8801-bbcce24e742b",
   "metadata": {
    "tags": []
   },
   "outputs": [],
   "source": [
    "# import os libraries to work with directory services\n",
    "import os,json"
   ]
  },
  {
   "cell_type": "code",
   "execution_count": 233,
   "id": "f9c7ceca-5b0f-4756-a422-d29dc8770ffb",
   "metadata": {
    "tags": []
   },
   "outputs": [],
   "source": [
    "# modify previously made function to check if a file exists\n",
    "def check_file_exists(filename):\n",
    "    \"\"\"\n",
    "    Function takes a filename, query, and url and checks if the file exists. It will load the dataset requested from either SQL or from the local file.\n",
    "    \"\"\"\n",
    "    if os.path.exists(filename):\n",
    "        print('Reading from file...')\n",
    "        df = pd.read_csv(filename,index_col=0)\n",
    "        \n",
    "        return df\n",
    "    else:\n",
    "        return 0 "
   ]
  },
  {
   "cell_type": "code",
   "execution_count": 235,
   "id": "84e9d538-fd4e-4633-b790-4709b3f1b4e1",
   "metadata": {
    "tags": []
   },
   "outputs": [
    {
     "name": "stdout",
     "output_type": "stream",
     "text": [
      "Reading from file...\n"
     ]
    },
    {
     "data": {
      "text/html": [
       "<div>\n",
       "<style scoped>\n",
       "    .dataframe tbody tr th:only-of-type {\n",
       "        vertical-align: middle;\n",
       "    }\n",
       "\n",
       "    .dataframe tbody tr th {\n",
       "        vertical-align: top;\n",
       "    }\n",
       "\n",
       "    .dataframe thead th {\n",
       "        text-align: right;\n",
       "    }\n",
       "</style>\n",
       "<table border=\"1\" class=\"dataframe\">\n",
       "  <thead>\n",
       "    <tr style=\"text-align: right;\">\n",
       "      <th></th>\n",
       "      <th>id.orig_p</th>\n",
       "      <th>id.resp_p</th>\n",
       "      <th>proto</th>\n",
       "      <th>service</th>\n",
       "      <th>flow_duration</th>\n",
       "      <th>fwd_pkts_tot</th>\n",
       "      <th>bwd_pkts_tot</th>\n",
       "      <th>fwd_data_pkts_tot</th>\n",
       "      <th>bwd_data_pkts_tot</th>\n",
       "      <th>fwd_pkts_per_sec</th>\n",
       "      <th>...</th>\n",
       "      <th>active.std</th>\n",
       "      <th>idle.min</th>\n",
       "      <th>idle.max</th>\n",
       "      <th>idle.tot</th>\n",
       "      <th>idle.avg</th>\n",
       "      <th>idle.std</th>\n",
       "      <th>fwd_init_window_size</th>\n",
       "      <th>bwd_init_window_size</th>\n",
       "      <th>fwd_last_window_size</th>\n",
       "      <th>Attack_type</th>\n",
       "    </tr>\n",
       "  </thead>\n",
       "  <tbody>\n",
       "    <tr>\n",
       "      <th>0</th>\n",
       "      <td>38667</td>\n",
       "      <td>1883</td>\n",
       "      <td>tcp</td>\n",
       "      <td>mqtt</td>\n",
       "      <td>32.011598</td>\n",
       "      <td>9</td>\n",
       "      <td>5</td>\n",
       "      <td>3</td>\n",
       "      <td>3</td>\n",
       "      <td>0.281148</td>\n",
       "      <td>...</td>\n",
       "      <td>0.0</td>\n",
       "      <td>29729182.96</td>\n",
       "      <td>29729182.96</td>\n",
       "      <td>29729182.96</td>\n",
       "      <td>29729182.96</td>\n",
       "      <td>0.0</td>\n",
       "      <td>64240</td>\n",
       "      <td>26847</td>\n",
       "      <td>502</td>\n",
       "      <td>MQTT_Publish</td>\n",
       "    </tr>\n",
       "    <tr>\n",
       "      <th>1</th>\n",
       "      <td>51143</td>\n",
       "      <td>1883</td>\n",
       "      <td>tcp</td>\n",
       "      <td>mqtt</td>\n",
       "      <td>31.883584</td>\n",
       "      <td>9</td>\n",
       "      <td>5</td>\n",
       "      <td>3</td>\n",
       "      <td>3</td>\n",
       "      <td>0.282277</td>\n",
       "      <td>...</td>\n",
       "      <td>0.0</td>\n",
       "      <td>29855277.06</td>\n",
       "      <td>29855277.06</td>\n",
       "      <td>29855277.06</td>\n",
       "      <td>29855277.06</td>\n",
       "      <td>0.0</td>\n",
       "      <td>64240</td>\n",
       "      <td>26847</td>\n",
       "      <td>502</td>\n",
       "      <td>MQTT_Publish</td>\n",
       "    </tr>\n",
       "    <tr>\n",
       "      <th>2</th>\n",
       "      <td>44761</td>\n",
       "      <td>1883</td>\n",
       "      <td>tcp</td>\n",
       "      <td>mqtt</td>\n",
       "      <td>32.124053</td>\n",
       "      <td>9</td>\n",
       "      <td>5</td>\n",
       "      <td>3</td>\n",
       "      <td>3</td>\n",
       "      <td>0.280164</td>\n",
       "      <td>...</td>\n",
       "      <td>0.0</td>\n",
       "      <td>29842149.02</td>\n",
       "      <td>29842149.02</td>\n",
       "      <td>29842149.02</td>\n",
       "      <td>29842149.02</td>\n",
       "      <td>0.0</td>\n",
       "      <td>64240</td>\n",
       "      <td>26847</td>\n",
       "      <td>502</td>\n",
       "      <td>MQTT_Publish</td>\n",
       "    </tr>\n",
       "    <tr>\n",
       "      <th>3</th>\n",
       "      <td>60893</td>\n",
       "      <td>1883</td>\n",
       "      <td>tcp</td>\n",
       "      <td>mqtt</td>\n",
       "      <td>31.961063</td>\n",
       "      <td>9</td>\n",
       "      <td>5</td>\n",
       "      <td>3</td>\n",
       "      <td>3</td>\n",
       "      <td>0.281593</td>\n",
       "      <td>...</td>\n",
       "      <td>0.0</td>\n",
       "      <td>29913774.97</td>\n",
       "      <td>29913774.97</td>\n",
       "      <td>29913774.97</td>\n",
       "      <td>29913774.97</td>\n",
       "      <td>0.0</td>\n",
       "      <td>64240</td>\n",
       "      <td>26847</td>\n",
       "      <td>502</td>\n",
       "      <td>MQTT_Publish</td>\n",
       "    </tr>\n",
       "    <tr>\n",
       "      <th>4</th>\n",
       "      <td>51087</td>\n",
       "      <td>1883</td>\n",
       "      <td>tcp</td>\n",
       "      <td>mqtt</td>\n",
       "      <td>31.902362</td>\n",
       "      <td>9</td>\n",
       "      <td>5</td>\n",
       "      <td>3</td>\n",
       "      <td>3</td>\n",
       "      <td>0.282111</td>\n",
       "      <td>...</td>\n",
       "      <td>0.0</td>\n",
       "      <td>29814704.90</td>\n",
       "      <td>29814704.90</td>\n",
       "      <td>29814704.90</td>\n",
       "      <td>29814704.90</td>\n",
       "      <td>0.0</td>\n",
       "      <td>64240</td>\n",
       "      <td>26847</td>\n",
       "      <td>502</td>\n",
       "      <td>MQTT_Publish</td>\n",
       "    </tr>\n",
       "    <tr>\n",
       "      <th>...</th>\n",
       "      <td>...</td>\n",
       "      <td>...</td>\n",
       "      <td>...</td>\n",
       "      <td>...</td>\n",
       "      <td>...</td>\n",
       "      <td>...</td>\n",
       "      <td>...</td>\n",
       "      <td>...</td>\n",
       "      <td>...</td>\n",
       "      <td>...</td>\n",
       "      <td>...</td>\n",
       "      <td>...</td>\n",
       "      <td>...</td>\n",
       "      <td>...</td>\n",
       "      <td>...</td>\n",
       "      <td>...</td>\n",
       "      <td>...</td>\n",
       "      <td>...</td>\n",
       "      <td>...</td>\n",
       "      <td>...</td>\n",
       "      <td>...</td>\n",
       "    </tr>\n",
       "    <tr>\n",
       "      <th>123112</th>\n",
       "      <td>59247</td>\n",
       "      <td>63331</td>\n",
       "      <td>tcp</td>\n",
       "      <td>-</td>\n",
       "      <td>0.000006</td>\n",
       "      <td>1</td>\n",
       "      <td>1</td>\n",
       "      <td>0</td>\n",
       "      <td>0</td>\n",
       "      <td>167772.160000</td>\n",
       "      <td>...</td>\n",
       "      <td>0.0</td>\n",
       "      <td>0.00</td>\n",
       "      <td>0.00</td>\n",
       "      <td>0.00</td>\n",
       "      <td>0.00</td>\n",
       "      <td>0.0</td>\n",
       "      <td>1024</td>\n",
       "      <td>0</td>\n",
       "      <td>1024</td>\n",
       "      <td>NMAP_XMAS_TREE_SCAN</td>\n",
       "    </tr>\n",
       "    <tr>\n",
       "      <th>123113</th>\n",
       "      <td>59247</td>\n",
       "      <td>64623</td>\n",
       "      <td>tcp</td>\n",
       "      <td>-</td>\n",
       "      <td>0.000007</td>\n",
       "      <td>1</td>\n",
       "      <td>1</td>\n",
       "      <td>0</td>\n",
       "      <td>0</td>\n",
       "      <td>144631.172400</td>\n",
       "      <td>...</td>\n",
       "      <td>0.0</td>\n",
       "      <td>0.00</td>\n",
       "      <td>0.00</td>\n",
       "      <td>0.00</td>\n",
       "      <td>0.00</td>\n",
       "      <td>0.0</td>\n",
       "      <td>1024</td>\n",
       "      <td>0</td>\n",
       "      <td>1024</td>\n",
       "      <td>NMAP_XMAS_TREE_SCAN</td>\n",
       "    </tr>\n",
       "    <tr>\n",
       "      <th>123114</th>\n",
       "      <td>59247</td>\n",
       "      <td>64680</td>\n",
       "      <td>tcp</td>\n",
       "      <td>-</td>\n",
       "      <td>0.000006</td>\n",
       "      <td>1</td>\n",
       "      <td>1</td>\n",
       "      <td>0</td>\n",
       "      <td>0</td>\n",
       "      <td>167772.160000</td>\n",
       "      <td>...</td>\n",
       "      <td>0.0</td>\n",
       "      <td>0.00</td>\n",
       "      <td>0.00</td>\n",
       "      <td>0.00</td>\n",
       "      <td>0.00</td>\n",
       "      <td>0.0</td>\n",
       "      <td>1024</td>\n",
       "      <td>0</td>\n",
       "      <td>1024</td>\n",
       "      <td>NMAP_XMAS_TREE_SCAN</td>\n",
       "    </tr>\n",
       "    <tr>\n",
       "      <th>123115</th>\n",
       "      <td>59247</td>\n",
       "      <td>65000</td>\n",
       "      <td>tcp</td>\n",
       "      <td>-</td>\n",
       "      <td>0.000006</td>\n",
       "      <td>1</td>\n",
       "      <td>1</td>\n",
       "      <td>0</td>\n",
       "      <td>0</td>\n",
       "      <td>167772.160000</td>\n",
       "      <td>...</td>\n",
       "      <td>0.0</td>\n",
       "      <td>0.00</td>\n",
       "      <td>0.00</td>\n",
       "      <td>0.00</td>\n",
       "      <td>0.00</td>\n",
       "      <td>0.0</td>\n",
       "      <td>1024</td>\n",
       "      <td>0</td>\n",
       "      <td>1024</td>\n",
       "      <td>NMAP_XMAS_TREE_SCAN</td>\n",
       "    </tr>\n",
       "    <tr>\n",
       "      <th>123116</th>\n",
       "      <td>59247</td>\n",
       "      <td>65129</td>\n",
       "      <td>tcp</td>\n",
       "      <td>-</td>\n",
       "      <td>0.000006</td>\n",
       "      <td>1</td>\n",
       "      <td>1</td>\n",
       "      <td>0</td>\n",
       "      <td>0</td>\n",
       "      <td>167772.160000</td>\n",
       "      <td>...</td>\n",
       "      <td>0.0</td>\n",
       "      <td>0.00</td>\n",
       "      <td>0.00</td>\n",
       "      <td>0.00</td>\n",
       "      <td>0.00</td>\n",
       "      <td>0.0</td>\n",
       "      <td>1024</td>\n",
       "      <td>0</td>\n",
       "      <td>1024</td>\n",
       "      <td>NMAP_XMAS_TREE_SCAN</td>\n",
       "    </tr>\n",
       "  </tbody>\n",
       "</table>\n",
       "<p>123117 rows × 84 columns</p>\n",
       "</div>"
      ],
      "text/plain": [
       "        id.orig_p  id.resp_p proto service  flow_duration  fwd_pkts_tot  \\\n",
       "0           38667       1883   tcp    mqtt      32.011598             9   \n",
       "1           51143       1883   tcp    mqtt      31.883584             9   \n",
       "2           44761       1883   tcp    mqtt      32.124053             9   \n",
       "3           60893       1883   tcp    mqtt      31.961063             9   \n",
       "4           51087       1883   tcp    mqtt      31.902362             9   \n",
       "...           ...        ...   ...     ...            ...           ...   \n",
       "123112      59247      63331   tcp       -       0.000006             1   \n",
       "123113      59247      64623   tcp       -       0.000007             1   \n",
       "123114      59247      64680   tcp       -       0.000006             1   \n",
       "123115      59247      65000   tcp       -       0.000006             1   \n",
       "123116      59247      65129   tcp       -       0.000006             1   \n",
       "\n",
       "        bwd_pkts_tot  fwd_data_pkts_tot  bwd_data_pkts_tot  fwd_pkts_per_sec  \\\n",
       "0                  5                  3                  3          0.281148   \n",
       "1                  5                  3                  3          0.282277   \n",
       "2                  5                  3                  3          0.280164   \n",
       "3                  5                  3                  3          0.281593   \n",
       "4                  5                  3                  3          0.282111   \n",
       "...              ...                ...                ...               ...   \n",
       "123112             1                  0                  0     167772.160000   \n",
       "123113             1                  0                  0     144631.172400   \n",
       "123114             1                  0                  0     167772.160000   \n",
       "123115             1                  0                  0     167772.160000   \n",
       "123116             1                  0                  0     167772.160000   \n",
       "\n",
       "        ...  active.std     idle.min     idle.max     idle.tot     idle.avg  \\\n",
       "0       ...         0.0  29729182.96  29729182.96  29729182.96  29729182.96   \n",
       "1       ...         0.0  29855277.06  29855277.06  29855277.06  29855277.06   \n",
       "2       ...         0.0  29842149.02  29842149.02  29842149.02  29842149.02   \n",
       "3       ...         0.0  29913774.97  29913774.97  29913774.97  29913774.97   \n",
       "4       ...         0.0  29814704.90  29814704.90  29814704.90  29814704.90   \n",
       "...     ...         ...          ...          ...          ...          ...   \n",
       "123112  ...         0.0         0.00         0.00         0.00         0.00   \n",
       "123113  ...         0.0         0.00         0.00         0.00         0.00   \n",
       "123114  ...         0.0         0.00         0.00         0.00         0.00   \n",
       "123115  ...         0.0         0.00         0.00         0.00         0.00   \n",
       "123116  ...         0.0         0.00         0.00         0.00         0.00   \n",
       "\n",
       "        idle.std  fwd_init_window_size  bwd_init_window_size  \\\n",
       "0            0.0                 64240                 26847   \n",
       "1            0.0                 64240                 26847   \n",
       "2            0.0                 64240                 26847   \n",
       "3            0.0                 64240                 26847   \n",
       "4            0.0                 64240                 26847   \n",
       "...          ...                   ...                   ...   \n",
       "123112       0.0                  1024                     0   \n",
       "123113       0.0                  1024                     0   \n",
       "123114       0.0                  1024                     0   \n",
       "123115       0.0                  1024                     0   \n",
       "123116       0.0                  1024                     0   \n",
       "\n",
       "        fwd_last_window_size          Attack_type  \n",
       "0                        502         MQTT_Publish  \n",
       "1                        502         MQTT_Publish  \n",
       "2                        502         MQTT_Publish  \n",
       "3                        502         MQTT_Publish  \n",
       "4                        502         MQTT_Publish  \n",
       "...                      ...                  ...  \n",
       "123112                  1024  NMAP_XMAS_TREE_SCAN  \n",
       "123113                  1024  NMAP_XMAS_TREE_SCAN  \n",
       "123114                  1024  NMAP_XMAS_TREE_SCAN  \n",
       "123115                  1024  NMAP_XMAS_TREE_SCAN  \n",
       "123116                  1024  NMAP_XMAS_TREE_SCAN  \n",
       "\n",
       "[123117 rows x 84 columns]"
      ]
     },
     "execution_count": 235,
     "metadata": {},
     "output_type": "execute_result"
    }
   ],
   "source": [
    "check_file_exists(filename='RT_IoT2022.csv')"
   ]
  },
  {
   "cell_type": "code",
   "execution_count": 237,
   "id": "5daeef9e-7fda-46b5-8c3e-b4d8893c6a47",
   "metadata": {
    "tags": []
   },
   "outputs": [],
   "source": [
    "os.remove('RT_IoT2022.csv')"
   ]
  },
  {
   "cell_type": "code",
   "execution_count": 239,
   "id": "81fbc0d0-89b4-43dc-8992-d0cf53278d88",
   "metadata": {
    "tags": []
   },
   "outputs": [
    {
     "data": {
      "text/plain": [
       "0"
      ]
     },
     "execution_count": 239,
     "metadata": {},
     "output_type": "execute_result"
    }
   ],
   "source": [
    "check_file_exists(filename='RT_IoT2022.csv')"
   ]
  },
  {
   "cell_type": "code",
   "execution_count": 241,
   "id": "25e912e0-d6b1-4d23-8ea4-7cd6b4f5e39f",
   "metadata": {
    "tags": []
   },
   "outputs": [],
   "source": [
    "df,rt_data = acquire_iot2022()"
   ]
  },
  {
   "cell_type": "code",
   "execution_count": 263,
   "id": "12eeeccf-4074-4e5e-955c-b350e7d7d810",
   "metadata": {
    "tags": []
   },
   "outputs": [],
   "source": [
    "# Modify the previously made function and test it again\n",
    "def acquire_iot2022():\n",
    "    \"\"\"\n",
    "    Function to download and import the RT-IoT2022 dataset. Takes no parameters. Assumes the ucimlrepo has already been installed.\n",
    "    \n",
    "    Parameters:\n",
    "    -----------\n",
    "    - None\n",
    "    \n",
    "    Return:\n",
    "    -------\n",
    "    - Pandas DataFrame containing the RT IoT2022 information dataset\n",
    "    - Dictionary object containing all RT IoT2022 data, including metadata.\n",
    "    \"\"\"\n",
    "    # Define the filename\n",
    "    fname = 'RT_IoT2022.csv'\n",
    "    \n",
    "    df = check_file_exists(filename=fname)\n",
    "    \n",
    "    # download the data if 0 was returned\n",
    "    if type(df)==type(0):\n",
    "        try:\n",
    "            from ucimlrepo import fetch_ucirepo \n",
    "\n",
    "            # Fetch dataset \n",
    "            rt_iot2022 = fetch_ucirepo(id=942)\n",
    "\n",
    "            # Concatenate the two datasets\n",
    "            df = pd.concat([rt_iot2022.data.features,rt_iot2022.data.targets],axis=1)\n",
    "            \n",
    "            # Create a csv copy\n",
    "            df.to_csv(fname)\n",
    "\n",
    "        except:\n",
    "            print(\"Import failed due to 1 or more of the following reasons:\\n\\t - User is missing the UC Irvine Python package.\\n\\t - Dataset is no longer available at the queried location.\\n\\t - Some of the libraries in use have changed.\")\n",
    "            \n",
    "    # Return the dataframe\n",
    "    return df.copy()"
   ]
  },
  {
   "cell_type": "code",
   "execution_count": 265,
   "id": "e5c2a42e-3178-439b-b961-527648ce4b34",
   "metadata": {
    "tags": []
   },
   "outputs": [
    {
     "data": {
      "text/plain": [
       "pandas.core.frame.DataFrame"
      ]
     },
     "execution_count": 265,
     "metadata": {},
     "output_type": "execute_result"
    }
   ],
   "source": [
    "type(df)"
   ]
  },
  {
   "cell_type": "code",
   "execution_count": 267,
   "id": "cb1e033d-4afa-47b1-87bc-759393ac04d8",
   "metadata": {
    "tags": []
   },
   "outputs": [
    {
     "data": {
      "text/plain": [
       "True"
      ]
     },
     "execution_count": 267,
     "metadata": {},
     "output_type": "execute_result"
    }
   ],
   "source": [
    "type(0) == type(0)"
   ]
  },
  {
   "cell_type": "code",
   "execution_count": 271,
   "id": "b9fb5955-3e12-4522-b5d5-ddbab109542e",
   "metadata": {
    "tags": []
   },
   "outputs": [
    {
     "name": "stdout",
     "output_type": "stream",
     "text": [
      "Reading from file...\n"
     ]
    }
   ],
   "source": [
    "df = acquire_iot2022()"
   ]
  },
  {
   "cell_type": "code",
   "execution_count": 277,
   "id": "d44e0fe5-7d58-4ab8-bb86-4e8141bc413c",
   "metadata": {
    "tags": []
   },
   "outputs": [
    {
     "data": {
      "text/html": [
       "<div>\n",
       "<style scoped>\n",
       "    .dataframe tbody tr th:only-of-type {\n",
       "        vertical-align: middle;\n",
       "    }\n",
       "\n",
       "    .dataframe tbody tr th {\n",
       "        vertical-align: top;\n",
       "    }\n",
       "\n",
       "    .dataframe thead th {\n",
       "        text-align: right;\n",
       "    }\n",
       "</style>\n",
       "<table border=\"1\" class=\"dataframe\">\n",
       "  <thead>\n",
       "    <tr style=\"text-align: right;\">\n",
       "      <th></th>\n",
       "      <th>id.orig_p</th>\n",
       "      <th>id.resp_p</th>\n",
       "      <th>proto</th>\n",
       "      <th>service</th>\n",
       "      <th>flow_duration</th>\n",
       "      <th>fwd_pkts_tot</th>\n",
       "      <th>bwd_pkts_tot</th>\n",
       "      <th>fwd_data_pkts_tot</th>\n",
       "      <th>bwd_data_pkts_tot</th>\n",
       "      <th>fwd_pkts_per_sec</th>\n",
       "      <th>...</th>\n",
       "      <th>active.std</th>\n",
       "      <th>idle.min</th>\n",
       "      <th>idle.max</th>\n",
       "      <th>idle.tot</th>\n",
       "      <th>idle.avg</th>\n",
       "      <th>idle.std</th>\n",
       "      <th>fwd_init_window_size</th>\n",
       "      <th>bwd_init_window_size</th>\n",
       "      <th>fwd_last_window_size</th>\n",
       "      <th>Attack_type</th>\n",
       "    </tr>\n",
       "  </thead>\n",
       "  <tbody>\n",
       "    <tr>\n",
       "      <th>107152</th>\n",
       "      <td>1719</td>\n",
       "      <td>21</td>\n",
       "      <td>tcp</td>\n",
       "      <td>-</td>\n",
       "      <td>0.000001</td>\n",
       "      <td>1</td>\n",
       "      <td>1</td>\n",
       "      <td>1</td>\n",
       "      <td>0</td>\n",
       "      <td>1.048576e+06</td>\n",
       "      <td>...</td>\n",
       "      <td>0.0</td>\n",
       "      <td>0.0</td>\n",
       "      <td>0.0</td>\n",
       "      <td>0.0</td>\n",
       "      <td>0.0</td>\n",
       "      <td>0.0</td>\n",
       "      <td>64</td>\n",
       "      <td>0</td>\n",
       "      <td>64</td>\n",
       "      <td>DOS_SYN_Hping</td>\n",
       "    </tr>\n",
       "    <tr>\n",
       "      <th>33288</th>\n",
       "      <td>15339</td>\n",
       "      <td>21</td>\n",
       "      <td>tcp</td>\n",
       "      <td>-</td>\n",
       "      <td>0.000004</td>\n",
       "      <td>1</td>\n",
       "      <td>1</td>\n",
       "      <td>1</td>\n",
       "      <td>0</td>\n",
       "      <td>2.467238e+05</td>\n",
       "      <td>...</td>\n",
       "      <td>0.0</td>\n",
       "      <td>0.0</td>\n",
       "      <td>0.0</td>\n",
       "      <td>0.0</td>\n",
       "      <td>0.0</td>\n",
       "      <td>0.0</td>\n",
       "      <td>64</td>\n",
       "      <td>0</td>\n",
       "      <td>64</td>\n",
       "      <td>DOS_SYN_Hping</td>\n",
       "    </tr>\n",
       "    <tr>\n",
       "      <th>33283</th>\n",
       "      <td>15334</td>\n",
       "      <td>21</td>\n",
       "      <td>tcp</td>\n",
       "      <td>-</td>\n",
       "      <td>0.000005</td>\n",
       "      <td>1</td>\n",
       "      <td>1</td>\n",
       "      <td>1</td>\n",
       "      <td>0</td>\n",
       "      <td>1.997288e+05</td>\n",
       "      <td>...</td>\n",
       "      <td>0.0</td>\n",
       "      <td>0.0</td>\n",
       "      <td>0.0</td>\n",
       "      <td>0.0</td>\n",
       "      <td>0.0</td>\n",
       "      <td>0.0</td>\n",
       "      <td>64</td>\n",
       "      <td>0</td>\n",
       "      <td>64</td>\n",
       "      <td>DOS_SYN_Hping</td>\n",
       "    </tr>\n",
       "    <tr>\n",
       "      <th>70993</th>\n",
       "      <td>53119</td>\n",
       "      <td>21</td>\n",
       "      <td>tcp</td>\n",
       "      <td>-</td>\n",
       "      <td>0.000004</td>\n",
       "      <td>1</td>\n",
       "      <td>1</td>\n",
       "      <td>1</td>\n",
       "      <td>0</td>\n",
       "      <td>2.621440e+05</td>\n",
       "      <td>...</td>\n",
       "      <td>0.0</td>\n",
       "      <td>0.0</td>\n",
       "      <td>0.0</td>\n",
       "      <td>0.0</td>\n",
       "      <td>0.0</td>\n",
       "      <td>0.0</td>\n",
       "      <td>64</td>\n",
       "      <td>0</td>\n",
       "      <td>64</td>\n",
       "      <td>DOS_SYN_Hping</td>\n",
       "    </tr>\n",
       "    <tr>\n",
       "      <th>50160</th>\n",
       "      <td>32281</td>\n",
       "      <td>21</td>\n",
       "      <td>tcp</td>\n",
       "      <td>-</td>\n",
       "      <td>0.000000</td>\n",
       "      <td>1</td>\n",
       "      <td>0</td>\n",
       "      <td>1</td>\n",
       "      <td>0</td>\n",
       "      <td>0.000000e+00</td>\n",
       "      <td>...</td>\n",
       "      <td>0.0</td>\n",
       "      <td>0.0</td>\n",
       "      <td>0.0</td>\n",
       "      <td>0.0</td>\n",
       "      <td>0.0</td>\n",
       "      <td>0.0</td>\n",
       "      <td>64</td>\n",
       "      <td>0</td>\n",
       "      <td>64</td>\n",
       "      <td>DOS_SYN_Hping</td>\n",
       "    </tr>\n",
       "  </tbody>\n",
       "</table>\n",
       "<p>5 rows × 84 columns</p>\n",
       "</div>"
      ],
      "text/plain": [
       "        id.orig_p  id.resp_p proto service  flow_duration  fwd_pkts_tot  \\\n",
       "107152       1719         21   tcp       -       0.000001             1   \n",
       "33288       15339         21   tcp       -       0.000004             1   \n",
       "33283       15334         21   tcp       -       0.000005             1   \n",
       "70993       53119         21   tcp       -       0.000004             1   \n",
       "50160       32281         21   tcp       -       0.000000             1   \n",
       "\n",
       "        bwd_pkts_tot  fwd_data_pkts_tot  bwd_data_pkts_tot  fwd_pkts_per_sec  \\\n",
       "107152             1                  1                  0      1.048576e+06   \n",
       "33288              1                  1                  0      2.467238e+05   \n",
       "33283              1                  1                  0      1.997288e+05   \n",
       "70993              1                  1                  0      2.621440e+05   \n",
       "50160              0                  1                  0      0.000000e+00   \n",
       "\n",
       "        ...  active.std  idle.min  idle.max  idle.tot  idle.avg  idle.std  \\\n",
       "107152  ...         0.0       0.0       0.0       0.0       0.0       0.0   \n",
       "33288   ...         0.0       0.0       0.0       0.0       0.0       0.0   \n",
       "33283   ...         0.0       0.0       0.0       0.0       0.0       0.0   \n",
       "70993   ...         0.0       0.0       0.0       0.0       0.0       0.0   \n",
       "50160   ...         0.0       0.0       0.0       0.0       0.0       0.0   \n",
       "\n",
       "        fwd_init_window_size  bwd_init_window_size  fwd_last_window_size  \\\n",
       "107152                    64                     0                    64   \n",
       "33288                     64                     0                    64   \n",
       "33283                     64                     0                    64   \n",
       "70993                     64                     0                    64   \n",
       "50160                     64                     0                    64   \n",
       "\n",
       "          Attack_type  \n",
       "107152  DOS_SYN_Hping  \n",
       "33288   DOS_SYN_Hping  \n",
       "33283   DOS_SYN_Hping  \n",
       "70993   DOS_SYN_Hping  \n",
       "50160   DOS_SYN_Hping  \n",
       "\n",
       "[5 rows x 84 columns]"
      ]
     },
     "execution_count": 277,
     "metadata": {},
     "output_type": "execute_result"
    }
   ],
   "source": [
    "df.sample(5)"
   ]
  },
  {
   "cell_type": "code",
   "execution_count": 279,
   "id": "8b42461c-6cb0-4721-b76d-f54a39c97fe5",
   "metadata": {
    "tags": []
   },
   "outputs": [
    {
     "data": {
      "text/plain": [
       "(123117, 84)"
      ]
     },
     "execution_count": 279,
     "metadata": {},
     "output_type": "execute_result"
    }
   ],
   "source": [
    "df.shape"
   ]
  },
  {
   "cell_type": "markdown",
   "id": "60ab97bc-5d52-4602-8fe9-c11118d5fee3",
   "metadata": {},
   "source": [
    "### PCA\n",
    "Now that I've made that adjustment, it's time to return to PCA!"
   ]
  },
  {
   "cell_type": "code",
   "execution_count": 286,
   "id": "77bad543-caa0-4a5b-ab49-b31b91935163",
   "metadata": {
    "tags": []
   },
   "outputs": [],
   "source": [
    "# Import the PCA function\n",
    "from sklearn.decomposition import PCA"
   ]
  },
  {
   "cell_type": "code",
   "execution_count": 294,
   "id": "056f5ec8-633c-43f6-ab3c-737a5190cf86",
   "metadata": {
    "tags": []
   },
   "outputs": [
    {
     "data": {
      "text/html": [
       "<style>#sk-container-id-2 {color: black;background-color: white;}#sk-container-id-2 pre{padding: 0;}#sk-container-id-2 div.sk-toggleable {background-color: white;}#sk-container-id-2 label.sk-toggleable__label {cursor: pointer;display: block;width: 100%;margin-bottom: 0;padding: 0.3em;box-sizing: border-box;text-align: center;}#sk-container-id-2 label.sk-toggleable__label-arrow:before {content: \"▸\";float: left;margin-right: 0.25em;color: #696969;}#sk-container-id-2 label.sk-toggleable__label-arrow:hover:before {color: black;}#sk-container-id-2 div.sk-estimator:hover label.sk-toggleable__label-arrow:before {color: black;}#sk-container-id-2 div.sk-toggleable__content {max-height: 0;max-width: 0;overflow: hidden;text-align: left;background-color: #f0f8ff;}#sk-container-id-2 div.sk-toggleable__content pre {margin: 0.2em;color: black;border-radius: 0.25em;background-color: #f0f8ff;}#sk-container-id-2 input.sk-toggleable__control:checked~div.sk-toggleable__content {max-height: 200px;max-width: 100%;overflow: auto;}#sk-container-id-2 input.sk-toggleable__control:checked~label.sk-toggleable__label-arrow:before {content: \"▾\";}#sk-container-id-2 div.sk-estimator input.sk-toggleable__control:checked~label.sk-toggleable__label {background-color: #d4ebff;}#sk-container-id-2 div.sk-label input.sk-toggleable__control:checked~label.sk-toggleable__label {background-color: #d4ebff;}#sk-container-id-2 input.sk-hidden--visually {border: 0;clip: rect(1px 1px 1px 1px);clip: rect(1px, 1px, 1px, 1px);height: 1px;margin: -1px;overflow: hidden;padding: 0;position: absolute;width: 1px;}#sk-container-id-2 div.sk-estimator {font-family: monospace;background-color: #f0f8ff;border: 1px dotted black;border-radius: 0.25em;box-sizing: border-box;margin-bottom: 0.5em;}#sk-container-id-2 div.sk-estimator:hover {background-color: #d4ebff;}#sk-container-id-2 div.sk-parallel-item::after {content: \"\";width: 100%;border-bottom: 1px solid gray;flex-grow: 1;}#sk-container-id-2 div.sk-label:hover label.sk-toggleable__label {background-color: #d4ebff;}#sk-container-id-2 div.sk-serial::before {content: \"\";position: absolute;border-left: 1px solid gray;box-sizing: border-box;top: 0;bottom: 0;left: 50%;z-index: 0;}#sk-container-id-2 div.sk-serial {display: flex;flex-direction: column;align-items: center;background-color: white;padding-right: 0.2em;padding-left: 0.2em;position: relative;}#sk-container-id-2 div.sk-item {position: relative;z-index: 1;}#sk-container-id-2 div.sk-parallel {display: flex;align-items: stretch;justify-content: center;background-color: white;position: relative;}#sk-container-id-2 div.sk-item::before, #sk-container-id-2 div.sk-parallel-item::before {content: \"\";position: absolute;border-left: 1px solid gray;box-sizing: border-box;top: 0;bottom: 0;left: 50%;z-index: -1;}#sk-container-id-2 div.sk-parallel-item {display: flex;flex-direction: column;z-index: 1;position: relative;background-color: white;}#sk-container-id-2 div.sk-parallel-item:first-child::after {align-self: flex-end;width: 50%;}#sk-container-id-2 div.sk-parallel-item:last-child::after {align-self: flex-start;width: 50%;}#sk-container-id-2 div.sk-parallel-item:only-child::after {width: 0;}#sk-container-id-2 div.sk-dashed-wrapped {border: 1px dashed gray;margin: 0 0.4em 0.5em 0.4em;box-sizing: border-box;padding-bottom: 0.4em;background-color: white;}#sk-container-id-2 div.sk-label label {font-family: monospace;font-weight: bold;display: inline-block;line-height: 1.2em;}#sk-container-id-2 div.sk-label-container {text-align: center;}#sk-container-id-2 div.sk-container {/* jupyter's `normalize.less` sets `[hidden] { display: none; }` but bootstrap.min.css set `[hidden] { display: none !important; }` so we also need the `!important` here to be able to override the default hidden behavior on the sphinx rendered scikit-learn.org. See: https://github.com/scikit-learn/scikit-learn/issues/21755 */display: inline-block !important;position: relative;}#sk-container-id-2 div.sk-text-repr-fallback {display: none;}</style><div id=\"sk-container-id-2\" class=\"sk-top-container\"><div class=\"sk-text-repr-fallback\"><pre>PCA(random_state=42)</pre><b>In a Jupyter environment, please rerun this cell to show the HTML representation or trust the notebook. <br />On GitHub, the HTML representation is unable to render, please try loading this page with nbviewer.org.</b></div><div class=\"sk-container\" hidden><div class=\"sk-item\"><div class=\"sk-estimator sk-toggleable\"><input class=\"sk-toggleable__control sk-hidden--visually\" id=\"sk-estimator-id-2\" type=\"checkbox\" checked><label for=\"sk-estimator-id-2\" class=\"sk-toggleable__label sk-toggleable__label-arrow\">PCA</label><div class=\"sk-toggleable__content\"><pre>PCA(random_state=42)</pre></div></div></div></div></div>"
      ],
      "text/plain": [
       "PCA(random_state=42)"
      ]
     },
     "execution_count": 294,
     "metadata": {},
     "output_type": "execute_result"
    }
   ],
   "source": [
    "# Create the object\n",
    "pca = PCA(random_state=ranstate)\n",
    "pca"
   ]
  },
  {
   "cell_type": "code",
   "execution_count": 353,
   "id": "7a3ec76d-aa3d-48ca-98b6-c7bfa44af5a2",
   "metadata": {
    "tags": []
   },
   "outputs": [
    {
     "name": "stdout",
     "output_type": "stream",
     "text": [
      "(86181, 84)\n",
      "(25855, 84)\n",
      "(11081, 84)\n"
     ]
    }
   ],
   "source": [
    "train,validate,test = data_split(df,ranstate=ranstate)\n",
    "print(train.shape)\n",
    "print(validate.shape)\n",
    "print(test.shape)"
   ]
  },
  {
   "cell_type": "code",
   "execution_count": 355,
   "id": "b7ddd011-9956-4eea-9d72-9366ff32e8ec",
   "metadata": {
    "tags": []
   },
   "outputs": [],
   "source": [
    "# # Attempt to fit the data\n",
    "# pca.fit(train)"
   ]
  },
  {
   "cell_type": "markdown",
   "id": "1c5ba303-5da8-487e-a3cb-05a2f5d332b4",
   "metadata": {},
   "source": [
    "So this results in an error. In that case, I'll save PCA for later."
   ]
  },
  {
   "cell_type": "code",
   "execution_count": 358,
   "id": "83dbfd40-8ee9-4d80-a49b-cf87380b1a74",
   "metadata": {
    "tags": []
   },
   "outputs": [
    {
     "data": {
      "text/plain": [
       "service\n",
       "-         71996\n",
       "dns        6813\n",
       "mqtt       2893\n",
       "http       2432\n",
       "ssl        1877\n",
       "ntp          84\n",
       "dhcp         35\n",
       "irc          31\n",
       "ssh          18\n",
       "radius        2\n",
       "Name: count, dtype: int64"
      ]
     },
     "execution_count": 358,
     "metadata": {},
     "output_type": "execute_result"
    }
   ],
   "source": [
    "# Revisit the service column\n",
    "train.service.value_counts()"
   ]
  },
  {
   "cell_type": "markdown",
   "id": "eff4ff4f-a05e-44be-afbe-c15b2e2e7580",
   "metadata": {},
   "source": [
    "So I'm assuming the '-' is just standard traffic, so I'm going to fill that with \"None\""
   ]
  },
  {
   "cell_type": "code",
   "execution_count": 361,
   "id": "afe8656b-68dd-4293-89b2-4c25d09cee5e",
   "metadata": {
    "tags": []
   },
   "outputs": [],
   "source": [
    "# remap using lambda and apply\n",
    "train.service = train.service.apply(lambda x: 'none' if x == '-' else x)"
   ]
  },
  {
   "cell_type": "code",
   "execution_count": 365,
   "id": "c2e9d5c2-7751-46ee-85ee-0766382a46d5",
   "metadata": {
    "tags": []
   },
   "outputs": [
    {
     "data": {
      "text/plain": [
       "service\n",
       "none      71996\n",
       "dns        6813\n",
       "mqtt       2893\n",
       "http       2432\n",
       "ssl        1877\n",
       "ntp          84\n",
       "dhcp         35\n",
       "irc          31\n",
       "ssh          18\n",
       "radius        2\n",
       "Name: count, dtype: int64"
      ]
     },
     "execution_count": 365,
     "metadata": {},
     "output_type": "execute_result"
    }
   ],
   "source": [
    "train.service.value_counts()"
   ]
  },
  {
   "cell_type": "markdown",
   "id": "c73bf8af-0858-4bf0-a3b8-30f0a25397dd",
   "metadata": {},
   "source": [
    "I also want to verify that the 'bwd_URG_flag_count' column is empty on each data set"
   ]
  },
  {
   "cell_type": "code",
   "execution_count": 376,
   "id": "c251ff2e-d3c7-4ade-9e36-beb73d8cd5a3",
   "metadata": {
    "tags": []
   },
   "outputs": [
    {
     "data": {
      "text/plain": [
       "0"
      ]
     },
     "execution_count": 376,
     "metadata": {},
     "output_type": "execute_result"
    }
   ],
   "source": [
    "train.loc[:,'bwd_URG_flag_count'].sum()"
   ]
  },
  {
   "cell_type": "code",
   "execution_count": 380,
   "id": "72a27352-4963-47e6-8302-b28619e079bb",
   "metadata": {
    "tags": []
   },
   "outputs": [
    {
     "data": {
      "text/plain": [
       "0"
      ]
     },
     "execution_count": 380,
     "metadata": {},
     "output_type": "execute_result"
    }
   ],
   "source": [
    "validate.loc[:,'bwd_URG_flag_count'].sum()"
   ]
  },
  {
   "cell_type": "code",
   "execution_count": 391,
   "id": "037d11ae-e694-4af3-9c04-6079ecf17baf",
   "metadata": {
    "tags": []
   },
   "outputs": [
    {
     "data": {
      "text/plain": [
       "0"
      ]
     },
     "execution_count": 391,
     "metadata": {},
     "output_type": "execute_result"
    }
   ],
   "source": [
    "test.loc[:,'bwd_URG_flag_count'].sum()"
   ]
  },
  {
   "cell_type": "code",
   "execution_count": 395,
   "id": "1be7e638-aada-4c82-9661-969cb13326f4",
   "metadata": {
    "tags": []
   },
   "outputs": [
    {
     "data": {
      "text/plain": [
       "1"
      ]
     },
     "execution_count": 395,
     "metadata": {},
     "output_type": "execute_result"
    }
   ],
   "source": [
    "# Isolate determining if there is a single value in a column\n",
    "len(train.bwd_URG_flag_count.value_counts())"
   ]
  },
  {
   "cell_type": "code",
   "execution_count": 405,
   "id": "47ab9226-32ea-4e68-a1af-614b492c64ae",
   "metadata": {
    "tags": []
   },
   "outputs": [
    {
     "data": {
      "text/plain": [
       "['bwd_URG_flag_count']"
      ]
     },
     "execution_count": 405,
     "metadata": {},
     "output_type": "execute_result"
    }
   ],
   "source": [
    "# Run extra test to find any other columns where there is a single value\n",
    "\n",
    "# Initiate a collector list\n",
    "single_val_cols = []\n",
    "\n",
    "for col in train.columns:\n",
    "    # print(col)\n",
    "    \n",
    "    if len(train[col].value_counts()) == 1:\n",
    "        # print(col)\n",
    "        single_val_cols.append(col)\n",
    "\n",
    "single_val_cols"
   ]
  },
  {
   "cell_type": "code",
   "execution_count": 409,
   "id": "aa92b902-fd7f-40c3-b408-02c1e3c14c24",
   "metadata": {
    "tags": []
   },
   "outputs": [
    {
     "data": {
      "text/plain": [
       "['bwd_URG_flag_count']"
      ]
     },
     "execution_count": 409,
     "metadata": {},
     "output_type": "execute_result"
    }
   ],
   "source": [
    "# Initiate a collector list\n",
    "single_val_cols = []\n",
    "\n",
    "for col in validate.columns:\n",
    "    # print(col)\n",
    "    \n",
    "    if len(validate[col].value_counts()) == 1:\n",
    "        # print(col)\n",
    "        single_val_cols.append(col)\n",
    "\n",
    "single_val_cols"
   ]
  },
  {
   "cell_type": "code",
   "execution_count": 411,
   "id": "14ba6920-4456-421c-956f-8197a04ca04e",
   "metadata": {
    "tags": []
   },
   "outputs": [
    {
     "data": {
      "text/plain": [
       "['bwd_URG_flag_count']"
      ]
     },
     "execution_count": 411,
     "metadata": {},
     "output_type": "execute_result"
    }
   ],
   "source": [
    "# Initiate a collector list\n",
    "single_val_cols = []\n",
    "\n",
    "for col in test.columns:\n",
    "    # print(col)\n",
    "    \n",
    "    if len(test[col].value_counts()) == 1:\n",
    "        # print(col)\n",
    "        single_val_cols.append(col)\n",
    "\n",
    "single_val_cols"
   ]
  },
  {
   "cell_type": "markdown",
   "id": "59534624-2794-4953-be3e-3ed50f868cc8",
   "metadata": {},
   "source": [
    "It is, so I'm definitely removing it here!\n",
    "\n",
    "I also want to add another column that denotes whether the attack type is normal traffic or an actual attack. I need to rely on the information from the original page for that, which says:\n",
    "\n",
    "The Dataset contains both Attack patterns and Normal Patterns. \n",
    "\n",
    "Attacks patterns Details: \n",
    "1. DOS_SYN_Hping------------------------94659\n",
    "2. ARP_poisoning--------------------------7750\n",
    "3. NMAP_UDP_SCAN--------------------2590\n",
    "4. NMAP_XMAS_TREE_SCAN--------2010\n",
    "5. NMAP_OS_DETECTION-------------2000\n",
    "6. NMAP_TCP_scan-----------------------1002\n",
    "7. DDOS_Slowloris------------------------534\n",
    "8. Metasploit_Brute_Force_SSH---------37\n",
    "9. NMAP_FIN_SCAN---------------------28\n",
    "\n",
    "Normal Patterns Details:\n",
    "\n",
    "1. MQTT -----------------------------------8108\n",
    "2. Thing_speak-----------------------------4146\n",
    "3. Wipro_bulb_Dataset-------------------253 \n",
    "4. Amazon-Alexa -----------------------86842\n",
    "\n"
   ]
  },
  {
   "cell_type": "code",
   "execution_count": 501,
   "id": "9bebaec8-98bb-483d-abe2-67d144dcc3c1",
   "metadata": {
    "tags": []
   },
   "outputs": [],
   "source": [
    "normal_pattern = ['MQTT_Publish','Thing_Speak','Wipro_bulb','Amazon-Alexa']"
   ]
  },
  {
   "cell_type": "code",
   "execution_count": 521,
   "id": "e69f4b3a-050f-4ba2-a4f5-9c408311f9f5",
   "metadata": {
    "tags": []
   },
   "outputs": [
    {
     "data": {
      "text/plain": [
       "8754"
      ]
     },
     "execution_count": 521,
     "metadata": {},
     "output_type": "execute_result"
    }
   ],
   "source": [
    "train.Attack_type.isin(normal_pattern).sum()"
   ]
  },
  {
   "cell_type": "code",
   "execution_count": 517,
   "id": "ca89add4-e88f-48f3-ac1c-ccae752e1b19",
   "metadata": {
    "tags": []
   },
   "outputs": [],
   "source": [
    "train['traffic_type'] = np.where(train.Attack_type.isin(normal_pattern),'Normal','Attack')"
   ]
  },
  {
   "cell_type": "code",
   "execution_count": 519,
   "id": "7f1d6bfc-5f09-41a9-8ede-4aa3003c4076",
   "metadata": {
    "tags": []
   },
   "outputs": [
    {
     "data": {
      "text/plain": [
       "traffic_type\n",
       "Attack    77427\n",
       "Normal     8754\n",
       "Name: count, dtype: int64"
      ]
     },
     "execution_count": 519,
     "metadata": {},
     "output_type": "execute_result"
    }
   ],
   "source": [
    "train.traffic_type.value_counts()"
   ]
  },
  {
   "cell_type": "code",
   "execution_count": 523,
   "id": "4ab41ef6-3060-4af5-a4e7-343538e7a7bc",
   "metadata": {
    "tags": []
   },
   "outputs": [],
   "source": [
    "def clean_data(df):\n",
    "    \"\"\"\n",
    "    Take the RT_IoT2022 dataframe and clean and prepare it for usage.\n",
    "    \n",
    "    Parameters:\n",
    "    -----------\n",
    "    - df: DataFrame\n",
    "        The DataFrame (train, validate, test, or full) to be cleaned\n",
    "    \n",
    "    Return:\n",
    "    -------\n",
    "    - copy_df: DataFrame\n",
    "        The DataFrame cleaned and prepared for usage\n",
    "    \n",
    "    \"\"\"\n",
    "    \n",
    "    # Create a copy to work with\n",
    "    copy_df = df.copy()\n",
    "    \n",
    "    # remap using lambda and apply\n",
    "    copy_df.service = copy_df.service.apply(lambda x: 'none' if x == '-' else x)\n",
    "    \n",
    "    # Fix the spelling error on ARP poisoning\n",
    "    copy_df.Attack_type.apply(lambda x:'ARP_poisoning' if x=='ARP_poisioning' else x)\n",
    "    \n",
    "    # Initiate a collector list\n",
    "    single_val_cols = []\n",
    "\n",
    "    # Find any columns that have only a single value in them\n",
    "    for col in copy_df.columns:\n",
    "        # print(col)\n",
    "\n",
    "        if len(copy_df[col].value_counts()) == 1:\n",
    "            # print(col)\n",
    "            single_val_cols.append(col)\n",
    "    \n",
    "    # Drop any single value columns\n",
    "    copy_df = copy_df.drop(single_val_cols,axis=1,errors='ignore')\n",
    "    \n",
    "    # Add a column denoting attack or normal pattern\n",
    "    normal_pattern = ['MQTT_Publish','Thing_Speak','Wipro_bulb','Amazon-Alexa']\n",
    "    copy_df['traffic_type'] = np.where(copy_df.Attack_type.isin(normal_pattern),'Normal','Attack')\n",
    "    \n",
    "    return copy_df"
   ]
  },
  {
   "cell_type": "code",
   "execution_count": 421,
   "id": "1146d8f9-ec09-4b98-9440-7b502744d02e",
   "metadata": {
    "tags": []
   },
   "outputs": [
    {
     "data": {
      "text/plain": [
       "(123117, 83)"
      ]
     },
     "execution_count": 421,
     "metadata": {},
     "output_type": "execute_result"
    }
   ],
   "source": [
    "clean_data(df).shape"
   ]
  },
  {
   "cell_type": "code",
   "execution_count": 423,
   "id": "e238d802-1b52-467e-94de-fb6860f5d53c",
   "metadata": {
    "tags": []
   },
   "outputs": [
    {
     "data": {
      "text/plain": [
       "(86181, 83)"
      ]
     },
     "execution_count": 423,
     "metadata": {},
     "output_type": "execute_result"
    }
   ],
   "source": [
    "clean_data(train).shape"
   ]
  },
  {
   "cell_type": "markdown",
   "id": "60137902-5be4-42e8-9272-b587887e2f0c",
   "metadata": {},
   "source": [
    "### Do it all!\n",
    "Now I need to build a function that acquires and prepares the data for my usage!"
   ]
  },
  {
   "cell_type": "code",
   "execution_count": 436,
   "id": "b1f8c314-5d88-4c9b-a284-03a5aae30674",
   "metadata": {
    "tags": []
   },
   "outputs": [
    {
     "name": "stdout",
     "output_type": "stream",
     "text": [
      "Reading from file...\n"
     ]
    }
   ],
   "source": [
    "df = acquire_iot2022()"
   ]
  },
  {
   "cell_type": "code",
   "execution_count": 442,
   "id": "35adc1aa-fdbf-4fb9-ac21-97b1276f8a3e",
   "metadata": {
    "tags": []
   },
   "outputs": [
    {
     "data": {
      "text/plain": [
       "(123117, 84)"
      ]
     },
     "execution_count": 442,
     "metadata": {},
     "output_type": "execute_result"
    }
   ],
   "source": [
    "df.shape"
   ]
  },
  {
   "cell_type": "code",
   "execution_count": 444,
   "id": "5d2fbc1d-51c1-41a8-8b13-2912f2c36b69",
   "metadata": {
    "tags": []
   },
   "outputs": [
    {
     "data": {
      "text/plain": [
       "(123117, 83)"
      ]
     },
     "execution_count": 444,
     "metadata": {},
     "output_type": "execute_result"
    }
   ],
   "source": [
    "df = clean_data(df)\n",
    "df.shape"
   ]
  },
  {
   "cell_type": "code",
   "execution_count": 446,
   "id": "5c66165c-f276-4aa3-9ed1-3ddda8c20e6e",
   "metadata": {
    "tags": []
   },
   "outputs": [
    {
     "name": "stdout",
     "output_type": "stream",
     "text": [
      "(86181, 83)\n",
      "(25855, 83)\n",
      "(11081, 83)\n"
     ]
    }
   ],
   "source": [
    "train,validate,test = data_split(df,ranstate=ranstate)\n",
    "print(train.shape)\n",
    "print(validate.shape)\n",
    "print(test.shape)"
   ]
  },
  {
   "cell_type": "code",
   "execution_count": 448,
   "id": "872b6fbd-bcbd-41c5-a816-261cabaae66a",
   "metadata": {
    "tags": []
   },
   "outputs": [],
   "source": [
    "def wrangle_iot2022():\n",
    "    \"\"\"\n",
    "    Summary function that acquires, cleans, and returns the RT_IoT2022 data\n",
    "    \"\"\"\n",
    "    ranstate = 42\n",
    "    \n",
    "    # Acquire\n",
    "    df = acquire_iot2022()\n",
    "    \n",
    "    # Clean\n",
    "    df = clean_data(df)\n",
    "    \n",
    "    # Split\n",
    "    train,validate,test = data_split(df,ranstate=ranstate)\n",
    "    \n",
    "    return [train,validate,test]"
   ]
  },
  {
   "cell_type": "code",
   "execution_count": 450,
   "id": "2f11a598-b76e-434f-864b-b008c65bc94e",
   "metadata": {
    "tags": []
   },
   "outputs": [
    {
     "name": "stdout",
     "output_type": "stream",
     "text": [
      "Reading from file...\n"
     ]
    },
    {
     "data": {
      "text/plain": [
       "3"
      ]
     },
     "execution_count": 450,
     "metadata": {},
     "output_type": "execute_result"
    }
   ],
   "source": [
    "df_set = wrangle_iot2022()\n",
    "len(df_set)"
   ]
  },
  {
   "cell_type": "code",
   "execution_count": 452,
   "id": "35d9ae2a-edf8-4d3a-a3b2-f613b946a336",
   "metadata": {
    "tags": []
   },
   "outputs": [
    {
     "data": {
      "text/html": [
       "<div>\n",
       "<style scoped>\n",
       "    .dataframe tbody tr th:only-of-type {\n",
       "        vertical-align: middle;\n",
       "    }\n",
       "\n",
       "    .dataframe tbody tr th {\n",
       "        vertical-align: top;\n",
       "    }\n",
       "\n",
       "    .dataframe thead th {\n",
       "        text-align: right;\n",
       "    }\n",
       "</style>\n",
       "<table border=\"1\" class=\"dataframe\">\n",
       "  <thead>\n",
       "    <tr style=\"text-align: right;\">\n",
       "      <th></th>\n",
       "      <th>id.orig_p</th>\n",
       "      <th>id.resp_p</th>\n",
       "      <th>proto</th>\n",
       "      <th>service</th>\n",
       "      <th>flow_duration</th>\n",
       "      <th>fwd_pkts_tot</th>\n",
       "      <th>bwd_pkts_tot</th>\n",
       "      <th>fwd_data_pkts_tot</th>\n",
       "      <th>bwd_data_pkts_tot</th>\n",
       "      <th>fwd_pkts_per_sec</th>\n",
       "      <th>...</th>\n",
       "      <th>active.std</th>\n",
       "      <th>idle.min</th>\n",
       "      <th>idle.max</th>\n",
       "      <th>idle.tot</th>\n",
       "      <th>idle.avg</th>\n",
       "      <th>idle.std</th>\n",
       "      <th>fwd_init_window_size</th>\n",
       "      <th>bwd_init_window_size</th>\n",
       "      <th>fwd_last_window_size</th>\n",
       "      <th>Attack_type</th>\n",
       "    </tr>\n",
       "  </thead>\n",
       "  <tbody>\n",
       "    <tr>\n",
       "      <th>25767</th>\n",
       "      <td>7818</td>\n",
       "      <td>21</td>\n",
       "      <td>tcp</td>\n",
       "      <td>none</td>\n",
       "      <td>0.000004</td>\n",
       "      <td>1</td>\n",
       "      <td>1</td>\n",
       "      <td>1</td>\n",
       "      <td>0</td>\n",
       "      <td>2.467238e+05</td>\n",
       "      <td>...</td>\n",
       "      <td>0.0</td>\n",
       "      <td>0.0</td>\n",
       "      <td>0.0</td>\n",
       "      <td>0.0</td>\n",
       "      <td>0.0</td>\n",
       "      <td>0.0</td>\n",
       "      <td>64</td>\n",
       "      <td>0</td>\n",
       "      <td>64</td>\n",
       "      <td>DOS_SYN_Hping</td>\n",
       "    </tr>\n",
       "    <tr>\n",
       "      <th>46188</th>\n",
       "      <td>28240</td>\n",
       "      <td>21</td>\n",
       "      <td>tcp</td>\n",
       "      <td>none</td>\n",
       "      <td>0.000004</td>\n",
       "      <td>1</td>\n",
       "      <td>1</td>\n",
       "      <td>1</td>\n",
       "      <td>0</td>\n",
       "      <td>2.621440e+05</td>\n",
       "      <td>...</td>\n",
       "      <td>0.0</td>\n",
       "      <td>0.0</td>\n",
       "      <td>0.0</td>\n",
       "      <td>0.0</td>\n",
       "      <td>0.0</td>\n",
       "      <td>0.0</td>\n",
       "      <td>64</td>\n",
       "      <td>0</td>\n",
       "      <td>64</td>\n",
       "      <td>DOS_SYN_Hping</td>\n",
       "    </tr>\n",
       "    <tr>\n",
       "      <th>43289</th>\n",
       "      <td>25341</td>\n",
       "      <td>21</td>\n",
       "      <td>tcp</td>\n",
       "      <td>none</td>\n",
       "      <td>0.000000</td>\n",
       "      <td>1</td>\n",
       "      <td>0</td>\n",
       "      <td>1</td>\n",
       "      <td>0</td>\n",
       "      <td>0.000000e+00</td>\n",
       "      <td>...</td>\n",
       "      <td>0.0</td>\n",
       "      <td>0.0</td>\n",
       "      <td>0.0</td>\n",
       "      <td>0.0</td>\n",
       "      <td>0.0</td>\n",
       "      <td>0.0</td>\n",
       "      <td>64</td>\n",
       "      <td>0</td>\n",
       "      <td>64</td>\n",
       "      <td>DOS_SYN_Hping</td>\n",
       "    </tr>\n",
       "    <tr>\n",
       "      <th>38474</th>\n",
       "      <td>20526</td>\n",
       "      <td>21</td>\n",
       "      <td>tcp</td>\n",
       "      <td>none</td>\n",
       "      <td>0.000004</td>\n",
       "      <td>1</td>\n",
       "      <td>1</td>\n",
       "      <td>1</td>\n",
       "      <td>0</td>\n",
       "      <td>2.467238e+05</td>\n",
       "      <td>...</td>\n",
       "      <td>0.0</td>\n",
       "      <td>0.0</td>\n",
       "      <td>0.0</td>\n",
       "      <td>0.0</td>\n",
       "      <td>0.0</td>\n",
       "      <td>0.0</td>\n",
       "      <td>64</td>\n",
       "      <td>0</td>\n",
       "      <td>64</td>\n",
       "      <td>DOS_SYN_Hping</td>\n",
       "    </tr>\n",
       "    <tr>\n",
       "      <th>18646</th>\n",
       "      <td>33928</td>\n",
       "      <td>137</td>\n",
       "      <td>udp</td>\n",
       "      <td>dns</td>\n",
       "      <td>0.000000</td>\n",
       "      <td>1</td>\n",
       "      <td>0</td>\n",
       "      <td>1</td>\n",
       "      <td>0</td>\n",
       "      <td>0.000000e+00</td>\n",
       "      <td>...</td>\n",
       "      <td>0.0</td>\n",
       "      <td>0.0</td>\n",
       "      <td>0.0</td>\n",
       "      <td>0.0</td>\n",
       "      <td>0.0</td>\n",
       "      <td>0.0</td>\n",
       "      <td>0</td>\n",
       "      <td>0</td>\n",
       "      <td>0</td>\n",
       "      <td>ARP_poisioning</td>\n",
       "    </tr>\n",
       "    <tr>\n",
       "      <th>...</th>\n",
       "      <td>...</td>\n",
       "      <td>...</td>\n",
       "      <td>...</td>\n",
       "      <td>...</td>\n",
       "      <td>...</td>\n",
       "      <td>...</td>\n",
       "      <td>...</td>\n",
       "      <td>...</td>\n",
       "      <td>...</td>\n",
       "      <td>...</td>\n",
       "      <td>...</td>\n",
       "      <td>...</td>\n",
       "      <td>...</td>\n",
       "      <td>...</td>\n",
       "      <td>...</td>\n",
       "      <td>...</td>\n",
       "      <td>...</td>\n",
       "      <td>...</td>\n",
       "      <td>...</td>\n",
       "      <td>...</td>\n",
       "      <td>...</td>\n",
       "    </tr>\n",
       "    <tr>\n",
       "      <th>21220</th>\n",
       "      <td>3269</td>\n",
       "      <td>21</td>\n",
       "      <td>tcp</td>\n",
       "      <td>none</td>\n",
       "      <td>0.000005</td>\n",
       "      <td>1</td>\n",
       "      <td>1</td>\n",
       "      <td>1</td>\n",
       "      <td>0</td>\n",
       "      <td>1.997288e+05</td>\n",
       "      <td>...</td>\n",
       "      <td>0.0</td>\n",
       "      <td>0.0</td>\n",
       "      <td>0.0</td>\n",
       "      <td>0.0</td>\n",
       "      <td>0.0</td>\n",
       "      <td>0.0</td>\n",
       "      <td>64</td>\n",
       "      <td>0</td>\n",
       "      <td>64</td>\n",
       "      <td>DOS_SYN_Hping</td>\n",
       "    </tr>\n",
       "    <tr>\n",
       "      <th>112074</th>\n",
       "      <td>9479</td>\n",
       "      <td>21</td>\n",
       "      <td>tcp</td>\n",
       "      <td>none</td>\n",
       "      <td>0.000002</td>\n",
       "      <td>1</td>\n",
       "      <td>1</td>\n",
       "      <td>1</td>\n",
       "      <td>0</td>\n",
       "      <td>4.660338e+05</td>\n",
       "      <td>...</td>\n",
       "      <td>0.0</td>\n",
       "      <td>0.0</td>\n",
       "      <td>0.0</td>\n",
       "      <td>0.0</td>\n",
       "      <td>0.0</td>\n",
       "      <td>0.0</td>\n",
       "      <td>64</td>\n",
       "      <td>0</td>\n",
       "      <td>64</td>\n",
       "      <td>DOS_SYN_Hping</td>\n",
       "    </tr>\n",
       "    <tr>\n",
       "      <th>27467</th>\n",
       "      <td>9518</td>\n",
       "      <td>21</td>\n",
       "      <td>tcp</td>\n",
       "      <td>none</td>\n",
       "      <td>0.000006</td>\n",
       "      <td>1</td>\n",
       "      <td>1</td>\n",
       "      <td>1</td>\n",
       "      <td>0</td>\n",
       "      <td>1.677722e+05</td>\n",
       "      <td>...</td>\n",
       "      <td>0.0</td>\n",
       "      <td>0.0</td>\n",
       "      <td>0.0</td>\n",
       "      <td>0.0</td>\n",
       "      <td>0.0</td>\n",
       "      <td>0.0</td>\n",
       "      <td>64</td>\n",
       "      <td>0</td>\n",
       "      <td>64</td>\n",
       "      <td>DOS_SYN_Hping</td>\n",
       "    </tr>\n",
       "    <tr>\n",
       "      <th>77094</th>\n",
       "      <td>9106</td>\n",
       "      <td>21</td>\n",
       "      <td>tcp</td>\n",
       "      <td>none</td>\n",
       "      <td>0.000003</td>\n",
       "      <td>1</td>\n",
       "      <td>1</td>\n",
       "      <td>1</td>\n",
       "      <td>0</td>\n",
       "      <td>3.226388e+05</td>\n",
       "      <td>...</td>\n",
       "      <td>0.0</td>\n",
       "      <td>0.0</td>\n",
       "      <td>0.0</td>\n",
       "      <td>0.0</td>\n",
       "      <td>0.0</td>\n",
       "      <td>0.0</td>\n",
       "      <td>64</td>\n",
       "      <td>0</td>\n",
       "      <td>64</td>\n",
       "      <td>DOS_SYN_Hping</td>\n",
       "    </tr>\n",
       "    <tr>\n",
       "      <th>100613</th>\n",
       "      <td>64999</td>\n",
       "      <td>21</td>\n",
       "      <td>tcp</td>\n",
       "      <td>none</td>\n",
       "      <td>0.000001</td>\n",
       "      <td>1</td>\n",
       "      <td>1</td>\n",
       "      <td>1</td>\n",
       "      <td>0</td>\n",
       "      <td>1.048576e+06</td>\n",
       "      <td>...</td>\n",
       "      <td>0.0</td>\n",
       "      <td>0.0</td>\n",
       "      <td>0.0</td>\n",
       "      <td>0.0</td>\n",
       "      <td>0.0</td>\n",
       "      <td>0.0</td>\n",
       "      <td>64</td>\n",
       "      <td>0</td>\n",
       "      <td>64</td>\n",
       "      <td>DOS_SYN_Hping</td>\n",
       "    </tr>\n",
       "  </tbody>\n",
       "</table>\n",
       "<p>86181 rows × 83 columns</p>\n",
       "</div>"
      ],
      "text/plain": [
       "        id.orig_p  id.resp_p proto service  flow_duration  fwd_pkts_tot  \\\n",
       "25767        7818         21   tcp    none       0.000004             1   \n",
       "46188       28240         21   tcp    none       0.000004             1   \n",
       "43289       25341         21   tcp    none       0.000000             1   \n",
       "38474       20526         21   tcp    none       0.000004             1   \n",
       "18646       33928        137   udp     dns       0.000000             1   \n",
       "...           ...        ...   ...     ...            ...           ...   \n",
       "21220        3269         21   tcp    none       0.000005             1   \n",
       "112074       9479         21   tcp    none       0.000002             1   \n",
       "27467        9518         21   tcp    none       0.000006             1   \n",
       "77094        9106         21   tcp    none       0.000003             1   \n",
       "100613      64999         21   tcp    none       0.000001             1   \n",
       "\n",
       "        bwd_pkts_tot  fwd_data_pkts_tot  bwd_data_pkts_tot  fwd_pkts_per_sec  \\\n",
       "25767              1                  1                  0      2.467238e+05   \n",
       "46188              1                  1                  0      2.621440e+05   \n",
       "43289              0                  1                  0      0.000000e+00   \n",
       "38474              1                  1                  0      2.467238e+05   \n",
       "18646              0                  1                  0      0.000000e+00   \n",
       "...              ...                ...                ...               ...   \n",
       "21220              1                  1                  0      1.997288e+05   \n",
       "112074             1                  1                  0      4.660338e+05   \n",
       "27467              1                  1                  0      1.677722e+05   \n",
       "77094              1                  1                  0      3.226388e+05   \n",
       "100613             1                  1                  0      1.048576e+06   \n",
       "\n",
       "        ...  active.std  idle.min  idle.max  idle.tot  idle.avg  idle.std  \\\n",
       "25767   ...         0.0       0.0       0.0       0.0       0.0       0.0   \n",
       "46188   ...         0.0       0.0       0.0       0.0       0.0       0.0   \n",
       "43289   ...         0.0       0.0       0.0       0.0       0.0       0.0   \n",
       "38474   ...         0.0       0.0       0.0       0.0       0.0       0.0   \n",
       "18646   ...         0.0       0.0       0.0       0.0       0.0       0.0   \n",
       "...     ...         ...       ...       ...       ...       ...       ...   \n",
       "21220   ...         0.0       0.0       0.0       0.0       0.0       0.0   \n",
       "112074  ...         0.0       0.0       0.0       0.0       0.0       0.0   \n",
       "27467   ...         0.0       0.0       0.0       0.0       0.0       0.0   \n",
       "77094   ...         0.0       0.0       0.0       0.0       0.0       0.0   \n",
       "100613  ...         0.0       0.0       0.0       0.0       0.0       0.0   \n",
       "\n",
       "        fwd_init_window_size  bwd_init_window_size  fwd_last_window_size  \\\n",
       "25767                     64                     0                    64   \n",
       "46188                     64                     0                    64   \n",
       "43289                     64                     0                    64   \n",
       "38474                     64                     0                    64   \n",
       "18646                      0                     0                     0   \n",
       "...                      ...                   ...                   ...   \n",
       "21220                     64                     0                    64   \n",
       "112074                    64                     0                    64   \n",
       "27467                     64                     0                    64   \n",
       "77094                     64                     0                    64   \n",
       "100613                    64                     0                    64   \n",
       "\n",
       "           Attack_type  \n",
       "25767    DOS_SYN_Hping  \n",
       "46188    DOS_SYN_Hping  \n",
       "43289    DOS_SYN_Hping  \n",
       "38474    DOS_SYN_Hping  \n",
       "18646   ARP_poisioning  \n",
       "...                ...  \n",
       "21220    DOS_SYN_Hping  \n",
       "112074   DOS_SYN_Hping  \n",
       "27467    DOS_SYN_Hping  \n",
       "77094    DOS_SYN_Hping  \n",
       "100613   DOS_SYN_Hping  \n",
       "\n",
       "[86181 rows x 83 columns]"
      ]
     },
     "execution_count": 452,
     "metadata": {},
     "output_type": "execute_result"
    }
   ],
   "source": [
    "df_set[0]"
   ]
  },
  {
   "cell_type": "code",
   "execution_count": null,
   "id": "2c7a43a2-ff68-47c5-a83c-ea55650fd8bc",
   "metadata": {},
   "outputs": [],
   "source": []
  }
 ],
 "metadata": {
  "kernelspec": {
   "display_name": "Python 3 (ipykernel)",
   "language": "python",
   "name": "python3"
  },
  "language_info": {
   "codemirror_mode": {
    "name": "ipython",
    "version": 3
   },
   "file_extension": ".py",
   "mimetype": "text/x-python",
   "name": "python",
   "nbconvert_exporter": "python",
   "pygments_lexer": "ipython3",
   "version": "3.11.5"
  }
 },
 "nbformat": 4,
 "nbformat_minor": 5
}
